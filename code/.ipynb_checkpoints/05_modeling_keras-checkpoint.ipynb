{
 "cells": [
  {
   "cell_type": "markdown",
   "metadata": {},
   "source": [
    "## 5 - Modeling\n",
    "> Explain Step"
   ]
  },
  {
   "cell_type": "markdown",
   "metadata": {},
   "source": [
    "### 5.0 - Import Libraries"
   ]
  },
  {
   "cell_type": "code",
   "execution_count": 3,
   "metadata": {},
   "outputs": [],
   "source": [
    "import pandas as pd\n",
    "import numpy as np\n",
    "import matplotlib.pyplot as plt\n",
    "# import gensim\n",
    "\n",
    "from sklearn.model_selection import train_test_split\n",
    "from sklearn.preprocessing import StandardScaler\n",
    "\n",
    "from tensorflow.keras import utils\n",
    "from tensorflow.keras.preprocessing.text import Tokenizer\n",
    "from tensorflow.keras.preprocessing.sequence import pad_sequences\n",
    "from tensorflow.keras.models import Sequential\n",
    "from tensorflow.keras import layers\n",
    "from tensorflow.keras.metrics import AUC"
   ]
  },
  {
   "cell_type": "code",
   "execution_count": 2,
   "metadata": {},
   "outputs": [],
   "source": [
    "plt.style.use('seaborn-whitegrid')"
   ]
  },
  {
   "cell_type": "code",
   "execution_count": 3,
   "metadata": {},
   "outputs": [],
   "source": [
    "import warnings\n",
    "warnings.filterwarnings(\"ignore\", category=DeprecationWarning)\n",
    "warnings.filterwarnings(\"ignore\", category=FutureWarning)"
   ]
  },
  {
   "cell_type": "code",
   "execution_count": 4,
   "metadata": {},
   "outputs": [],
   "source": [
    "pd.set_option('display.max_columns', None)"
   ]
  },
  {
   "cell_type": "code",
   "execution_count": 5,
   "metadata": {},
   "outputs": [],
   "source": [
    "%%capture\n",
    "from tqdm import tqdm_notebook as tqdm\n",
    "tqdm().pandas()"
   ]
  },
  {
   "cell_type": "markdown",
   "metadata": {},
   "source": [
    "### 5.1 - Read in Data"
   ]
  },
  {
   "cell_type": "code",
   "execution_count": 6,
   "metadata": {},
   "outputs": [],
   "source": [
    "df = pd.read_csv('../clean_data/modeling.csv')"
   ]
  },
  {
   "cell_type": "code",
   "execution_count": 7,
   "metadata": {},
   "outputs": [
    {
     "data": {
      "text/html": [
       "<div>\n",
       "<style scoped>\n",
       "    .dataframe tbody tr th:only-of-type {\n",
       "        vertical-align: middle;\n",
       "    }\n",
       "\n",
       "    .dataframe tbody tr th {\n",
       "        vertical-align: top;\n",
       "    }\n",
       "\n",
       "    .dataframe thead th {\n",
       "        text-align: right;\n",
       "    }\n",
       "</style>\n",
       "<table border=\"1\" class=\"dataframe\">\n",
       "  <thead>\n",
       "    <tr style=\"text-align: right;\">\n",
       "      <th></th>\n",
       "      <th>company</th>\n",
       "      <th>security</th>\n",
       "      <th>release_date</th>\n",
       "      <th>length_corpus</th>\n",
       "      <th>stock_change</th>\n",
       "      <th>index_change</th>\n",
       "      <th>normalized_change</th>\n",
       "      <th>vix</th>\n",
       "      <th>hist_week</th>\n",
       "      <th>hist_month</th>\n",
       "      <th>hist_quarter</th>\n",
       "      <th>hist_year</th>\n",
       "      <th>movement</th>\n",
       "      <th>processed_text</th>\n",
       "      <th>Item0.06</th>\n",
       "      <th>Item05.07</th>\n",
       "      <th>Item1.01</th>\n",
       "      <th>Item1.02</th>\n",
       "      <th>Item1.03</th>\n",
       "      <th>Item1.04</th>\n",
       "      <th>Item2.01</th>\n",
       "      <th>Item2.02</th>\n",
       "      <th>Item2.03</th>\n",
       "      <th>Item2.04</th>\n",
       "      <th>Item2.05</th>\n",
       "      <th>Item2.06</th>\n",
       "      <th>Item3.01</th>\n",
       "      <th>Item3.02</th>\n",
       "      <th>Item3.03</th>\n",
       "      <th>Item3.04</th>\n",
       "      <th>Item3.05</th>\n",
       "      <th>Item4.01</th>\n",
       "      <th>Item4.02</th>\n",
       "      <th>Item4.04</th>\n",
       "      <th>Item5.01</th>\n",
       "      <th>Item5.02</th>\n",
       "      <th>Item5.03</th>\n",
       "      <th>Item5.04</th>\n",
       "      <th>Item5.05</th>\n",
       "      <th>Item5.07</th>\n",
       "      <th>Item5.08</th>\n",
       "      <th>Item5.10</th>\n",
       "      <th>Item6.01</th>\n",
       "      <th>Item6.10</th>\n",
       "      <th>Item6.19</th>\n",
       "      <th>Item7.01</th>\n",
       "      <th>Item8.01</th>\n",
       "      <th>Item9.01</th>\n",
       "      <th>Item9.02</th>\n",
       "      <th>gics_sector_Consumer Discretionary</th>\n",
       "      <th>gics_sector_Consumer Staples</th>\n",
       "      <th>gics_sector_Energy</th>\n",
       "      <th>gics_sector_Financials</th>\n",
       "      <th>gics_sector_Health Care</th>\n",
       "      <th>gics_sector_Industrials</th>\n",
       "      <th>gics_sector_Information Technology</th>\n",
       "      <th>gics_sector_Materials</th>\n",
       "      <th>gics_sector_Real Estate</th>\n",
       "      <th>gics_sector_Utilities</th>\n",
       "      <th>gics_sub_industry_Aerospace &amp; Defense</th>\n",
       "      <th>gics_sub_industry_Agricultural &amp; Farm Machinery</th>\n",
       "      <th>gics_sub_industry_Agricultural Products</th>\n",
       "      <th>gics_sub_industry_Air Freight &amp; Logistics</th>\n",
       "      <th>gics_sub_industry_Airlines</th>\n",
       "      <th>gics_sub_industry_Apparel Retail</th>\n",
       "      <th>gics_sub_industry_Apparel, Accessories &amp; Luxury Goods</th>\n",
       "      <th>gics_sub_industry_Application Software</th>\n",
       "      <th>gics_sub_industry_Asset Management &amp; Custody Banks</th>\n",
       "      <th>gics_sub_industry_Auto Parts &amp; Equipment</th>\n",
       "      <th>gics_sub_industry_Automobile Manufacturers</th>\n",
       "      <th>gics_sub_industry_Automotive Retail</th>\n",
       "      <th>gics_sub_industry_Biotechnology</th>\n",
       "      <th>gics_sub_industry_Brewers</th>\n",
       "      <th>gics_sub_industry_Broadcasting</th>\n",
       "      <th>gics_sub_industry_Building Products</th>\n",
       "      <th>gics_sub_industry_Cable &amp; Satellite</th>\n",
       "      <th>gics_sub_industry_Casinos &amp; Gaming</th>\n",
       "      <th>gics_sub_industry_Communications Equipment</th>\n",
       "      <th>gics_sub_industry_Computer &amp; Electronics Retail</th>\n",
       "      <th>gics_sub_industry_Construction &amp; Engineering</th>\n",
       "      <th>gics_sub_industry_Construction Machinery &amp; Heavy Trucks</th>\n",
       "      <th>gics_sub_industry_Construction Materials</th>\n",
       "      <th>gics_sub_industry_Consumer Electronics</th>\n",
       "      <th>gics_sub_industry_Consumer Finance</th>\n",
       "      <th>gics_sub_industry_Copper</th>\n",
       "      <th>gics_sub_industry_Data Processing &amp; Outsourced Services</th>\n",
       "      <th>gics_sub_industry_Department Stores</th>\n",
       "      <th>gics_sub_industry_Distillers &amp; Vintners</th>\n",
       "      <th>gics_sub_industry_Distributors</th>\n",
       "      <th>gics_sub_industry_Diversified Banks</th>\n",
       "      <th>gics_sub_industry_Diversified Chemicals</th>\n",
       "      <th>gics_sub_industry_Diversified Support Services</th>\n",
       "      <th>gics_sub_industry_Drug Retail</th>\n",
       "      <th>gics_sub_industry_Electric Utilities</th>\n",
       "      <th>gics_sub_industry_Electrical Components &amp; Equipment</th>\n",
       "      <th>gics_sub_industry_Electronic Components</th>\n",
       "      <th>gics_sub_industry_Electronic Equipment &amp; Instruments</th>\n",
       "      <th>gics_sub_industry_Electronic Manufacturing Services</th>\n",
       "      <th>gics_sub_industry_Environmental &amp; Facilities Services</th>\n",
       "      <th>gics_sub_industry_Fertilizers &amp; Agricultural Chemicals</th>\n",
       "      <th>gics_sub_industry_Financial Exchanges &amp; Data</th>\n",
       "      <th>gics_sub_industry_Food Distributors</th>\n",
       "      <th>gics_sub_industry_Food Retail</th>\n",
       "      <th>gics_sub_industry_Gas Utilities</th>\n",
       "      <th>gics_sub_industry_General Merchandise Stores</th>\n",
       "      <th>gics_sub_industry_Gold</th>\n",
       "      <th>gics_sub_industry_Health Care Distributors</th>\n",
       "      <th>gics_sub_industry_Health Care Equipment</th>\n",
       "      <th>gics_sub_industry_Health Care Facilities</th>\n",
       "      <th>gics_sub_industry_Health Care REITs</th>\n",
       "      <th>gics_sub_industry_Health Care Services</th>\n",
       "      <th>gics_sub_industry_Health Care Supplies</th>\n",
       "      <th>gics_sub_industry_Health Care Technology</th>\n",
       "      <th>gics_sub_industry_Home Furnishings</th>\n",
       "      <th>gics_sub_industry_Home Improvement Retail</th>\n",
       "      <th>gics_sub_industry_Homebuilding</th>\n",
       "      <th>gics_sub_industry_Hotel &amp; Resort REITs</th>\n",
       "      <th>gics_sub_industry_Hotels, Resorts &amp; Cruise Lines</th>\n",
       "      <th>gics_sub_industry_Household Appliances</th>\n",
       "      <th>gics_sub_industry_Household Products</th>\n",
       "      <th>gics_sub_industry_Housewares &amp; Specialties</th>\n",
       "      <th>gics_sub_industry_Human Resource &amp; Employment Services</th>\n",
       "      <th>gics_sub_industry_Hypermarkets &amp; Super Centers</th>\n",
       "      <th>gics_sub_industry_IT Consulting &amp; Other Services</th>\n",
       "      <th>gics_sub_industry_Independent Power Producers &amp; Energy Traders</th>\n",
       "      <th>gics_sub_industry_Industrial Conglomerates</th>\n",
       "      <th>gics_sub_industry_Industrial Gases</th>\n",
       "      <th>gics_sub_industry_Industrial Machinery</th>\n",
       "      <th>gics_sub_industry_Industrial REITs</th>\n",
       "      <th>gics_sub_industry_Insurance Brokers</th>\n",
       "      <th>gics_sub_industry_Integrated Oil &amp; Gas</th>\n",
       "      <th>gics_sub_industry_Integrated Telecommunication Services</th>\n",
       "      <th>gics_sub_industry_Interactive Home Entertainment</th>\n",
       "      <th>gics_sub_industry_Interactive Media &amp; Services</th>\n",
       "      <th>gics_sub_industry_Internet &amp; Direct Marketing Retail</th>\n",
       "      <th>gics_sub_industry_Internet Services &amp; Infrastructure</th>\n",
       "      <th>gics_sub_industry_Investment Banking &amp; Brokerage</th>\n",
       "      <th>gics_sub_industry_Leisure Products</th>\n",
       "      <th>gics_sub_industry_Life &amp; Health Insurance</th>\n",
       "      <th>gics_sub_industry_Life Sciences Tools &amp; Services</th>\n",
       "      <th>gics_sub_industry_Managed Health Care</th>\n",
       "      <th>gics_sub_industry_Metal &amp; Glass Containers</th>\n",
       "      <th>gics_sub_industry_Motorcycle Manufacturers</th>\n",
       "      <th>gics_sub_industry_Movies &amp; Entertainment</th>\n",
       "      <th>gics_sub_industry_Multi-Utilities</th>\n",
       "      <th>gics_sub_industry_Multi-line Insurance</th>\n",
       "      <th>gics_sub_industry_Office REITs</th>\n",
       "      <th>gics_sub_industry_Oil &amp; Gas Drilling</th>\n",
       "      <th>gics_sub_industry_Oil &amp; Gas Equipment &amp; Services</th>\n",
       "      <th>gics_sub_industry_Oil &amp; Gas Exploration &amp; Production</th>\n",
       "      <th>gics_sub_industry_Oil &amp; Gas Refining &amp; Marketing</th>\n",
       "      <th>gics_sub_industry_Oil &amp; Gas Storage &amp; Transportation</th>\n",
       "      <th>gics_sub_industry_Packaged Foods &amp; Meats</th>\n",
       "      <th>gics_sub_industry_Paper Packaging</th>\n",
       "      <th>gics_sub_industry_Personal Products</th>\n",
       "      <th>gics_sub_industry_Pharmaceuticals</th>\n",
       "      <th>gics_sub_industry_Property &amp; Casualty Insurance</th>\n",
       "      <th>gics_sub_industry_Publishing</th>\n",
       "      <th>gics_sub_industry_Railroads</th>\n",
       "      <th>gics_sub_industry_Real Estate Services</th>\n",
       "      <th>gics_sub_industry_Regional Banks</th>\n",
       "      <th>gics_sub_industry_Reinsurance</th>\n",
       "      <th>gics_sub_industry_Research &amp; Consulting Services</th>\n",
       "      <th>gics_sub_industry_Residential REITs</th>\n",
       "      <th>gics_sub_industry_Restaurants</th>\n",
       "      <th>gics_sub_industry_Retail REITs</th>\n",
       "      <th>gics_sub_industry_Semiconductor Equipment</th>\n",
       "      <th>gics_sub_industry_Semiconductors</th>\n",
       "      <th>gics_sub_industry_Soft Drinks</th>\n",
       "      <th>gics_sub_industry_Specialized Consumer Services</th>\n",
       "      <th>gics_sub_industry_Specialized REITs</th>\n",
       "      <th>gics_sub_industry_Specialty Chemicals</th>\n",
       "      <th>gics_sub_industry_Specialty Stores</th>\n",
       "      <th>gics_sub_industry_Steel</th>\n",
       "      <th>gics_sub_industry_Systems Software</th>\n",
       "      <th>gics_sub_industry_Technology Distributors</th>\n",
       "      <th>gics_sub_industry_Technology Hardware, Storage &amp; Peripherals</th>\n",
       "      <th>gics_sub_industry_Thrifts &amp; Mortgage Finance</th>\n",
       "      <th>gics_sub_industry_Tobacco</th>\n",
       "      <th>gics_sub_industry_Trading Companies &amp; Distributors</th>\n",
       "      <th>gics_sub_industry_Trucking</th>\n",
       "      <th>gics_sub_industry_Water Utilities</th>\n",
       "      <th>gics_sub_industry_Wireless Telecommunication Services</th>\n",
       "    </tr>\n",
       "  </thead>\n",
       "  <tbody>\n",
       "    <tr>\n",
       "      <td>0</td>\n",
       "      <td>CSCO</td>\n",
       "      <td>Cisco Systems</td>\n",
       "      <td>2019-08-22 16:35:32</td>\n",
       "      <td>337</td>\n",
       "      <td>-0.005812</td>\n",
       "      <td>-0.004064</td>\n",
       "      <td>-0.001747</td>\n",
       "      <td>16.68</td>\n",
       "      <td>0.054486</td>\n",
       "      <td>-0.138644</td>\n",
       "      <td>-0.089602</td>\n",
       "      <td>0.059757</td>\n",
       "      <td>neutral</td>\n",
       "      <td>form 8-k united state security exchange commis...</td>\n",
       "      <td>0</td>\n",
       "      <td>0</td>\n",
       "      <td>0</td>\n",
       "      <td>0</td>\n",
       "      <td>0</td>\n",
       "      <td>0</td>\n",
       "      <td>0</td>\n",
       "      <td>0</td>\n",
       "      <td>0</td>\n",
       "      <td>0</td>\n",
       "      <td>0</td>\n",
       "      <td>0</td>\n",
       "      <td>0</td>\n",
       "      <td>0</td>\n",
       "      <td>0</td>\n",
       "      <td>0</td>\n",
       "      <td>0</td>\n",
       "      <td>0</td>\n",
       "      <td>0</td>\n",
       "      <td>0</td>\n",
       "      <td>0</td>\n",
       "      <td>0</td>\n",
       "      <td>0</td>\n",
       "      <td>0</td>\n",
       "      <td>0</td>\n",
       "      <td>0</td>\n",
       "      <td>0</td>\n",
       "      <td>0</td>\n",
       "      <td>0</td>\n",
       "      <td>0</td>\n",
       "      <td>0</td>\n",
       "      <td>0</td>\n",
       "      <td>1</td>\n",
       "      <td>0</td>\n",
       "      <td>0</td>\n",
       "      <td>0</td>\n",
       "      <td>0</td>\n",
       "      <td>0</td>\n",
       "      <td>0</td>\n",
       "      <td>0</td>\n",
       "      <td>0</td>\n",
       "      <td>1</td>\n",
       "      <td>0</td>\n",
       "      <td>0</td>\n",
       "      <td>0</td>\n",
       "      <td>0</td>\n",
       "      <td>0</td>\n",
       "      <td>0</td>\n",
       "      <td>0</td>\n",
       "      <td>0</td>\n",
       "      <td>0</td>\n",
       "      <td>0</td>\n",
       "      <td>0</td>\n",
       "      <td>0</td>\n",
       "      <td>0</td>\n",
       "      <td>0</td>\n",
       "      <td>0</td>\n",
       "      <td>0</td>\n",
       "      <td>0</td>\n",
       "      <td>0</td>\n",
       "      <td>0</td>\n",
       "      <td>0</td>\n",
       "      <td>0</td>\n",
       "      <td>1</td>\n",
       "      <td>0</td>\n",
       "      <td>0</td>\n",
       "      <td>0</td>\n",
       "      <td>0</td>\n",
       "      <td>0</td>\n",
       "      <td>0</td>\n",
       "      <td>0</td>\n",
       "      <td>0</td>\n",
       "      <td>0</td>\n",
       "      <td>0</td>\n",
       "      <td>0</td>\n",
       "      <td>0</td>\n",
       "      <td>0</td>\n",
       "      <td>0</td>\n",
       "      <td>0</td>\n",
       "      <td>0</td>\n",
       "      <td>0</td>\n",
       "      <td>0</td>\n",
       "      <td>0</td>\n",
       "      <td>0</td>\n",
       "      <td>0</td>\n",
       "      <td>0</td>\n",
       "      <td>0</td>\n",
       "      <td>0</td>\n",
       "      <td>0</td>\n",
       "      <td>0</td>\n",
       "      <td>0</td>\n",
       "      <td>0</td>\n",
       "      <td>0</td>\n",
       "      <td>0</td>\n",
       "      <td>0</td>\n",
       "      <td>0</td>\n",
       "      <td>0</td>\n",
       "      <td>0</td>\n",
       "      <td>0</td>\n",
       "      <td>0</td>\n",
       "      <td>0</td>\n",
       "      <td>0</td>\n",
       "      <td>0</td>\n",
       "      <td>0</td>\n",
       "      <td>0</td>\n",
       "      <td>0</td>\n",
       "      <td>0</td>\n",
       "      <td>0</td>\n",
       "      <td>0</td>\n",
       "      <td>0</td>\n",
       "      <td>0</td>\n",
       "      <td>0</td>\n",
       "      <td>0</td>\n",
       "      <td>0</td>\n",
       "      <td>0</td>\n",
       "      <td>0</td>\n",
       "      <td>0</td>\n",
       "      <td>0</td>\n",
       "      <td>0</td>\n",
       "      <td>0</td>\n",
       "      <td>0</td>\n",
       "      <td>0</td>\n",
       "      <td>0</td>\n",
       "      <td>0</td>\n",
       "      <td>0</td>\n",
       "      <td>0</td>\n",
       "      <td>0</td>\n",
       "      <td>0</td>\n",
       "      <td>0</td>\n",
       "      <td>0</td>\n",
       "      <td>0</td>\n",
       "      <td>0</td>\n",
       "      <td>0</td>\n",
       "      <td>0</td>\n",
       "      <td>0</td>\n",
       "      <td>0</td>\n",
       "      <td>0</td>\n",
       "      <td>0</td>\n",
       "      <td>0</td>\n",
       "      <td>0</td>\n",
       "      <td>0</td>\n",
       "      <td>0</td>\n",
       "      <td>0</td>\n",
       "      <td>0</td>\n",
       "      <td>0</td>\n",
       "      <td>0</td>\n",
       "      <td>0</td>\n",
       "      <td>0</td>\n",
       "      <td>0</td>\n",
       "      <td>0</td>\n",
       "      <td>0</td>\n",
       "      <td>0</td>\n",
       "      <td>0</td>\n",
       "      <td>0</td>\n",
       "      <td>0</td>\n",
       "      <td>0</td>\n",
       "      <td>0</td>\n",
       "      <td>0</td>\n",
       "      <td>0</td>\n",
       "      <td>0</td>\n",
       "      <td>0</td>\n",
       "      <td>0</td>\n",
       "      <td>0</td>\n",
       "      <td>0</td>\n",
       "      <td>0</td>\n",
       "      <td>0</td>\n",
       "      <td>0</td>\n",
       "      <td>0</td>\n",
       "      <td>0</td>\n",
       "    </tr>\n",
       "  </tbody>\n",
       "</table>\n",
       "</div>"
      ],
      "text/plain": [
       "  company       security         release_date  length_corpus  stock_change  \\\n",
       "0    CSCO  Cisco Systems  2019-08-22 16:35:32            337     -0.005812   \n",
       "\n",
       "   index_change  normalized_change    vix  hist_week  hist_month  \\\n",
       "0     -0.004064          -0.001747  16.68   0.054486   -0.138644   \n",
       "\n",
       "   hist_quarter  hist_year movement  \\\n",
       "0     -0.089602   0.059757  neutral   \n",
       "\n",
       "                                      processed_text  Item0.06  Item05.07  \\\n",
       "0  form 8-k united state security exchange commis...         0          0   \n",
       "\n",
       "   Item1.01  Item1.02  Item1.03  Item1.04  Item2.01  Item2.02  Item2.03  \\\n",
       "0         0         0         0         0         0         0         0   \n",
       "\n",
       "   Item2.04  Item2.05  Item2.06  Item3.01  Item3.02  Item3.03  Item3.04  \\\n",
       "0         0         0         0         0         0         0         0   \n",
       "\n",
       "   Item3.05  Item4.01  Item4.02  Item4.04  Item5.01  Item5.02  Item5.03  \\\n",
       "0         0         0         0         0         0         0         0   \n",
       "\n",
       "   Item5.04  Item5.05  Item5.07  Item5.08  Item5.10  Item6.01  Item6.10  \\\n",
       "0         0         0         0         0         0         0         0   \n",
       "\n",
       "   Item6.19  Item7.01  Item8.01  Item9.01  Item9.02  \\\n",
       "0         0         0         1         0         0   \n",
       "\n",
       "   gics_sector_Consumer Discretionary  gics_sector_Consumer Staples  \\\n",
       "0                                   0                             0   \n",
       "\n",
       "   gics_sector_Energy  gics_sector_Financials  gics_sector_Health Care  \\\n",
       "0                   0                       0                        0   \n",
       "\n",
       "   gics_sector_Industrials  gics_sector_Information Technology  \\\n",
       "0                        0                                   1   \n",
       "\n",
       "   gics_sector_Materials  gics_sector_Real Estate  gics_sector_Utilities  \\\n",
       "0                      0                        0                      0   \n",
       "\n",
       "   gics_sub_industry_Aerospace & Defense  \\\n",
       "0                                      0   \n",
       "\n",
       "   gics_sub_industry_Agricultural & Farm Machinery  \\\n",
       "0                                                0   \n",
       "\n",
       "   gics_sub_industry_Agricultural Products  \\\n",
       "0                                        0   \n",
       "\n",
       "   gics_sub_industry_Air Freight & Logistics  gics_sub_industry_Airlines  \\\n",
       "0                                          0                           0   \n",
       "\n",
       "   gics_sub_industry_Apparel Retail  \\\n",
       "0                                 0   \n",
       "\n",
       "   gics_sub_industry_Apparel, Accessories & Luxury Goods  \\\n",
       "0                                                  0       \n",
       "\n",
       "   gics_sub_industry_Application Software  \\\n",
       "0                                       0   \n",
       "\n",
       "   gics_sub_industry_Asset Management & Custody Banks  \\\n",
       "0                                                  0    \n",
       "\n",
       "   gics_sub_industry_Auto Parts & Equipment  \\\n",
       "0                                         0   \n",
       "\n",
       "   gics_sub_industry_Automobile Manufacturers  \\\n",
       "0                                           0   \n",
       "\n",
       "   gics_sub_industry_Automotive Retail  gics_sub_industry_Biotechnology  \\\n",
       "0                                    0                                0   \n",
       "\n",
       "   gics_sub_industry_Brewers  gics_sub_industry_Broadcasting  \\\n",
       "0                          0                               0   \n",
       "\n",
       "   gics_sub_industry_Building Products  gics_sub_industry_Cable & Satellite  \\\n",
       "0                                    0                                    0   \n",
       "\n",
       "   gics_sub_industry_Casinos & Gaming  \\\n",
       "0                                   0   \n",
       "\n",
       "   gics_sub_industry_Communications Equipment  \\\n",
       "0                                           1   \n",
       "\n",
       "   gics_sub_industry_Computer & Electronics Retail  \\\n",
       "0                                                0   \n",
       "\n",
       "   gics_sub_industry_Construction & Engineering  \\\n",
       "0                                             0   \n",
       "\n",
       "   gics_sub_industry_Construction Machinery & Heavy Trucks  \\\n",
       "0                                                  0         \n",
       "\n",
       "   gics_sub_industry_Construction Materials  \\\n",
       "0                                         0   \n",
       "\n",
       "   gics_sub_industry_Consumer Electronics  gics_sub_industry_Consumer Finance  \\\n",
       "0                                       0                                   0   \n",
       "\n",
       "   gics_sub_industry_Copper  \\\n",
       "0                         0   \n",
       "\n",
       "   gics_sub_industry_Data Processing & Outsourced Services  \\\n",
       "0                                                  0         \n",
       "\n",
       "   gics_sub_industry_Department Stores  \\\n",
       "0                                    0   \n",
       "\n",
       "   gics_sub_industry_Distillers & Vintners  gics_sub_industry_Distributors  \\\n",
       "0                                        0                               0   \n",
       "\n",
       "   gics_sub_industry_Diversified Banks  \\\n",
       "0                                    0   \n",
       "\n",
       "   gics_sub_industry_Diversified Chemicals  \\\n",
       "0                                        0   \n",
       "\n",
       "   gics_sub_industry_Diversified Support Services  \\\n",
       "0                                               0   \n",
       "\n",
       "   gics_sub_industry_Drug Retail  gics_sub_industry_Electric Utilities  \\\n",
       "0                              0                                     0   \n",
       "\n",
       "   gics_sub_industry_Electrical Components & Equipment  \\\n",
       "0                                                  0     \n",
       "\n",
       "   gics_sub_industry_Electronic Components  \\\n",
       "0                                        0   \n",
       "\n",
       "   gics_sub_industry_Electronic Equipment & Instruments  \\\n",
       "0                                                  0      \n",
       "\n",
       "   gics_sub_industry_Electronic Manufacturing Services  \\\n",
       "0                                                  0     \n",
       "\n",
       "   gics_sub_industry_Environmental & Facilities Services  \\\n",
       "0                                                  0       \n",
       "\n",
       "   gics_sub_industry_Fertilizers & Agricultural Chemicals  \\\n",
       "0                                                  0        \n",
       "\n",
       "   gics_sub_industry_Financial Exchanges & Data  \\\n",
       "0                                             0   \n",
       "\n",
       "   gics_sub_industry_Food Distributors  gics_sub_industry_Food Retail  \\\n",
       "0                                    0                              0   \n",
       "\n",
       "   gics_sub_industry_Gas Utilities  \\\n",
       "0                                0   \n",
       "\n",
       "   gics_sub_industry_General Merchandise Stores  gics_sub_industry_Gold  \\\n",
       "0                                             0                       0   \n",
       "\n",
       "   gics_sub_industry_Health Care Distributors  \\\n",
       "0                                           0   \n",
       "\n",
       "   gics_sub_industry_Health Care Equipment  \\\n",
       "0                                        0   \n",
       "\n",
       "   gics_sub_industry_Health Care Facilities  \\\n",
       "0                                         0   \n",
       "\n",
       "   gics_sub_industry_Health Care REITs  \\\n",
       "0                                    0   \n",
       "\n",
       "   gics_sub_industry_Health Care Services  \\\n",
       "0                                       0   \n",
       "\n",
       "   gics_sub_industry_Health Care Supplies  \\\n",
       "0                                       0   \n",
       "\n",
       "   gics_sub_industry_Health Care Technology  \\\n",
       "0                                         0   \n",
       "\n",
       "   gics_sub_industry_Home Furnishings  \\\n",
       "0                                   0   \n",
       "\n",
       "   gics_sub_industry_Home Improvement Retail  gics_sub_industry_Homebuilding  \\\n",
       "0                                          0                               0   \n",
       "\n",
       "   gics_sub_industry_Hotel & Resort REITs  \\\n",
       "0                                       0   \n",
       "\n",
       "   gics_sub_industry_Hotels, Resorts & Cruise Lines  \\\n",
       "0                                                 0   \n",
       "\n",
       "   gics_sub_industry_Household Appliances  \\\n",
       "0                                       0   \n",
       "\n",
       "   gics_sub_industry_Household Products  \\\n",
       "0                                     0   \n",
       "\n",
       "   gics_sub_industry_Housewares & Specialties  \\\n",
       "0                                           0   \n",
       "\n",
       "   gics_sub_industry_Human Resource & Employment Services  \\\n",
       "0                                                  0        \n",
       "\n",
       "   gics_sub_industry_Hypermarkets & Super Centers  \\\n",
       "0                                               0   \n",
       "\n",
       "   gics_sub_industry_IT Consulting & Other Services  \\\n",
       "0                                                 0   \n",
       "\n",
       "   gics_sub_industry_Independent Power Producers & Energy Traders  \\\n",
       "0                                                  0                \n",
       "\n",
       "   gics_sub_industry_Industrial Conglomerates  \\\n",
       "0                                           0   \n",
       "\n",
       "   gics_sub_industry_Industrial Gases  gics_sub_industry_Industrial Machinery  \\\n",
       "0                                   0                                       0   \n",
       "\n",
       "   gics_sub_industry_Industrial REITs  gics_sub_industry_Insurance Brokers  \\\n",
       "0                                   0                                    0   \n",
       "\n",
       "   gics_sub_industry_Integrated Oil & Gas  \\\n",
       "0                                       0   \n",
       "\n",
       "   gics_sub_industry_Integrated Telecommunication Services  \\\n",
       "0                                                  0         \n",
       "\n",
       "   gics_sub_industry_Interactive Home Entertainment  \\\n",
       "0                                                 0   \n",
       "\n",
       "   gics_sub_industry_Interactive Media & Services  \\\n",
       "0                                               0   \n",
       "\n",
       "   gics_sub_industry_Internet & Direct Marketing Retail  \\\n",
       "0                                                  0      \n",
       "\n",
       "   gics_sub_industry_Internet Services & Infrastructure  \\\n",
       "0                                                  0      \n",
       "\n",
       "   gics_sub_industry_Investment Banking & Brokerage  \\\n",
       "0                                                 0   \n",
       "\n",
       "   gics_sub_industry_Leisure Products  \\\n",
       "0                                   0   \n",
       "\n",
       "   gics_sub_industry_Life & Health Insurance  \\\n",
       "0                                          0   \n",
       "\n",
       "   gics_sub_industry_Life Sciences Tools & Services  \\\n",
       "0                                                 0   \n",
       "\n",
       "   gics_sub_industry_Managed Health Care  \\\n",
       "0                                      0   \n",
       "\n",
       "   gics_sub_industry_Metal & Glass Containers  \\\n",
       "0                                           0   \n",
       "\n",
       "   gics_sub_industry_Motorcycle Manufacturers  \\\n",
       "0                                           0   \n",
       "\n",
       "   gics_sub_industry_Movies & Entertainment  \\\n",
       "0                                         0   \n",
       "\n",
       "   gics_sub_industry_Multi-Utilities  gics_sub_industry_Multi-line Insurance  \\\n",
       "0                                  0                                       0   \n",
       "\n",
       "   gics_sub_industry_Office REITs  gics_sub_industry_Oil & Gas Drilling  \\\n",
       "0                               0                                     0   \n",
       "\n",
       "   gics_sub_industry_Oil & Gas Equipment & Services  \\\n",
       "0                                                 0   \n",
       "\n",
       "   gics_sub_industry_Oil & Gas Exploration & Production  \\\n",
       "0                                                  0      \n",
       "\n",
       "   gics_sub_industry_Oil & Gas Refining & Marketing  \\\n",
       "0                                                 0   \n",
       "\n",
       "   gics_sub_industry_Oil & Gas Storage & Transportation  \\\n",
       "0                                                  0      \n",
       "\n",
       "   gics_sub_industry_Packaged Foods & Meats  \\\n",
       "0                                         0   \n",
       "\n",
       "   gics_sub_industry_Paper Packaging  gics_sub_industry_Personal Products  \\\n",
       "0                                  0                                    0   \n",
       "\n",
       "   gics_sub_industry_Pharmaceuticals  \\\n",
       "0                                  0   \n",
       "\n",
       "   gics_sub_industry_Property & Casualty Insurance  \\\n",
       "0                                                0   \n",
       "\n",
       "   gics_sub_industry_Publishing  gics_sub_industry_Railroads  \\\n",
       "0                             0                            0   \n",
       "\n",
       "   gics_sub_industry_Real Estate Services  gics_sub_industry_Regional Banks  \\\n",
       "0                                       0                                 0   \n",
       "\n",
       "   gics_sub_industry_Reinsurance  \\\n",
       "0                              0   \n",
       "\n",
       "   gics_sub_industry_Research & Consulting Services  \\\n",
       "0                                                 0   \n",
       "\n",
       "   gics_sub_industry_Residential REITs  gics_sub_industry_Restaurants  \\\n",
       "0                                    0                              0   \n",
       "\n",
       "   gics_sub_industry_Retail REITs  gics_sub_industry_Semiconductor Equipment  \\\n",
       "0                               0                                          0   \n",
       "\n",
       "   gics_sub_industry_Semiconductors  gics_sub_industry_Soft Drinks  \\\n",
       "0                                 0                              0   \n",
       "\n",
       "   gics_sub_industry_Specialized Consumer Services  \\\n",
       "0                                                0   \n",
       "\n",
       "   gics_sub_industry_Specialized REITs  gics_sub_industry_Specialty Chemicals  \\\n",
       "0                                    0                                      0   \n",
       "\n",
       "   gics_sub_industry_Specialty Stores  gics_sub_industry_Steel  \\\n",
       "0                                   0                        0   \n",
       "\n",
       "   gics_sub_industry_Systems Software  \\\n",
       "0                                   0   \n",
       "\n",
       "   gics_sub_industry_Technology Distributors  \\\n",
       "0                                          0   \n",
       "\n",
       "   gics_sub_industry_Technology Hardware, Storage & Peripherals  \\\n",
       "0                                                  0              \n",
       "\n",
       "   gics_sub_industry_Thrifts & Mortgage Finance  gics_sub_industry_Tobacco  \\\n",
       "0                                             0                          0   \n",
       "\n",
       "   gics_sub_industry_Trading Companies & Distributors  \\\n",
       "0                                                  0    \n",
       "\n",
       "   gics_sub_industry_Trucking  gics_sub_industry_Water Utilities  \\\n",
       "0                           0                                  0   \n",
       "\n",
       "   gics_sub_industry_Wireless Telecommunication Services  \n",
       "0                                                  0      "
      ]
     },
     "execution_count": 7,
     "metadata": {},
     "output_type": "execute_result"
    }
   ],
   "source": [
    "df.head(1)"
   ]
  },
  {
   "cell_type": "code",
   "execution_count": 8,
   "metadata": {},
   "outputs": [
    {
     "data": {
      "text/plain": [
       "(56911, 183)"
      ]
     },
     "execution_count": 8,
     "metadata": {},
     "output_type": "execute_result"
    }
   ],
   "source": [
    "df.shape"
   ]
  },
  {
   "cell_type": "markdown",
   "metadata": {},
   "source": [
    "### 5.2 - Create numerical `Target` Column"
   ]
  },
  {
   "cell_type": "code",
   "execution_count": 9,
   "metadata": {},
   "outputs": [],
   "source": [
    "# df['movement'] = df['normalized_change'].map(lambda x: 'down' if x < 0 else 'up')\n",
    "# df['target'] = df['movement'].map(lambda x: 1 if x == 'up' else 0)\n",
    "\n",
    "df['target'] = df['movement'].map(lambda x: 2 if x == 'up' else (1 if x == 'neutral' else 0))"
   ]
  },
  {
   "cell_type": "markdown",
   "metadata": {},
   "source": [
    "### 5.3 - Check Classes Balance"
   ]
  },
  {
   "cell_type": "code",
   "execution_count": 10,
   "metadata": {},
   "outputs": [
    {
     "data": {
      "text/plain": [
       "1    0.514857\n",
       "0    0.485143\n",
       "Name: target, dtype: float64"
      ]
     },
     "execution_count": 10,
     "metadata": {},
     "output_type": "execute_result"
    }
   ],
   "source": [
    "# % Accuracy\n",
    "df['target'].value_counts(normalize=True)"
   ]
  },
  {
   "cell_type": "code",
   "execution_count": 11,
   "metadata": {},
   "outputs": [],
   "source": [
    "df = df.sample(3000)"
   ]
  },
  {
   "cell_type": "markdown",
   "metadata": {},
   "source": [
    "### 5.4 - Undersample Data to Balance Classes"
   ]
  },
  {
   "cell_type": "code",
   "execution_count": null,
   "metadata": {},
   "outputs": [],
   "source": [
    "# Create undersampling\n",
    "balanced_size = min(df['movement'].value_counts())\n",
    "a = df.loc[df['movement'] == 'down'].sample(3000)\n",
    "b = df.loc[df['movement'] == 'neutral'].sample(3000)\n",
    "c = df.loc[df['movement'] == 'up'].sample(3000)\n",
    "\n",
    "df = pd.concat([a, b, c], axis=0)"
   ]
  },
  {
   "cell_type": "code",
   "execution_count": null,
   "metadata": {},
   "outputs": [],
   "source": [
    "# % Accuracy\n",
    "df['target'].value_counts(normalize=True)"
   ]
  },
  {
   "cell_type": "markdown",
   "metadata": {},
   "source": [
    "### 5.8 - Modeling ( Neural Network ) - Pretrained Word Embeddings"
   ]
  },
  {
   "cell_type": "code",
   "execution_count": 12,
   "metadata": {},
   "outputs": [
    {
     "data": {
      "text/plain": [
       "12300"
      ]
     },
     "execution_count": 12,
     "metadata": {},
     "output_type": "execute_result"
    }
   ],
   "source": [
    "int(df['length_corpus'].quantile(.9))"
   ]
  },
  {
   "cell_type": "markdown",
   "metadata": {},
   "source": [
    "#### 5.8.3 - Define X ( features ) and y ( target )"
   ]
  },
  {
   "cell_type": "code",
   "execution_count": 13,
   "metadata": {},
   "outputs": [],
   "source": [
    "# X1 = df.drop(columns=['company', 'release_date', 'security', 'stock_change', 'index_change',\n",
    "#                      'normalized_change', 'movement', 'target', 'processed_text', 'hist_week',\n",
    "#                      'hist_month', 'hist_quarter', 'hist_year', 'vix', 'length_corpus'])\n",
    "\n",
    "# X2 = df[['hist_week', 'hist_month', 'hist_quarter', 'hist_year', 'vix', 'length_corpus']]\n",
    "\n",
    "X = df.drop(columns=['company', 'release_date', 'security', 'stock_change', 'index_change',\n",
    "                     'normalized_change', 'movement', 'target', 'processed_text'])\n",
    "D = df['processed_text']\n",
    "y = df['target']"
   ]
  },
  {
   "cell_type": "code",
   "execution_count": 14,
   "metadata": {},
   "outputs": [
    {
     "data": {
      "text/plain": [
       "(3000, 175)"
      ]
     },
     "execution_count": 14,
     "metadata": {},
     "output_type": "execute_result"
    }
   ],
   "source": [
    "X.shape"
   ]
  },
  {
   "cell_type": "code",
   "execution_count": 15,
   "metadata": {},
   "outputs": [
    {
     "data": {
      "text/plain": [
       "(3000,)"
      ]
     },
     "execution_count": 15,
     "metadata": {},
     "output_type": "execute_result"
    }
   ],
   "source": [
    "D.shape"
   ]
  },
  {
   "cell_type": "code",
   "execution_count": 16,
   "metadata": {},
   "outputs": [
    {
     "data": {
      "text/plain": [
       "(3000,)"
      ]
     },
     "execution_count": 16,
     "metadata": {},
     "output_type": "execute_result"
    }
   ],
   "source": [
    "y.shape"
   ]
  },
  {
   "cell_type": "markdown",
   "metadata": {},
   "source": [
    "#### 5.8.4 - Train Test Split"
   ]
  },
  {
   "cell_type": "code",
   "execution_count": 17,
   "metadata": {},
   "outputs": [],
   "source": [
    "X_train, X_test, D_train, D_test, y_train, y_test = train_test_split(X, D, y,\n",
    "                                                                         random_state=42,\n",
    "                                                                         stratify=y,\n",
    "                                                                         test_size=0.25)"
   ]
  },
  {
   "cell_type": "markdown",
   "metadata": {},
   "source": [
    "#### Standard Scaler"
   ]
  },
  {
   "cell_type": "code",
   "execution_count": 18,
   "metadata": {},
   "outputs": [],
   "source": [
    "ss = StandardScaler()\n",
    "ss.fit(X_train)\n",
    "X_train_sc = ss.transform(X_train)\n",
    "X_test_sc = ss.transform(X_test)"
   ]
  },
  {
   "cell_type": "code",
   "execution_count": 19,
   "metadata": {},
   "outputs": [],
   "source": [
    "# Change y_train.\n",
    "y_train = utils.to_categorical(y_train, 3)\n",
    "y_test = utils.to_categorical(y_test, 3)"
   ]
  },
  {
   "cell_type": "code",
   "execution_count": null,
   "metadata": {},
   "outputs": [],
   "source": [
    "y_train"
   ]
  },
  {
   "cell_type": "markdown",
   "metadata": {},
   "source": [
    "#### Tokenizer"
   ]
  },
  {
   "cell_type": "code",
   "execution_count": 20,
   "metadata": {},
   "outputs": [],
   "source": [
    "tokenizer = Tokenizer() # num_words=10_000\n",
    "tokenizer.fit_on_texts(D_train)\n",
    "\n",
    "D_train = tokenizer.texts_to_sequences(D_train)\n",
    "D_test = tokenizer.texts_to_sequences(D_test)\n",
    "\n",
    "vocab_size = len(tokenizer.word_index) + 1  # Adding 1 because of reserved 0 index"
   ]
  },
  {
   "cell_type": "code",
   "execution_count": 21,
   "metadata": {},
   "outputs": [],
   "source": [
    "D_train = pad_sequences(D_train, padding='post', maxlen=7_000)\n",
    "D_test = pad_sequences(D_test, padding='post', maxlen=7_000)"
   ]
  },
  {
   "cell_type": "markdown",
   "metadata": {},
   "source": [
    "#### Load Pre-Trained Word Vectors"
   ]
  },
  {
   "cell_type": "markdown",
   "metadata": {},
   "source": [
    "> _GloVe is an unsupervised learning algorithm for obtaining vector representations for words. Training is performed on aggregated global word-word co-occurrence statistics from a corpus, and the resulting representations showcase interesting linear substructures of the word vector space._\n",
    "[Learn More](https://nlp.stanford.edu/projects/glove/)"
   ]
  },
  {
   "cell_type": "code",
   "execution_count": 22,
   "metadata": {},
   "outputs": [],
   "source": [
    "def create_embedding_matrix(filepath, word_index, embedding_dim):\n",
    "    vocab_size = len(word_index) + 1  # Adding again 1 because of reserved 0 index\n",
    "    embedding_matrix = np.zeros((vocab_size, embedding_dim))\n",
    "\n",
    "    with open(filepath) as f:\n",
    "        for line in f:\n",
    "            word, *vector = line.split()\n",
    "            if word in word_index:\n",
    "                idx = word_index[word] \n",
    "                embedding_matrix[idx] = np.array(\n",
    "                    vector, dtype=np.float32)[:embedding_dim]\n",
    "\n",
    "    return embedding_matrix"
   ]
  },
  {
   "cell_type": "code",
   "execution_count": 23,
   "metadata": {},
   "outputs": [],
   "source": [
    "embedding_dim = 300\n",
    "embedding_matrix = create_embedding_matrix(\n",
    "    '../glove.6B/glove.6B.300d.txt',\n",
    "    tokenizer.word_index, embedding_dim\n",
    ")"
   ]
  },
  {
   "cell_type": "code",
   "execution_count": 24,
   "metadata": {},
   "outputs": [
    {
     "data": {
      "text/plain": [
       "0.17463189368235266"
      ]
     },
     "execution_count": 24,
     "metadata": {},
     "output_type": "execute_result"
    }
   ],
   "source": [
    "nonzero_elements = np.count_nonzero(np.count_nonzero(embedding_matrix, axis=1))\n",
    "nonzero_elements / vocab_size"
   ]
  },
  {
   "cell_type": "code",
   "execution_count": 25,
   "metadata": {},
   "outputs": [
    {
     "data": {
      "text/plain": [
       "(2250, 175)"
      ]
     },
     "execution_count": 25,
     "metadata": {},
     "output_type": "execute_result"
    }
   ],
   "source": [
    "X_train.shape"
   ]
  },
  {
   "cell_type": "code",
   "execution_count": 26,
   "metadata": {},
   "outputs": [
    {
     "data": {
      "text/plain": [
       "(2250, 7000)"
      ]
     },
     "execution_count": 26,
     "metadata": {},
     "output_type": "execute_result"
    }
   ],
   "source": [
    "D_train.shape"
   ]
  },
  {
   "cell_type": "code",
   "execution_count": 27,
   "metadata": {},
   "outputs": [
    {
     "data": {
      "text/plain": [
       "(2250, 3)"
      ]
     },
     "execution_count": 27,
     "metadata": {},
     "output_type": "execute_result"
    }
   ],
   "source": [
    "y_train.shape"
   ]
  },
  {
   "cell_type": "markdown",
   "metadata": {},
   "source": [
    "#### Build Model 1 - CNN"
   ]
  },
  {
   "cell_type": "code",
   "execution_count": 38,
   "metadata": {},
   "outputs": [
    {
     "name": "stdout",
     "output_type": "stream",
     "text": [
      "Model: \"sequential_2\"\n",
      "_________________________________________________________________\n",
      "Layer (type)                 Output Shape              Param #   \n",
      "=================================================================\n",
      "embedding_2 (Embedding)      (None, 7000, 300)         74448600  \n",
      "_________________________________________________________________\n",
      "global_max_pooling1d_2 (Glob (None, 300)               0         \n",
      "_________________________________________________________________\n",
      "dense_6 (Dense)              (None, 32)                9632      \n",
      "_________________________________________________________________\n",
      "dropout_4 (Dropout)          (None, 32)                0         \n",
      "_________________________________________________________________\n",
      "dense_7 (Dense)              (None, 32)                1056      \n",
      "_________________________________________________________________\n",
      "dropout_5 (Dropout)          (None, 32)                0         \n",
      "_________________________________________________________________\n",
      "dense_8 (Dense)              (None, 3)                 99        \n",
      "=================================================================\n",
      "Total params: 74,459,387\n",
      "Trainable params: 10,787\n",
      "Non-trainable params: 74,448,600\n",
      "_________________________________________________________________\n"
     ]
    }
   ],
   "source": [
    "model = Sequential()\n",
    "model.add(layers.Embedding(input_dim=vocab_size,\n",
    "                           output_dim=embedding_dim, \n",
    "                           weights=[embedding_matrix], \n",
    "                           input_length=7_000, \n",
    "                           trainable=False))\n",
    "\n",
    "# model.add(layers.Conv1D(64, 5, activation='relu'))\n",
    "# model.add(layers.MaxPooling1D(), activation='relu')\n",
    "model.add(layers.GlobalMaxPool1D())\n",
    "model.add(layers.Dense(32, activation='relu'))\n",
    "model.add(layers.Dropout(.2))\n",
    "model.add(layers.Dense(32, activation='relu'))\n",
    "model.add(layers.Dropout(.2))\n",
    "model.add(layers.Dense(3, activation='softmax'))\n",
    "\n",
    "model.compile(optimizer='adam',\n",
    "              loss='categorical_crossentropy',\n",
    "              metrics=['accuracy'])\n",
    "model.summary()"
   ]
  },
  {
   "cell_type": "code",
   "execution_count": 39,
   "metadata": {},
   "outputs": [
    {
     "data": {
      "text/plain": [
       "(2250, 175)"
      ]
     },
     "execution_count": 39,
     "metadata": {},
     "output_type": "execute_result"
    }
   ],
   "source": [
    "X_train.shape"
   ]
  },
  {
   "cell_type": "code",
   "execution_count": 40,
   "metadata": {},
   "outputs": [
    {
     "data": {
      "text/plain": [
       "(2250, 7000)"
      ]
     },
     "execution_count": 40,
     "metadata": {},
     "output_type": "execute_result"
    }
   ],
   "source": [
    "D_train.shape"
   ]
  },
  {
   "cell_type": "code",
   "execution_count": 41,
   "metadata": {},
   "outputs": [
    {
     "data": {
      "text/plain": [
       "(2250, 3)"
      ]
     },
     "execution_count": 41,
     "metadata": {},
     "output_type": "execute_result"
    }
   ],
   "source": [
    "y_train.shape"
   ]
  },
  {
   "cell_type": "code",
   "execution_count": 42,
   "metadata": {
    "scrolled": true
   },
   "outputs": [
    {
     "name": "stdout",
     "output_type": "stream",
     "text": [
      "WARNING:tensorflow:Falling back from v2 loop because of error: Failed to find data adapter that can handle input: (<class 'list'> containing values of types {\"<class 'pandas.core.frame.DataFrame'>\", \"<class 'numpy.ndarray'>\"}), <class 'NoneType'>\n",
      "Train on 2250 samples, validate on 750 samples\n",
      "Epoch 1/10\n",
      "2250/2250 [==============================] - 16s 7ms/sample - loss: 0.5489 - accuracy: 0.6631 - val_loss: 0.4861 - val_accuracy: 0.6667\n",
      "Epoch 2/10\n",
      "2250/2250 [==============================] - 16s 7ms/sample - loss: 0.5131 - accuracy: 0.6689 - val_loss: 0.4767 - val_accuracy: 0.6724\n",
      "Epoch 3/10\n",
      "2250/2250 [==============================] - 16s 7ms/sample - loss: 0.5020 - accuracy: 0.6665 - val_loss: 0.4728 - val_accuracy: 0.6751\n",
      "Epoch 4/10\n",
      "2250/2250 [==============================] - 15s 7ms/sample - loss: 0.4953 - accuracy: 0.6616 - val_loss: 0.4715 - val_accuracy: 0.6618\n",
      "Epoch 5/10\n",
      "2250/2250 [==============================] - 15s 7ms/sample - loss: 0.4905 - accuracy: 0.6719 - val_loss: 0.4725 - val_accuracy: 0.6729\n",
      "Epoch 6/10\n",
      "2250/2250 [==============================] - 15s 7ms/sample - loss: 0.4867 - accuracy: 0.6699 - val_loss: 0.4683 - val_accuracy: 0.6787\n",
      "Epoch 7/10\n",
      "2250/2250 [==============================] - 15s 7ms/sample - loss: 0.4826 - accuracy: 0.6704 - val_loss: 0.4688 - val_accuracy: 0.6764\n",
      "Epoch 8/10\n",
      "2250/2250 [==============================] - 15s 7ms/sample - loss: 0.4805 - accuracy: 0.6720 - val_loss: 0.4679 - val_accuracy: 0.6760\n",
      "Epoch 9/10\n",
      "2250/2250 [==============================] - 15s 7ms/sample - loss: 0.4830 - accuracy: 0.6646 - val_loss: 0.4671 - val_accuracy: 0.6640\n",
      "Epoch 10/10\n",
      "2250/2250 [==============================] - 15s 7ms/sample - loss: 0.4778 - accuracy: 0.6701 - val_loss: 0.4651 - val_accuracy: 0.6716\n"
     ]
    }
   ],
   "source": [
    "history = model.fit([D_train, X_train], y_train,\n",
    "                    epochs=10,\n",
    "                    verbose=1,\n",
    "                    validation_data=([D_test, X_test], y_test),\n",
    "                    batch_size=128)"
   ]
  },
  {
   "cell_type": "code",
   "execution_count": 43,
   "metadata": {
    "scrolled": false
   },
   "outputs": [
    {
     "data": {
      "image/png": "[encoded data removed]",
      "text/plain": [
       "<Figure size 1152x720 with 2 Axes>"
      ]
     },
     "metadata": {},
     "output_type": "display_data"
    }
   ],
   "source": [
    "train_loss = history.history['loss']\n",
    "test_loss = history.history['val_loss']\n",
    "\n",
    "train_acc = history.history['accuracy']\n",
    "test_acc = history.history['val_accuracy']\n",
    "\n",
    "fig, ax = plt.subplots(2, 1, figsize=(16, 10))\n",
    "\n",
    "ax[0].plot(train_loss, label='Training Loss', color='orange')\n",
    "ax[0].plot(test_loss, label='Testing Loss', color='navy')\n",
    "ax[0].set_title('Training and Testing Loss by Epoch', fontsize=20, pad=10)\n",
    "ax[0].set_xlabel('Epoch', fontsize=16)\n",
    "ax[0].set_ylabel('Categorical Crossentropy', fontsize=16)\n",
    "ax[0].legend(fontsize = 14);\n",
    "\n",
    "ax[1].set_title('Training and Testing Acc by Epoch', fontsize=20, pad=10)\n",
    "ax[1].plot(train_acc, label='Training Acc', color='orange')\n",
    "ax[1].plot(test_acc, label='Testing Acc', color='navy')\n",
    "ax[1].set_xlabel('Epoch', fontsize=16)\n",
    "ax[1].set_ylabel('Categorical Crossentropy', fontsize=16)\n",
    "ax[1].legend(fontsize = 14)\n",
    "\n",
    "plt.tight_layout();"
   ]
  },
  {
   "cell_type": "markdown",
   "metadata": {},
   "source": [
    "#### Model 2 - RNN / CNN"
   ]
  },
  {
   "cell_type": "code",
   "execution_count": 44,
   "metadata": {},
   "outputs": [
    {
     "name": "stdout",
     "output_type": "stream",
     "text": [
      "Model: \"sequential_3\"\n",
      "_________________________________________________________________\n",
      "Layer (type)                 Output Shape              Param #   \n",
      "=================================================================\n",
      "embedding_3 (Embedding)      (None, 7000, 300)         74448600  \n",
      "_________________________________________________________________\n",
      "conv1d (Conv1D)              (None, 7000, 64)          96064     \n",
      "_________________________________________________________________\n",
      "max_pooling1d (MaxPooling1D) (None, 3500, 64)          0         \n",
      "_________________________________________________________________\n",
      "dropout_6 (Dropout)          (None, 3500, 64)          0         \n",
      "_________________________________________________________________\n",
      "bidirectional (Bidirectional (None, 64)                18816     \n",
      "_________________________________________________________________\n",
      "batch_normalization (BatchNo (None, 64)                256       \n",
      "_________________________________________________________________\n",
      "dense_9 (Dense)              (None, 32)                2080      \n",
      "_________________________________________________________________\n",
      "dropout_7 (Dropout)          (None, 32)                0         \n",
      "_________________________________________________________________\n",
      "dense_10 (Dense)             (None, 3)                 99        \n",
      "=================================================================\n",
      "Total params: 74,565,915\n",
      "Trainable params: 117,187\n",
      "Non-trainable params: 74,448,728\n",
      "_________________________________________________________________\n"
     ]
    }
   ],
   "source": [
    "model2 = Sequential()\n",
    "model2.add(layers.Embedding(input_dim=vocab_size,\n",
    "                           output_dim=embedding_dim, \n",
    "                           weights=[embedding_matrix], \n",
    "                           input_length=7_000, \n",
    "                           trainable=False))\n",
    "\n",
    "model2.add(layers.Conv1D(64, 5, padding='same', activation='relu'))\n",
    "model2.add(layers.MaxPooling1D())\n",
    "model2.add(layers.Dropout(0.2))\n",
    "model2.add(layers.Bidirectional(layers.GRU(32,return_sequences=False)))\n",
    "model2.add(layers.BatchNormalization())\n",
    "\n",
    "model2.add(layers.Dense(32, activation='relu'))\n",
    "model2.add(layers.Dropout(.2))\n",
    "# model2.add(layers.Dense(32, activation='relu'))\n",
    "# model2.add(layers.Dense(32, activation='relu'))\n",
    "model2.add(layers.Dense(3, activation='softmax'))\n",
    "\n",
    "\n",
    "model2.compile(optimizer='adam',\n",
    "              loss='categorical_crossentropy',\n",
    "              metrics=['accuracy'])\n",
    "model2.summary()"
   ]
  },
  {
   "cell_type": "code",
   "execution_count": 45,
   "metadata": {
    "scrolled": true
   },
   "outputs": [
    {
     "name": "stdout",
     "output_type": "stream",
     "text": [
      "WARNING:tensorflow:Falling back from v2 loop because of error: Failed to find data adapter that can handle input: (<class 'list'> containing values of types {\"<class 'pandas.core.frame.DataFrame'>\", \"<class 'numpy.ndarray'>\"}), <class 'NoneType'>\n",
      "Train on 2250 samples, validate on 750 samples\n",
      "Epoch 1/10\n",
      "2250/2250 [==============================] - 196s 87ms/sample - loss: 0.8402 - accuracy: 0.4960 - val_loss: 0.8888 - val_accuracy: 0.5227\n",
      "Epoch 2/10\n",
      "2250/2250 [==============================] - 184s 82ms/sample - loss: 0.7376 - accuracy: 0.5493 - val_loss: 0.8276 - val_accuracy: 0.5200\n",
      "Epoch 3/10\n",
      "2250/2250 [==============================] - 162s 72ms/sample - loss: 0.7108 - accuracy: 0.5462 - val_loss: 0.7898 - val_accuracy: 0.5053\n",
      "Epoch 4/10\n",
      "2250/2250 [==============================] - 161s 72ms/sample - loss: 0.6997 - accuracy: 0.5480 - val_loss: 0.7709 - val_accuracy: 0.5080\n",
      "Epoch 5/10\n",
      "2250/2250 [==============================] - 161s 71ms/sample - loss: 0.6914 - accuracy: 0.5542 - val_loss: 0.7619 - val_accuracy: 0.5067\n",
      "Epoch 6/10\n",
      "2250/2250 [==============================] - 161s 72ms/sample - loss: 0.6785 - accuracy: 0.5796 - val_loss: 0.7592 - val_accuracy: 0.4947\n",
      "Epoch 7/10\n",
      "2250/2250 [==============================] - 161s 72ms/sample - loss: 0.6637 - accuracy: 0.5796 - val_loss: 0.7557 - val_accuracy: 0.4947\n",
      "Epoch 8/10\n",
      "2250/2250 [==============================] - 174s 77ms/sample - loss: 0.6503 - accuracy: 0.5898 - val_loss: 0.7580 - val_accuracy: 0.5080\n",
      "Epoch 9/10\n",
      "1536/2250 [===================>..........] - ETA: 53s - loss: 0.6250 - accuracy: 0.6035 "
     ]
    },
    {
     "ename": "KeyboardInterrupt",
     "evalue": "",
     "output_type": "error",
     "traceback": [
      "\u001b[0;31m---------------------------------------------------------------------------\u001b[0m",
      "\u001b[0;31mKeyboardInterrupt\u001b[0m                         Traceback (most recent call last)",
      "\u001b[0;32m<ipython-input-45-d109dc733e3e>\u001b[0m in \u001b[0;36m<module>\u001b[0;34m\u001b[0m\n\u001b[1;32m      3\u001b[0m                     \u001b[0mverbose\u001b[0m\u001b[0;34m=\u001b[0m\u001b[0;36m1\u001b[0m\u001b[0;34m,\u001b[0m\u001b[0;34m\u001b[0m\u001b[0;34m\u001b[0m\u001b[0m\n\u001b[1;32m      4\u001b[0m                     \u001b[0mvalidation_data\u001b[0m\u001b[0;34m=\u001b[0m\u001b[0;34m(\u001b[0m\u001b[0;34m[\u001b[0m\u001b[0mD_test\u001b[0m\u001b[0;34m,\u001b[0m \u001b[0mX_test\u001b[0m\u001b[0;34m]\u001b[0m\u001b[0;34m,\u001b[0m \u001b[0my_test\u001b[0m\u001b[0;34m)\u001b[0m\u001b[0;34m,\u001b[0m\u001b[0;34m\u001b[0m\u001b[0;34m\u001b[0m\u001b[0m\n\u001b[0;32m----> 5\u001b[0;31m                     batch_size=256)\n\u001b[0m",
      "\u001b[0;32m/Library/Frameworks/Python.framework/Versions/3.7/lib/python3.7/site-packages/tensorflow_core/python/keras/engine/training.py\u001b[0m in \u001b[0;36mfit\u001b[0;34m(self, x, y, batch_size, epochs, verbose, callbacks, validation_split, validation_data, shuffle, class_weight, sample_weight, initial_epoch, steps_per_epoch, validation_steps, validation_freq, max_queue_size, workers, use_multiprocessing, **kwargs)\u001b[0m\n\u001b[1;32m    726\u001b[0m         \u001b[0mmax_queue_size\u001b[0m\u001b[0;34m=\u001b[0m\u001b[0mmax_queue_size\u001b[0m\u001b[0;34m,\u001b[0m\u001b[0;34m\u001b[0m\u001b[0;34m\u001b[0m\u001b[0m\n\u001b[1;32m    727\u001b[0m         \u001b[0mworkers\u001b[0m\u001b[0;34m=\u001b[0m\u001b[0mworkers\u001b[0m\u001b[0;34m,\u001b[0m\u001b[0;34m\u001b[0m\u001b[0;34m\u001b[0m\u001b[0m\n\u001b[0;32m--> 728\u001b[0;31m         use_multiprocessing=use_multiprocessing)\n\u001b[0m\u001b[1;32m    729\u001b[0m \u001b[0;34m\u001b[0m\u001b[0m\n\u001b[1;32m    730\u001b[0m   def evaluate(self,\n",
      "\u001b[0;32m/Library/Frameworks/Python.framework/Versions/3.7/lib/python3.7/site-packages/tensorflow_core/python/keras/engine/training_arrays.py\u001b[0m in \u001b[0;36mfit\u001b[0;34m(self, model, x, y, batch_size, epochs, verbose, callbacks, validation_split, validation_data, shuffle, class_weight, sample_weight, initial_epoch, steps_per_epoch, validation_steps, validation_freq, **kwargs)\u001b[0m\n\u001b[1;32m    672\u001b[0m         \u001b[0mvalidation_steps\u001b[0m\u001b[0;34m=\u001b[0m\u001b[0mvalidation_steps\u001b[0m\u001b[0;34m,\u001b[0m\u001b[0;34m\u001b[0m\u001b[0;34m\u001b[0m\u001b[0m\n\u001b[1;32m    673\u001b[0m         \u001b[0mvalidation_freq\u001b[0m\u001b[0;34m=\u001b[0m\u001b[0mvalidation_freq\u001b[0m\u001b[0;34m,\u001b[0m\u001b[0;34m\u001b[0m\u001b[0;34m\u001b[0m\u001b[0m\n\u001b[0;32m--> 674\u001b[0;31m         steps_name='steps_per_epoch')\n\u001b[0m\u001b[1;32m    675\u001b[0m \u001b[0;34m\u001b[0m\u001b[0m\n\u001b[1;32m    676\u001b[0m   def evaluate(self,\n",
      "\u001b[0;32m/Library/Frameworks/Python.framework/Versions/3.7/lib/python3.7/site-packages/tensorflow_core/python/keras/engine/training_arrays.py\u001b[0m in \u001b[0;36mmodel_iteration\u001b[0;34m(model, inputs, targets, sample_weights, batch_size, epochs, verbose, callbacks, val_inputs, val_targets, val_sample_weights, shuffle, initial_epoch, steps_per_epoch, validation_steps, validation_freq, mode, validation_in_fit, prepared_feed_values_from_dataset, steps_name, **kwargs)\u001b[0m\n\u001b[1;32m    391\u001b[0m \u001b[0;34m\u001b[0m\u001b[0m\n\u001b[1;32m    392\u001b[0m         \u001b[0;31m# Get outputs.\u001b[0m\u001b[0;34m\u001b[0m\u001b[0;34m\u001b[0m\u001b[0;34m\u001b[0m\u001b[0m\n\u001b[0;32m--> 393\u001b[0;31m         \u001b[0mbatch_outs\u001b[0m \u001b[0;34m=\u001b[0m \u001b[0mf\u001b[0m\u001b[0;34m(\u001b[0m\u001b[0mins_batch\u001b[0m\u001b[0;34m)\u001b[0m\u001b[0;34m\u001b[0m\u001b[0;34m\u001b[0m\u001b[0m\n\u001b[0m\u001b[1;32m    394\u001b[0m         \u001b[0;32mif\u001b[0m \u001b[0;32mnot\u001b[0m \u001b[0misinstance\u001b[0m\u001b[0;34m(\u001b[0m\u001b[0mbatch_outs\u001b[0m\u001b[0;34m,\u001b[0m \u001b[0mlist\u001b[0m\u001b[0;34m)\u001b[0m\u001b[0;34m:\u001b[0m\u001b[0;34m\u001b[0m\u001b[0;34m\u001b[0m\u001b[0m\n\u001b[1;32m    395\u001b[0m           \u001b[0mbatch_outs\u001b[0m \u001b[0;34m=\u001b[0m \u001b[0;34m[\u001b[0m\u001b[0mbatch_outs\u001b[0m\u001b[0;34m]\u001b[0m\u001b[0;34m\u001b[0m\u001b[0;34m\u001b[0m\u001b[0m\n",
      "\u001b[0;32m/Library/Frameworks/Python.framework/Versions/3.7/lib/python3.7/site-packages/tensorflow_core/python/keras/backend.py\u001b[0m in \u001b[0;36m__call__\u001b[0;34m(self, inputs)\u001b[0m\n\u001b[1;32m   3738\u001b[0m         \u001b[0mvalue\u001b[0m \u001b[0;34m=\u001b[0m \u001b[0mmath_ops\u001b[0m\u001b[0;34m.\u001b[0m\u001b[0mcast\u001b[0m\u001b[0;34m(\u001b[0m\u001b[0mvalue\u001b[0m\u001b[0;34m,\u001b[0m \u001b[0mtensor\u001b[0m\u001b[0;34m.\u001b[0m\u001b[0mdtype\u001b[0m\u001b[0;34m)\u001b[0m\u001b[0;34m\u001b[0m\u001b[0;34m\u001b[0m\u001b[0m\n\u001b[1;32m   3739\u001b[0m       \u001b[0mconverted_inputs\u001b[0m\u001b[0;34m.\u001b[0m\u001b[0mappend\u001b[0m\u001b[0;34m(\u001b[0m\u001b[0mvalue\u001b[0m\u001b[0;34m)\u001b[0m\u001b[0;34m\u001b[0m\u001b[0;34m\u001b[0m\u001b[0m\n\u001b[0;32m-> 3740\u001b[0;31m     \u001b[0moutputs\u001b[0m \u001b[0;34m=\u001b[0m \u001b[0mself\u001b[0m\u001b[0;34m.\u001b[0m\u001b[0m_graph_fn\u001b[0m\u001b[0;34m(\u001b[0m\u001b[0;34m*\u001b[0m\u001b[0mconverted_inputs\u001b[0m\u001b[0;34m)\u001b[0m\u001b[0;34m\u001b[0m\u001b[0;34m\u001b[0m\u001b[0m\n\u001b[0m\u001b[1;32m   3741\u001b[0m \u001b[0;34m\u001b[0m\u001b[0m\n\u001b[1;32m   3742\u001b[0m     \u001b[0;31m# EagerTensor.numpy() will often make a copy to ensure memory safety.\u001b[0m\u001b[0;34m\u001b[0m\u001b[0;34m\u001b[0m\u001b[0;34m\u001b[0m\u001b[0m\n",
      "\u001b[0;32m/Library/Frameworks/Python.framework/Versions/3.7/lib/python3.7/site-packages/tensorflow_core/python/eager/function.py\u001b[0m in \u001b[0;36m__call__\u001b[0;34m(self, *args, **kwargs)\u001b[0m\n\u001b[1;32m   1079\u001b[0m       \u001b[0mTypeError\u001b[0m\u001b[0;34m:\u001b[0m \u001b[0mFor\u001b[0m \u001b[0minvalid\u001b[0m \u001b[0mpositional\u001b[0m\u001b[0;34m/\u001b[0m\u001b[0mkeyword\u001b[0m \u001b[0margument\u001b[0m \u001b[0mcombinations\u001b[0m\u001b[0;34m.\u001b[0m\u001b[0;34m\u001b[0m\u001b[0;34m\u001b[0m\u001b[0m\n\u001b[1;32m   1080\u001b[0m     \"\"\"\n\u001b[0;32m-> 1081\u001b[0;31m     \u001b[0;32mreturn\u001b[0m \u001b[0mself\u001b[0m\u001b[0;34m.\u001b[0m\u001b[0m_call_impl\u001b[0m\u001b[0;34m(\u001b[0m\u001b[0margs\u001b[0m\u001b[0;34m,\u001b[0m \u001b[0mkwargs\u001b[0m\u001b[0;34m)\u001b[0m\u001b[0;34m\u001b[0m\u001b[0;34m\u001b[0m\u001b[0m\n\u001b[0m\u001b[1;32m   1082\u001b[0m \u001b[0;34m\u001b[0m\u001b[0m\n\u001b[1;32m   1083\u001b[0m   \u001b[0;32mdef\u001b[0m \u001b[0m_call_impl\u001b[0m\u001b[0;34m(\u001b[0m\u001b[0mself\u001b[0m\u001b[0;34m,\u001b[0m \u001b[0margs\u001b[0m\u001b[0;34m,\u001b[0m \u001b[0mkwargs\u001b[0m\u001b[0;34m,\u001b[0m \u001b[0mcancellation_manager\u001b[0m\u001b[0;34m=\u001b[0m\u001b[0;32mNone\u001b[0m\u001b[0;34m)\u001b[0m\u001b[0;34m:\u001b[0m\u001b[0;34m\u001b[0m\u001b[0;34m\u001b[0m\u001b[0m\n",
      "\u001b[0;32m/Library/Frameworks/Python.framework/Versions/3.7/lib/python3.7/site-packages/tensorflow_core/python/eager/function.py\u001b[0m in \u001b[0;36m_call_impl\u001b[0;34m(self, args, kwargs, cancellation_manager)\u001b[0m\n\u001b[1;32m   1119\u001b[0m       raise TypeError(\"Keyword arguments {} unknown. Expected {}.\".format(\n\u001b[1;32m   1120\u001b[0m           list(kwargs.keys()), list(self._arg_keywords)))\n\u001b[0;32m-> 1121\u001b[0;31m     \u001b[0;32mreturn\u001b[0m \u001b[0mself\u001b[0m\u001b[0;34m.\u001b[0m\u001b[0m_call_flat\u001b[0m\u001b[0;34m(\u001b[0m\u001b[0margs\u001b[0m\u001b[0;34m,\u001b[0m \u001b[0mself\u001b[0m\u001b[0;34m.\u001b[0m\u001b[0mcaptured_inputs\u001b[0m\u001b[0;34m,\u001b[0m \u001b[0mcancellation_manager\u001b[0m\u001b[0;34m)\u001b[0m\u001b[0;34m\u001b[0m\u001b[0;34m\u001b[0m\u001b[0m\n\u001b[0m\u001b[1;32m   1122\u001b[0m \u001b[0;34m\u001b[0m\u001b[0m\n\u001b[1;32m   1123\u001b[0m   \u001b[0;32mdef\u001b[0m \u001b[0m_filtered_call\u001b[0m\u001b[0;34m(\u001b[0m\u001b[0mself\u001b[0m\u001b[0;34m,\u001b[0m \u001b[0margs\u001b[0m\u001b[0;34m,\u001b[0m \u001b[0mkwargs\u001b[0m\u001b[0;34m)\u001b[0m\u001b[0;34m:\u001b[0m\u001b[0;34m\u001b[0m\u001b[0;34m\u001b[0m\u001b[0m\n",
      "\u001b[0;32m/Library/Frameworks/Python.framework/Versions/3.7/lib/python3.7/site-packages/tensorflow_core/python/eager/function.py\u001b[0m in \u001b[0;36m_call_flat\u001b[0;34m(self, args, captured_inputs, cancellation_manager)\u001b[0m\n\u001b[1;32m   1222\u001b[0m     \u001b[0;32mif\u001b[0m \u001b[0mexecuting_eagerly\u001b[0m\u001b[0;34m:\u001b[0m\u001b[0;34m\u001b[0m\u001b[0;34m\u001b[0m\u001b[0m\n\u001b[1;32m   1223\u001b[0m       flat_outputs = forward_function.call(\n\u001b[0;32m-> 1224\u001b[0;31m           ctx, args, cancellation_manager=cancellation_manager)\n\u001b[0m\u001b[1;32m   1225\u001b[0m     \u001b[0;32melse\u001b[0m\u001b[0;34m:\u001b[0m\u001b[0;34m\u001b[0m\u001b[0;34m\u001b[0m\u001b[0m\n\u001b[1;32m   1226\u001b[0m       \u001b[0mgradient_name\u001b[0m \u001b[0;34m=\u001b[0m \u001b[0mself\u001b[0m\u001b[0;34m.\u001b[0m\u001b[0m_delayed_rewrite_functions\u001b[0m\u001b[0;34m.\u001b[0m\u001b[0mregister\u001b[0m\u001b[0;34m(\u001b[0m\u001b[0;34m)\u001b[0m\u001b[0;34m\u001b[0m\u001b[0;34m\u001b[0m\u001b[0m\n",
      "\u001b[0;32m/Library/Frameworks/Python.framework/Versions/3.7/lib/python3.7/site-packages/tensorflow_core/python/eager/function.py\u001b[0m in \u001b[0;36mcall\u001b[0;34m(self, ctx, args, cancellation_manager)\u001b[0m\n\u001b[1;32m    509\u001b[0m               \u001b[0minputs\u001b[0m\u001b[0;34m=\u001b[0m\u001b[0margs\u001b[0m\u001b[0;34m,\u001b[0m\u001b[0;34m\u001b[0m\u001b[0;34m\u001b[0m\u001b[0m\n\u001b[1;32m    510\u001b[0m               \u001b[0mattrs\u001b[0m\u001b[0;34m=\u001b[0m\u001b[0;34m(\u001b[0m\u001b[0;34m\"executor_type\"\u001b[0m\u001b[0;34m,\u001b[0m \u001b[0mexecutor_type\u001b[0m\u001b[0;34m,\u001b[0m \u001b[0;34m\"config_proto\"\u001b[0m\u001b[0;34m,\u001b[0m \u001b[0mconfig\u001b[0m\u001b[0;34m)\u001b[0m\u001b[0;34m,\u001b[0m\u001b[0;34m\u001b[0m\u001b[0;34m\u001b[0m\u001b[0m\n\u001b[0;32m--> 511\u001b[0;31m               ctx=ctx)\n\u001b[0m\u001b[1;32m    512\u001b[0m         \u001b[0;32melse\u001b[0m\u001b[0;34m:\u001b[0m\u001b[0;34m\u001b[0m\u001b[0;34m\u001b[0m\u001b[0m\n\u001b[1;32m    513\u001b[0m           outputs = execute.execute_with_cancellation(\n",
      "\u001b[0;32m/Library/Frameworks/Python.framework/Versions/3.7/lib/python3.7/site-packages/tensorflow_core/python/eager/execute.py\u001b[0m in \u001b[0;36mquick_execute\u001b[0;34m(op_name, num_outputs, inputs, attrs, ctx, name)\u001b[0m\n\u001b[1;32m     59\u001b[0m     tensors = pywrap_tensorflow.TFE_Py_Execute(ctx._handle, device_name,\n\u001b[1;32m     60\u001b[0m                                                \u001b[0mop_name\u001b[0m\u001b[0;34m,\u001b[0m \u001b[0minputs\u001b[0m\u001b[0;34m,\u001b[0m \u001b[0mattrs\u001b[0m\u001b[0;34m,\u001b[0m\u001b[0;34m\u001b[0m\u001b[0;34m\u001b[0m\u001b[0m\n\u001b[0;32m---> 61\u001b[0;31m                                                num_outputs)\n\u001b[0m\u001b[1;32m     62\u001b[0m   \u001b[0;32mexcept\u001b[0m \u001b[0mcore\u001b[0m\u001b[0;34m.\u001b[0m\u001b[0m_NotOkStatusException\u001b[0m \u001b[0;32mas\u001b[0m \u001b[0me\u001b[0m\u001b[0;34m:\u001b[0m\u001b[0;34m\u001b[0m\u001b[0;34m\u001b[0m\u001b[0m\n\u001b[1;32m     63\u001b[0m     \u001b[0;32mif\u001b[0m \u001b[0mname\u001b[0m \u001b[0;32mis\u001b[0m \u001b[0;32mnot\u001b[0m \u001b[0;32mNone\u001b[0m\u001b[0;34m:\u001b[0m\u001b[0;34m\u001b[0m\u001b[0;34m\u001b[0m\u001b[0m\n",
      "\u001b[0;31mKeyboardInterrupt\u001b[0m: "
     ]
    }
   ],
   "source": [
    "history2 = model2.fit([D_train, X_train], y_train,\n",
    "                    epochs=10,\n",
    "                    verbose=1,\n",
    "                    validation_data=([D_test, X_test], y_test),\n",
    "                    batch_size=256)"
   ]
  },
  {
   "cell_type": "code",
   "execution_count": null,
   "metadata": {},
   "outputs": [],
   "source": [
    "train_loss = history2.history['loss']\n",
    "test_loss = history2.history['val_loss']\n",
    "\n",
    "train_acc = history2.history['accuracy']\n",
    "test_acc = history2.history['val_accuracy']\n",
    "\n",
    "fig, ax = plt.subplots(2, 1, figsize=(16, 10))\n",
    "\n",
    "ax[0].plot(train_loss, label='Training Loss', color='orange')\n",
    "ax[0].plot(test_loss, label='Testing Loss', color='navy')\n",
    "ax[0].set_title('Training and Testing Loss by Epoch', fontsize=20, pad=10)\n",
    "ax[0].set_xlabel('Epoch', fontsize=16)\n",
    "ax[0].set_ylabel('Categorical Crossentropy', fontsize=16)\n",
    "ax[0].legend(fontsize = 14);\n",
    "\n",
    "ax[1].set_title('Training and Testing Acc by Epoch', fontsize=20, pad=10)\n",
    "ax[1].plot(train_acc, label='Training Acc', color='orange')\n",
    "ax[1].plot(test_acc, label='Testing Acc', color='navy')\n",
    "ax[1].set_xlabel('Epoch', fontsize=16)\n",
    "ax[1].set_ylabel('Categorical Crossentropy', fontsize=16)\n",
    "ax[1].legend(fontsize = 14)\n",
    "\n",
    "plt.tight_layout();"
   ]
  },
  {
   "cell_type": "markdown",
   "metadata": {},
   "source": [
    "#### Predictions"
   ]
  },
  {
   "cell_type": "code",
   "execution_count": null,
   "metadata": {},
   "outputs": [],
   "source": [
    "pred = model.predict_classes(X_test)"
   ]
  },
  {
   "cell_type": "markdown",
   "metadata": {},
   "source": [
    "#### Confusion Matrix"
   ]
  },
  {
   "cell_type": "code",
   "execution_count": null,
   "metadata": {},
   "outputs": [],
   "source": [
    "from tensorflow.math import confusion_matrix\n",
    "tf.math.confusion_matrix(labels=y_test, predictions=pred).numpy()"
   ]
  },
  {
   "cell_type": "markdown",
   "metadata": {},
   "source": [
    "#### GridSearch"
   ]
  },
  {
   "cell_type": "code",
   "execution_count": null,
   "metadata": {},
   "outputs": [],
   "source": [
    "from sklearn.datasets import make_regression\n",
    "from sklearn.preprocessing import StandardScaler\n",
    "from sklearn.model_selection import GridSearchCV, train_test_split\n",
    "from sklearn import metrics\n",
    "\n",
    "from tensorflow.keras.models import Sequential\n",
    "from tensorflow.keras.layers import Dense, Dropout\n",
    "from tensorflow.keras.wrappers.scikit_learn import KerasRegressor\n"
   ]
  },
  {
   "cell_type": "markdown",
   "metadata": {},
   "source": [
    "#### Define Keras Wrapper for Pipeline"
   ]
  },
  {
   "cell_type": "code",
   "execution_count": null,
   "metadata": {},
   "outputs": [],
   "source": [
    "#### Check Input Shape\n",
    "\n",
    "X_train.shape"
   ]
  },
  {
   "cell_type": "code",
   "execution_count": null,
   "metadata": {},
   "outputs": [],
   "source": [
    "#### Create Model\n",
    "\n",
    "def model_func(layer_one_neurons=32, layer_two_neurons=16, layer_one_dropout=.1):\n",
    "    model = Sequential()\n",
    "    model.add(Dense(layer_one_neurons, activation='relu', input_shape=(20,)))\n",
    "    model.add(Dropout(layer_one_dropout))\n",
    "    model.add(Dense(layer_two_neurons, activation='relu'))\n",
    "    model.add(Dense(1, activation=None)) # or activation='linear'\n",
    "    model.compile(loss='mean_squared_error', optimizer='adam')\n",
    "    return model"
   ]
  },
  {
   "cell_type": "code",
   "execution_count": null,
   "metadata": {},
   "outputs": [],
   "source": [
    "# nn = KerasRegressor(build_fn=model_func, batch_size=512, verbose=0)\n",
    "\n",
    "params = {\n",
    "    'epochs': [500],\n",
    "    'layer_one_neurons': [16, 32],\n",
    "    'layer_two_neurons': [16, 32],\n",
    "    'layer_one_dropout' : [.1, .2]\n",
    "}\n",
    "gs = GridSearchCV(estimator=nn, param_grid=params, cv=2)\n",
    "gs.fit(X_train, y_train)\n",
    "print(gs.best_score_)\n",
    "gs.best_params_\n",
    "\n",
    "pred = gs.predict(X_test_sc)\n",
    "metrics.r2_score(y_test, pred)"
   ]
  },
  {
   "cell_type": "markdown",
   "metadata": {},
   "source": [
    "#### Define Pipeline"
   ]
  },
  {
   "cell_type": "code",
   "execution_count": null,
   "metadata": {},
   "outputs": [],
   "source": [
    "pipe_tfidf_logreg = Pipeline([         \n",
    "    ('ct', ColumnTransformer([('tfidf', TfidfVectorizer(), 'corpus')])), # Instantiate transformer\n",
    "    ('logreg', LogisticRegression()),\n",
    "    ('nn', KerasRegressor(build_fn=model_func, batch_size=512, verbose=0))# Instantiante estimator\n",
    "])"
   ]
  },
  {
   "cell_type": "markdown",
   "metadata": {},
   "source": [
    "#### Define Pipeline Parameters"
   ]
  },
  {
   "cell_type": "code",
   "execution_count": null,
   "metadata": {},
   "outputs": [],
   "source": [
    "params_tfidf_logreg = {\n",
    "    'ct__tfidf__tokenizer': [Lemmatizer()],\n",
    "    'ct__tfidf__max_features' : [2500],\n",
    "    'ct__tfidf__stop_words': ['english'],\n",
    "    'ct__tfidf__ngram_range': [(1,1)],\n",
    "    'ct__tfidf__max_df': [.95],\n",
    "    'ct__tfidf__min_df': [3],\n",
    "#     'ct__tfidf__use_idf': [True, False],\n",
    "#     'ct__tfidf__smooth_idf': [True, False],\n",
    "    'logreg__penalty': ['l2'],\n",
    "    'logreg__C': [1],\n",
    "    \n",
    "}"
   ]
  },
  {
   "cell_type": "code",
   "execution_count": null,
   "metadata": {},
   "outputs": [],
   "source": []
  },
  {
   "cell_type": "code",
   "execution_count": null,
   "metadata": {},
   "outputs": [],
   "source": [
    "#### Check Input Shape\n",
    "\n",
    "X_train.shape\n",
    "\n",
    "#### Create Model\n",
    "\n",
    "def model_func(layer_one_neurons=32, layer_two_neurons=16, layer_one_dropout=.1):\n",
    "    model = Sequential()\n",
    "    model.add(Dense(layer_one_neurons, activation='relu', input_shape=(20,)))\n",
    "    model.add(Dropout(layer_one_dropout))\n",
    "    model.add(Dense(layer_two_neurons, activation='relu'))\n",
    "    model.add(Dense(1, activation=None)) # or activation='linear'\n",
    "    model.compile(loss='mean_squared_error', optimizer='adam')\n",
    "    return model\n",
    "\n",
    "nn = KerasRegressor(build_fn=model_func, batch_size=512, verbose=0)\n",
    "\n",
    "params = {\n",
    "    'epochs': [500],\n",
    "    'layer_one_neurons': [16, 32],\n",
    "    'layer_two_neurons': [16, 32],\n",
    "    'layer_one_dropout' : [.1, .2]\n",
    "}\n",
    "gs = GridSearchCV(estimator=nn, param_grid=params, cv=2)\n",
    "gs.fit(X_train, y_train)\n",
    "print(gs.best_score_)\n",
    "gs.best_params_\n",
    "\n",
    "pred = gs.predict(X_test_sc)\n",
    "metrics.r2_score(y_test, pred)"
   ]
  }
 ],
 "metadata": {
  "kernelspec": {
   "display_name": "Python 3",
   "language": "python",
   "name": "python3"
  },
  "language_info": {
   "codemirror_mode": {
    "name": "ipython",
    "version": 3
   },
   "file_extension": ".py",
   "mimetype": "text/x-python",
   "name": "python",
   "nbconvert_exporter": "python",
   "pygments_lexer": "ipython3",
   "version": "3.7.6"
  }
 },
 "nbformat": 4,
 "nbformat_minor": 2
}
