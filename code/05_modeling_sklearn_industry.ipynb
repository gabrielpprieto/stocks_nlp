{
 "cells": [
  {
   "cell_type": "markdown",
   "metadata": {},
   "source": [
    "## 5 - Modeling Industry Specific\n",
    "> Explain Step"
   ]
  },
  {
   "cell_type": "markdown",
   "metadata": {},
   "source": [
    "### 5.0 - Import Libraries"
   ]
  },
  {
   "cell_type": "code",
   "execution_count": 1,
   "metadata": {},
   "outputs": [
    {
     "name": "stderr",
     "output_type": "stream",
     "text": [
      "Using TensorFlow backend.\n"
     ]
    }
   ],
   "source": [
    "import pandas as pd\n",
    "import matplotlib.pyplot as plt\n",
    "import numpy as np\n",
    "\n",
    "from sklearn.compose import ColumnTransformer\n",
    "from sklearn.feature_extraction.text import TfidfVectorizer\n",
    "from sklearn.model_selection import train_test_split, cross_val_score, GridSearchCV, RandomizedSearchCV\n",
    "from sklearn.pipeline import Pipeline\n",
    "\n",
    "from sklearn.linear_model import LogisticRegression\n",
    "from sklearn.ensemble import RandomForestClassifier\n",
    "\n",
    "from sklearn.metrics import confusion_matrix\n",
    "from sklearn.metrics import accuracy_score\n",
    "\n",
    "from sklearn.preprocessing import MultiLabelBinarizer, StandardScaler\n",
    "\n",
    "from imblearn.over_sampling import RandomOverSampler"
   ]
  },
  {
   "cell_type": "code",
   "execution_count": 2,
   "metadata": {},
   "outputs": [],
   "source": [
    "plt.style.use('seaborn-whitegrid')"
   ]
  },
  {
   "cell_type": "code",
   "execution_count": 3,
   "metadata": {},
   "outputs": [],
   "source": [
    "import warnings\n",
    "warnings.filterwarnings(\"ignore\", category=DeprecationWarning)\n",
    "warnings.filterwarnings(\"ignore\", category=FutureWarning)"
   ]
  },
  {
   "cell_type": "code",
   "execution_count": 4,
   "metadata": {},
   "outputs": [],
   "source": [
    "pd.set_option('display.max_columns', None)"
   ]
  },
  {
   "cell_type": "code",
   "execution_count": 5,
   "metadata": {},
   "outputs": [],
   "source": [
    "%%capture\n",
    "from tqdm import tqdm_notebook as tqdm\n",
    "tqdm().pandas()"
   ]
  },
  {
   "cell_type": "markdown",
   "metadata": {},
   "source": [
    "### 5.1 - Read in Data"
   ]
  },
  {
   "cell_type": "code",
   "execution_count": 6,
   "metadata": {},
   "outputs": [],
   "source": [
    "df = pd.read_csv('../clean_data/modeling2.csv')"
   ]
  },
  {
   "cell_type": "code",
   "execution_count": 7,
   "metadata": {},
   "outputs": [
    {
     "data": {
      "text/html": [
       "<div>\n",
       "<style scoped>\n",
       "    .dataframe tbody tr th:only-of-type {\n",
       "        vertical-align: middle;\n",
       "    }\n",
       "\n",
       "    .dataframe tbody tr th {\n",
       "        vertical-align: top;\n",
       "    }\n",
       "\n",
       "    .dataframe thead th {\n",
       "        text-align: right;\n",
       "    }\n",
       "</style>\n",
       "<table border=\"1\" class=\"dataframe\">\n",
       "  <thead>\n",
       "    <tr style=\"text-align: right;\">\n",
       "      <th></th>\n",
       "      <th>company</th>\n",
       "      <th>security</th>\n",
       "      <th>gics_sector</th>\n",
       "      <th>gics_sub_industry</th>\n",
       "      <th>release_date</th>\n",
       "      <th>length_corpus</th>\n",
       "      <th>items</th>\n",
       "      <th>stock_change</th>\n",
       "      <th>index_change</th>\n",
       "      <th>normalized_change</th>\n",
       "      <th>vix</th>\n",
       "      <th>hist_week</th>\n",
       "      <th>hist_month</th>\n",
       "      <th>hist_quarter</th>\n",
       "      <th>hist_year</th>\n",
       "      <th>movement</th>\n",
       "      <th>processed_text</th>\n",
       "    </tr>\n",
       "  </thead>\n",
       "  <tbody>\n",
       "    <tr>\n",
       "      <td>0</td>\n",
       "      <td>CSCO</td>\n",
       "      <td>Cisco Systems</td>\n",
       "      <td>Information Technology</td>\n",
       "      <td>Communications Equipment</td>\n",
       "      <td>2019-08-22 16:35:32</td>\n",
       "      <td>337</td>\n",
       "      <td>['Item8.01']</td>\n",
       "      <td>-0.005812</td>\n",
       "      <td>-0.004064</td>\n",
       "      <td>-0.001747</td>\n",
       "      <td>16.68</td>\n",
       "      <td>0.054486</td>\n",
       "      <td>-0.138644</td>\n",
       "      <td>-0.089602</td>\n",
       "      <td>0.059757</td>\n",
       "      <td>neutral</td>\n",
       "      <td>form 8-k united state security exchange commis...</td>\n",
       "    </tr>\n",
       "  </tbody>\n",
       "</table>\n",
       "</div>"
      ],
      "text/plain": [
       "  company       security             gics_sector         gics_sub_industry  \\\n",
       "0    CSCO  Cisco Systems  Information Technology  Communications Equipment   \n",
       "\n",
       "          release_date  length_corpus         items  stock_change  \\\n",
       "0  2019-08-22 16:35:32            337  ['Item8.01']     -0.005812   \n",
       "\n",
       "   index_change  normalized_change    vix  hist_week  hist_month  \\\n",
       "0     -0.004064          -0.001747  16.68   0.054486   -0.138644   \n",
       "\n",
       "   hist_quarter  hist_year movement  \\\n",
       "0     -0.089602   0.059757  neutral   \n",
       "\n",
       "                                      processed_text  \n",
       "0  form 8-k united state security exchange commis...  "
      ]
     },
     "execution_count": 7,
     "metadata": {},
     "output_type": "execute_result"
    }
   ],
   "source": [
    "df.head(1)"
   ]
  },
  {
   "cell_type": "code",
   "execution_count": 8,
   "metadata": {},
   "outputs": [
    {
     "data": {
      "text/plain": [
       "(56911, 17)"
      ]
     },
     "execution_count": 8,
     "metadata": {},
     "output_type": "execute_result"
    }
   ],
   "source": [
    "df.shape"
   ]
  },
  {
   "cell_type": "markdown",
   "metadata": {},
   "source": [
    "### 5.2 - Create numerical `Target` Column"
   ]
  },
  {
   "cell_type": "code",
   "execution_count": 9,
   "metadata": {},
   "outputs": [],
   "source": [
    "df['target'] = df['movement'].map(lambda x: 2 if x == 'up' else (1 if x == 'neutral' else 0))"
   ]
  },
  {
   "cell_type": "markdown",
   "metadata": {},
   "source": [
    "### 5.3 - Multi Label Binarizer `Items` Column"
   ]
  },
  {
   "cell_type": "code",
   "execution_count": 10,
   "metadata": {},
   "outputs": [],
   "source": [
    "import ast\n",
    "def eval_literal(list_words):\n",
    "    try:\n",
    "        return ast.literal_eval(list_words)  \n",
    "    except ValueError:\n",
    "        return ast.literal_eval(str(list_words))  "
   ]
  },
  {
   "cell_type": "code",
   "execution_count": 11,
   "metadata": {},
   "outputs": [
    {
     "data": {
      "application/vnd.jupyter.widget-view+json": {
       "model_id": "fc46e2f0982b45bea51029e646f84a91",
       "version_major": 2,
       "version_minor": 0
      },
      "text/plain": [
       "HBox(children=(IntProgress(value=0, max=56911), HTML(value='')))"
      ]
     },
     "metadata": {},
     "output_type": "display_data"
    },
    {
     "name": "stdout",
     "output_type": "stream",
     "text": [
      "\n"
     ]
    }
   ],
   "source": [
    "# Items from list of strings to literal - ''\n",
    "df['items'] = df['items'].progress_map(eval_literal)"
   ]
  },
  {
   "cell_type": "code",
   "execution_count": 12,
   "metadata": {},
   "outputs": [],
   "source": [
    "mlb = MultiLabelBinarizer()\n",
    "df = df.join(pd.DataFrame(mlb.fit_transform(df['items']), columns=mlb.classes_,), sort=False, how=\"left\")"
   ]
  },
  {
   "cell_type": "code",
   "execution_count": 13,
   "metadata": {},
   "outputs": [],
   "source": [
    "df.drop(columns=['items'], inplace=True)"
   ]
  },
  {
   "cell_type": "markdown",
   "metadata": {},
   "source": [
    "### 5.4 - Get Dummies and `gics_sub_industry`"
   ]
  },
  {
   "cell_type": "code",
   "execution_count": 14,
   "metadata": {},
   "outputs": [],
   "source": [
    "df = pd.get_dummies(df, columns=['gics_sub_industry'], drop_first=True)"
   ]
  },
  {
   "cell_type": "code",
   "execution_count": 15,
   "metadata": {},
   "outputs": [
    {
     "data": {
      "text/html": [
       "<div>\n",
       "<style scoped>\n",
       "    .dataframe tbody tr th:only-of-type {\n",
       "        vertical-align: middle;\n",
       "    }\n",
       "\n",
       "    .dataframe tbody tr th {\n",
       "        vertical-align: top;\n",
       "    }\n",
       "\n",
       "    .dataframe thead th {\n",
       "        text-align: right;\n",
       "    }\n",
       "</style>\n",
       "<table border=\"1\" class=\"dataframe\">\n",
       "  <thead>\n",
       "    <tr style=\"text-align: right;\">\n",
       "      <th></th>\n",
       "      <th>company</th>\n",
       "      <th>security</th>\n",
       "      <th>gics_sector</th>\n",
       "      <th>release_date</th>\n",
       "      <th>length_corpus</th>\n",
       "      <th>stock_change</th>\n",
       "      <th>index_change</th>\n",
       "      <th>normalized_change</th>\n",
       "      <th>vix</th>\n",
       "      <th>hist_week</th>\n",
       "      <th>hist_month</th>\n",
       "      <th>hist_quarter</th>\n",
       "      <th>hist_year</th>\n",
       "      <th>movement</th>\n",
       "      <th>processed_text</th>\n",
       "      <th>target</th>\n",
       "      <th>Item0.06</th>\n",
       "      <th>Item05.07</th>\n",
       "      <th>Item1.01</th>\n",
       "      <th>Item1.02</th>\n",
       "      <th>Item1.03</th>\n",
       "      <th>Item1.04</th>\n",
       "      <th>Item2.01</th>\n",
       "      <th>Item2.02</th>\n",
       "      <th>Item2.03</th>\n",
       "      <th>Item2.04</th>\n",
       "      <th>Item2.05</th>\n",
       "      <th>Item2.06</th>\n",
       "      <th>Item3.01</th>\n",
       "      <th>Item3.02</th>\n",
       "      <th>Item3.03</th>\n",
       "      <th>Item3.04</th>\n",
       "      <th>Item3.05</th>\n",
       "      <th>Item4.01</th>\n",
       "      <th>Item4.02</th>\n",
       "      <th>Item4.04</th>\n",
       "      <th>Item5.01</th>\n",
       "      <th>Item5.02</th>\n",
       "      <th>Item5.03</th>\n",
       "      <th>Item5.04</th>\n",
       "      <th>Item5.05</th>\n",
       "      <th>Item5.07</th>\n",
       "      <th>Item5.08</th>\n",
       "      <th>Item5.10</th>\n",
       "      <th>Item6.01</th>\n",
       "      <th>Item6.10</th>\n",
       "      <th>Item6.19</th>\n",
       "      <th>Item7.01</th>\n",
       "      <th>Item8.01</th>\n",
       "      <th>Item9.01</th>\n",
       "      <th>Item9.02</th>\n",
       "      <th>gics_sub_industry_Aerospace &amp; Defense</th>\n",
       "      <th>gics_sub_industry_Agricultural &amp; Farm Machinery</th>\n",
       "      <th>gics_sub_industry_Agricultural Products</th>\n",
       "      <th>gics_sub_industry_Air Freight &amp; Logistics</th>\n",
       "      <th>gics_sub_industry_Airlines</th>\n",
       "      <th>gics_sub_industry_Apparel Retail</th>\n",
       "      <th>gics_sub_industry_Apparel, Accessories &amp; Luxury Goods</th>\n",
       "      <th>gics_sub_industry_Application Software</th>\n",
       "      <th>gics_sub_industry_Asset Management &amp; Custody Banks</th>\n",
       "      <th>gics_sub_industry_Auto Parts &amp; Equipment</th>\n",
       "      <th>gics_sub_industry_Automobile Manufacturers</th>\n",
       "      <th>gics_sub_industry_Automotive Retail</th>\n",
       "      <th>gics_sub_industry_Biotechnology</th>\n",
       "      <th>gics_sub_industry_Brewers</th>\n",
       "      <th>gics_sub_industry_Broadcasting</th>\n",
       "      <th>gics_sub_industry_Building Products</th>\n",
       "      <th>gics_sub_industry_Cable &amp; Satellite</th>\n",
       "      <th>gics_sub_industry_Casinos &amp; Gaming</th>\n",
       "      <th>gics_sub_industry_Communications Equipment</th>\n",
       "      <th>gics_sub_industry_Computer &amp; Electronics Retail</th>\n",
       "      <th>gics_sub_industry_Construction &amp; Engineering</th>\n",
       "      <th>gics_sub_industry_Construction Machinery &amp; Heavy Trucks</th>\n",
       "      <th>gics_sub_industry_Construction Materials</th>\n",
       "      <th>gics_sub_industry_Consumer Electronics</th>\n",
       "      <th>gics_sub_industry_Consumer Finance</th>\n",
       "      <th>gics_sub_industry_Copper</th>\n",
       "      <th>gics_sub_industry_Data Processing &amp; Outsourced Services</th>\n",
       "      <th>gics_sub_industry_Department Stores</th>\n",
       "      <th>gics_sub_industry_Distillers &amp; Vintners</th>\n",
       "      <th>gics_sub_industry_Distributors</th>\n",
       "      <th>gics_sub_industry_Diversified Banks</th>\n",
       "      <th>gics_sub_industry_Diversified Chemicals</th>\n",
       "      <th>gics_sub_industry_Diversified Support Services</th>\n",
       "      <th>gics_sub_industry_Drug Retail</th>\n",
       "      <th>gics_sub_industry_Electric Utilities</th>\n",
       "      <th>gics_sub_industry_Electrical Components &amp; Equipment</th>\n",
       "      <th>gics_sub_industry_Electronic Components</th>\n",
       "      <th>gics_sub_industry_Electronic Equipment &amp; Instruments</th>\n",
       "      <th>gics_sub_industry_Electronic Manufacturing Services</th>\n",
       "      <th>gics_sub_industry_Environmental &amp; Facilities Services</th>\n",
       "      <th>gics_sub_industry_Fertilizers &amp; Agricultural Chemicals</th>\n",
       "      <th>gics_sub_industry_Financial Exchanges &amp; Data</th>\n",
       "      <th>gics_sub_industry_Food Distributors</th>\n",
       "      <th>gics_sub_industry_Food Retail</th>\n",
       "      <th>gics_sub_industry_Gas Utilities</th>\n",
       "      <th>gics_sub_industry_General Merchandise Stores</th>\n",
       "      <th>gics_sub_industry_Gold</th>\n",
       "      <th>gics_sub_industry_Health Care Distributors</th>\n",
       "      <th>gics_sub_industry_Health Care Equipment</th>\n",
       "      <th>gics_sub_industry_Health Care Facilities</th>\n",
       "      <th>gics_sub_industry_Health Care REITs</th>\n",
       "      <th>gics_sub_industry_Health Care Services</th>\n",
       "      <th>gics_sub_industry_Health Care Supplies</th>\n",
       "      <th>gics_sub_industry_Health Care Technology</th>\n",
       "      <th>gics_sub_industry_Home Furnishings</th>\n",
       "      <th>gics_sub_industry_Home Improvement Retail</th>\n",
       "      <th>gics_sub_industry_Homebuilding</th>\n",
       "      <th>gics_sub_industry_Hotel &amp; Resort REITs</th>\n",
       "      <th>gics_sub_industry_Hotels, Resorts &amp; Cruise Lines</th>\n",
       "      <th>gics_sub_industry_Household Appliances</th>\n",
       "      <th>gics_sub_industry_Household Products</th>\n",
       "      <th>gics_sub_industry_Housewares &amp; Specialties</th>\n",
       "      <th>gics_sub_industry_Human Resource &amp; Employment Services</th>\n",
       "      <th>gics_sub_industry_Hypermarkets &amp; Super Centers</th>\n",
       "      <th>gics_sub_industry_IT Consulting &amp; Other Services</th>\n",
       "      <th>gics_sub_industry_Independent Power Producers &amp; Energy Traders</th>\n",
       "      <th>gics_sub_industry_Industrial Conglomerates</th>\n",
       "      <th>gics_sub_industry_Industrial Gases</th>\n",
       "      <th>gics_sub_industry_Industrial Machinery</th>\n",
       "      <th>gics_sub_industry_Industrial REITs</th>\n",
       "      <th>gics_sub_industry_Insurance Brokers</th>\n",
       "      <th>gics_sub_industry_Integrated Oil &amp; Gas</th>\n",
       "      <th>gics_sub_industry_Integrated Telecommunication Services</th>\n",
       "      <th>gics_sub_industry_Interactive Home Entertainment</th>\n",
       "      <th>gics_sub_industry_Interactive Media &amp; Services</th>\n",
       "      <th>gics_sub_industry_Internet &amp; Direct Marketing Retail</th>\n",
       "      <th>gics_sub_industry_Internet Services &amp; Infrastructure</th>\n",
       "      <th>gics_sub_industry_Investment Banking &amp; Brokerage</th>\n",
       "      <th>gics_sub_industry_Leisure Products</th>\n",
       "      <th>gics_sub_industry_Life &amp; Health Insurance</th>\n",
       "      <th>gics_sub_industry_Life Sciences Tools &amp; Services</th>\n",
       "      <th>gics_sub_industry_Managed Health Care</th>\n",
       "      <th>gics_sub_industry_Metal &amp; Glass Containers</th>\n",
       "      <th>gics_sub_industry_Motorcycle Manufacturers</th>\n",
       "      <th>gics_sub_industry_Movies &amp; Entertainment</th>\n",
       "      <th>gics_sub_industry_Multi-Utilities</th>\n",
       "      <th>gics_sub_industry_Multi-line Insurance</th>\n",
       "      <th>gics_sub_industry_Office REITs</th>\n",
       "      <th>gics_sub_industry_Oil &amp; Gas Drilling</th>\n",
       "      <th>gics_sub_industry_Oil &amp; Gas Equipment &amp; Services</th>\n",
       "      <th>gics_sub_industry_Oil &amp; Gas Exploration &amp; Production</th>\n",
       "      <th>gics_sub_industry_Oil &amp; Gas Refining &amp; Marketing</th>\n",
       "      <th>gics_sub_industry_Oil &amp; Gas Storage &amp; Transportation</th>\n",
       "      <th>gics_sub_industry_Packaged Foods &amp; Meats</th>\n",
       "      <th>gics_sub_industry_Paper Packaging</th>\n",
       "      <th>gics_sub_industry_Personal Products</th>\n",
       "      <th>gics_sub_industry_Pharmaceuticals</th>\n",
       "      <th>gics_sub_industry_Property &amp; Casualty Insurance</th>\n",
       "      <th>gics_sub_industry_Publishing</th>\n",
       "      <th>gics_sub_industry_Railroads</th>\n",
       "      <th>gics_sub_industry_Real Estate Services</th>\n",
       "      <th>gics_sub_industry_Regional Banks</th>\n",
       "      <th>gics_sub_industry_Reinsurance</th>\n",
       "      <th>gics_sub_industry_Research &amp; Consulting Services</th>\n",
       "      <th>gics_sub_industry_Residential REITs</th>\n",
       "      <th>gics_sub_industry_Restaurants</th>\n",
       "      <th>gics_sub_industry_Retail REITs</th>\n",
       "      <th>gics_sub_industry_Semiconductor Equipment</th>\n",
       "      <th>gics_sub_industry_Semiconductors</th>\n",
       "      <th>gics_sub_industry_Soft Drinks</th>\n",
       "      <th>gics_sub_industry_Specialized Consumer Services</th>\n",
       "      <th>gics_sub_industry_Specialized REITs</th>\n",
       "      <th>gics_sub_industry_Specialty Chemicals</th>\n",
       "      <th>gics_sub_industry_Specialty Stores</th>\n",
       "      <th>gics_sub_industry_Steel</th>\n",
       "      <th>gics_sub_industry_Systems Software</th>\n",
       "      <th>gics_sub_industry_Technology Distributors</th>\n",
       "      <th>gics_sub_industry_Technology Hardware, Storage &amp; Peripherals</th>\n",
       "      <th>gics_sub_industry_Thrifts &amp; Mortgage Finance</th>\n",
       "      <th>gics_sub_industry_Tobacco</th>\n",
       "      <th>gics_sub_industry_Trading Companies &amp; Distributors</th>\n",
       "      <th>gics_sub_industry_Trucking</th>\n",
       "      <th>gics_sub_industry_Water Utilities</th>\n",
       "      <th>gics_sub_industry_Wireless Telecommunication Services</th>\n",
       "    </tr>\n",
       "  </thead>\n",
       "  <tbody>\n",
       "    <tr>\n",
       "      <td>0</td>\n",
       "      <td>CSCO</td>\n",
       "      <td>Cisco Systems</td>\n",
       "      <td>Information Technology</td>\n",
       "      <td>2019-08-22 16:35:32</td>\n",
       "      <td>337</td>\n",
       "      <td>-0.005812</td>\n",
       "      <td>-0.004064</td>\n",
       "      <td>-0.001747</td>\n",
       "      <td>16.68</td>\n",
       "      <td>0.054486</td>\n",
       "      <td>-0.138644</td>\n",
       "      <td>-0.089602</td>\n",
       "      <td>0.059757</td>\n",
       "      <td>neutral</td>\n",
       "      <td>form 8-k united state security exchange commis...</td>\n",
       "      <td>1</td>\n",
       "      <td>0</td>\n",
       "      <td>0</td>\n",
       "      <td>0</td>\n",
       "      <td>0</td>\n",
       "      <td>0</td>\n",
       "      <td>0</td>\n",
       "      <td>0</td>\n",
       "      <td>0</td>\n",
       "      <td>0</td>\n",
       "      <td>0</td>\n",
       "      <td>0</td>\n",
       "      <td>0</td>\n",
       "      <td>0</td>\n",
       "      <td>0</td>\n",
       "      <td>0</td>\n",
       "      <td>0</td>\n",
       "      <td>0</td>\n",
       "      <td>0</td>\n",
       "      <td>0</td>\n",
       "      <td>0</td>\n",
       "      <td>0</td>\n",
       "      <td>0</td>\n",
       "      <td>0</td>\n",
       "      <td>0</td>\n",
       "      <td>0</td>\n",
       "      <td>0</td>\n",
       "      <td>0</td>\n",
       "      <td>0</td>\n",
       "      <td>0</td>\n",
       "      <td>0</td>\n",
       "      <td>0</td>\n",
       "      <td>0</td>\n",
       "      <td>1</td>\n",
       "      <td>0</td>\n",
       "      <td>0</td>\n",
       "      <td>0</td>\n",
       "      <td>0</td>\n",
       "      <td>0</td>\n",
       "      <td>0</td>\n",
       "      <td>0</td>\n",
       "      <td>0</td>\n",
       "      <td>0</td>\n",
       "      <td>0</td>\n",
       "      <td>0</td>\n",
       "      <td>0</td>\n",
       "      <td>0</td>\n",
       "      <td>0</td>\n",
       "      <td>0</td>\n",
       "      <td>0</td>\n",
       "      <td>0</td>\n",
       "      <td>0</td>\n",
       "      <td>0</td>\n",
       "      <td>0</td>\n",
       "      <td>1</td>\n",
       "      <td>0</td>\n",
       "      <td>0</td>\n",
       "      <td>0</td>\n",
       "      <td>0</td>\n",
       "      <td>0</td>\n",
       "      <td>0</td>\n",
       "      <td>0</td>\n",
       "      <td>0</td>\n",
       "      <td>0</td>\n",
       "      <td>0</td>\n",
       "      <td>0</td>\n",
       "      <td>0</td>\n",
       "      <td>0</td>\n",
       "      <td>0</td>\n",
       "      <td>0</td>\n",
       "      <td>0</td>\n",
       "      <td>0</td>\n",
       "      <td>0</td>\n",
       "      <td>0</td>\n",
       "      <td>0</td>\n",
       "      <td>0</td>\n",
       "      <td>0</td>\n",
       "      <td>0</td>\n",
       "      <td>0</td>\n",
       "      <td>0</td>\n",
       "      <td>0</td>\n",
       "      <td>0</td>\n",
       "      <td>0</td>\n",
       "      <td>0</td>\n",
       "      <td>0</td>\n",
       "      <td>0</td>\n",
       "      <td>0</td>\n",
       "      <td>0</td>\n",
       "      <td>0</td>\n",
       "      <td>0</td>\n",
       "      <td>0</td>\n",
       "      <td>0</td>\n",
       "      <td>0</td>\n",
       "      <td>0</td>\n",
       "      <td>0</td>\n",
       "      <td>0</td>\n",
       "      <td>0</td>\n",
       "      <td>0</td>\n",
       "      <td>0</td>\n",
       "      <td>0</td>\n",
       "      <td>0</td>\n",
       "      <td>0</td>\n",
       "      <td>0</td>\n",
       "      <td>0</td>\n",
       "      <td>0</td>\n",
       "      <td>0</td>\n",
       "      <td>0</td>\n",
       "      <td>0</td>\n",
       "      <td>0</td>\n",
       "      <td>0</td>\n",
       "      <td>0</td>\n",
       "      <td>0</td>\n",
       "      <td>0</td>\n",
       "      <td>0</td>\n",
       "      <td>0</td>\n",
       "      <td>0</td>\n",
       "      <td>0</td>\n",
       "      <td>0</td>\n",
       "      <td>0</td>\n",
       "      <td>0</td>\n",
       "      <td>0</td>\n",
       "      <td>0</td>\n",
       "      <td>0</td>\n",
       "      <td>0</td>\n",
       "      <td>0</td>\n",
       "      <td>0</td>\n",
       "      <td>0</td>\n",
       "      <td>0</td>\n",
       "      <td>0</td>\n",
       "      <td>0</td>\n",
       "      <td>0</td>\n",
       "      <td>0</td>\n",
       "      <td>0</td>\n",
       "      <td>0</td>\n",
       "      <td>0</td>\n",
       "      <td>0</td>\n",
       "      <td>0</td>\n",
       "      <td>0</td>\n",
       "      <td>0</td>\n",
       "      <td>0</td>\n",
       "      <td>0</td>\n",
       "      <td>0</td>\n",
       "      <td>0</td>\n",
       "      <td>0</td>\n",
       "      <td>0</td>\n",
       "      <td>0</td>\n",
       "      <td>0</td>\n",
       "      <td>0</td>\n",
       "      <td>0</td>\n",
       "      <td>0</td>\n",
       "      <td>0</td>\n",
       "      <td>0</td>\n",
       "      <td>0</td>\n",
       "      <td>0</td>\n",
       "      <td>0</td>\n",
       "      <td>0</td>\n",
       "      <td>0</td>\n",
       "      <td>0</td>\n",
       "      <td>0</td>\n",
       "      <td>0</td>\n",
       "    </tr>\n",
       "  </tbody>\n",
       "</table>\n",
       "</div>"
      ],
      "text/plain": [
       "  company       security             gics_sector         release_date  \\\n",
       "0    CSCO  Cisco Systems  Information Technology  2019-08-22 16:35:32   \n",
       "\n",
       "   length_corpus  stock_change  index_change  normalized_change    vix  \\\n",
       "0            337     -0.005812     -0.004064          -0.001747  16.68   \n",
       "\n",
       "   hist_week  hist_month  hist_quarter  hist_year movement  \\\n",
       "0   0.054486   -0.138644     -0.089602   0.059757  neutral   \n",
       "\n",
       "                                      processed_text  target  Item0.06  \\\n",
       "0  form 8-k united state security exchange commis...       1         0   \n",
       "\n",
       "   Item05.07  Item1.01  Item1.02  Item1.03  Item1.04  Item2.01  Item2.02  \\\n",
       "0          0         0         0         0         0         0         0   \n",
       "\n",
       "   Item2.03  Item2.04  Item2.05  Item2.06  Item3.01  Item3.02  Item3.03  \\\n",
       "0         0         0         0         0         0         0         0   \n",
       "\n",
       "   Item3.04  Item3.05  Item4.01  Item4.02  Item4.04  Item5.01  Item5.02  \\\n",
       "0         0         0         0         0         0         0         0   \n",
       "\n",
       "   Item5.03  Item5.04  Item5.05  Item5.07  Item5.08  Item5.10  Item6.01  \\\n",
       "0         0         0         0         0         0         0         0   \n",
       "\n",
       "   Item6.10  Item6.19  Item7.01  Item8.01  Item9.01  Item9.02  \\\n",
       "0         0         0         0         1         0         0   \n",
       "\n",
       "   gics_sub_industry_Aerospace & Defense  \\\n",
       "0                                      0   \n",
       "\n",
       "   gics_sub_industry_Agricultural & Farm Machinery  \\\n",
       "0                                                0   \n",
       "\n",
       "   gics_sub_industry_Agricultural Products  \\\n",
       "0                                        0   \n",
       "\n",
       "   gics_sub_industry_Air Freight & Logistics  gics_sub_industry_Airlines  \\\n",
       "0                                          0                           0   \n",
       "\n",
       "   gics_sub_industry_Apparel Retail  \\\n",
       "0                                 0   \n",
       "\n",
       "   gics_sub_industry_Apparel, Accessories & Luxury Goods  \\\n",
       "0                                                  0       \n",
       "\n",
       "   gics_sub_industry_Application Software  \\\n",
       "0                                       0   \n",
       "\n",
       "   gics_sub_industry_Asset Management & Custody Banks  \\\n",
       "0                                                  0    \n",
       "\n",
       "   gics_sub_industry_Auto Parts & Equipment  \\\n",
       "0                                         0   \n",
       "\n",
       "   gics_sub_industry_Automobile Manufacturers  \\\n",
       "0                                           0   \n",
       "\n",
       "   gics_sub_industry_Automotive Retail  gics_sub_industry_Biotechnology  \\\n",
       "0                                    0                                0   \n",
       "\n",
       "   gics_sub_industry_Brewers  gics_sub_industry_Broadcasting  \\\n",
       "0                          0                               0   \n",
       "\n",
       "   gics_sub_industry_Building Products  gics_sub_industry_Cable & Satellite  \\\n",
       "0                                    0                                    0   \n",
       "\n",
       "   gics_sub_industry_Casinos & Gaming  \\\n",
       "0                                   0   \n",
       "\n",
       "   gics_sub_industry_Communications Equipment  \\\n",
       "0                                           1   \n",
       "\n",
       "   gics_sub_industry_Computer & Electronics Retail  \\\n",
       "0                                                0   \n",
       "\n",
       "   gics_sub_industry_Construction & Engineering  \\\n",
       "0                                             0   \n",
       "\n",
       "   gics_sub_industry_Construction Machinery & Heavy Trucks  \\\n",
       "0                                                  0         \n",
       "\n",
       "   gics_sub_industry_Construction Materials  \\\n",
       "0                                         0   \n",
       "\n",
       "   gics_sub_industry_Consumer Electronics  gics_sub_industry_Consumer Finance  \\\n",
       "0                                       0                                   0   \n",
       "\n",
       "   gics_sub_industry_Copper  \\\n",
       "0                         0   \n",
       "\n",
       "   gics_sub_industry_Data Processing & Outsourced Services  \\\n",
       "0                                                  0         \n",
       "\n",
       "   gics_sub_industry_Department Stores  \\\n",
       "0                                    0   \n",
       "\n",
       "   gics_sub_industry_Distillers & Vintners  gics_sub_industry_Distributors  \\\n",
       "0                                        0                               0   \n",
       "\n",
       "   gics_sub_industry_Diversified Banks  \\\n",
       "0                                    0   \n",
       "\n",
       "   gics_sub_industry_Diversified Chemicals  \\\n",
       "0                                        0   \n",
       "\n",
       "   gics_sub_industry_Diversified Support Services  \\\n",
       "0                                               0   \n",
       "\n",
       "   gics_sub_industry_Drug Retail  gics_sub_industry_Electric Utilities  \\\n",
       "0                              0                                     0   \n",
       "\n",
       "   gics_sub_industry_Electrical Components & Equipment  \\\n",
       "0                                                  0     \n",
       "\n",
       "   gics_sub_industry_Electronic Components  \\\n",
       "0                                        0   \n",
       "\n",
       "   gics_sub_industry_Electronic Equipment & Instruments  \\\n",
       "0                                                  0      \n",
       "\n",
       "   gics_sub_industry_Electronic Manufacturing Services  \\\n",
       "0                                                  0     \n",
       "\n",
       "   gics_sub_industry_Environmental & Facilities Services  \\\n",
       "0                                                  0       \n",
       "\n",
       "   gics_sub_industry_Fertilizers & Agricultural Chemicals  \\\n",
       "0                                                  0        \n",
       "\n",
       "   gics_sub_industry_Financial Exchanges & Data  \\\n",
       "0                                             0   \n",
       "\n",
       "   gics_sub_industry_Food Distributors  gics_sub_industry_Food Retail  \\\n",
       "0                                    0                              0   \n",
       "\n",
       "   gics_sub_industry_Gas Utilities  \\\n",
       "0                                0   \n",
       "\n",
       "   gics_sub_industry_General Merchandise Stores  gics_sub_industry_Gold  \\\n",
       "0                                             0                       0   \n",
       "\n",
       "   gics_sub_industry_Health Care Distributors  \\\n",
       "0                                           0   \n",
       "\n",
       "   gics_sub_industry_Health Care Equipment  \\\n",
       "0                                        0   \n",
       "\n",
       "   gics_sub_industry_Health Care Facilities  \\\n",
       "0                                         0   \n",
       "\n",
       "   gics_sub_industry_Health Care REITs  \\\n",
       "0                                    0   \n",
       "\n",
       "   gics_sub_industry_Health Care Services  \\\n",
       "0                                       0   \n",
       "\n",
       "   gics_sub_industry_Health Care Supplies  \\\n",
       "0                                       0   \n",
       "\n",
       "   gics_sub_industry_Health Care Technology  \\\n",
       "0                                         0   \n",
       "\n",
       "   gics_sub_industry_Home Furnishings  \\\n",
       "0                                   0   \n",
       "\n",
       "   gics_sub_industry_Home Improvement Retail  gics_sub_industry_Homebuilding  \\\n",
       "0                                          0                               0   \n",
       "\n",
       "   gics_sub_industry_Hotel & Resort REITs  \\\n",
       "0                                       0   \n",
       "\n",
       "   gics_sub_industry_Hotels, Resorts & Cruise Lines  \\\n",
       "0                                                 0   \n",
       "\n",
       "   gics_sub_industry_Household Appliances  \\\n",
       "0                                       0   \n",
       "\n",
       "   gics_sub_industry_Household Products  \\\n",
       "0                                     0   \n",
       "\n",
       "   gics_sub_industry_Housewares & Specialties  \\\n",
       "0                                           0   \n",
       "\n",
       "   gics_sub_industry_Human Resource & Employment Services  \\\n",
       "0                                                  0        \n",
       "\n",
       "   gics_sub_industry_Hypermarkets & Super Centers  \\\n",
       "0                                               0   \n",
       "\n",
       "   gics_sub_industry_IT Consulting & Other Services  \\\n",
       "0                                                 0   \n",
       "\n",
       "   gics_sub_industry_Independent Power Producers & Energy Traders  \\\n",
       "0                                                  0                \n",
       "\n",
       "   gics_sub_industry_Industrial Conglomerates  \\\n",
       "0                                           0   \n",
       "\n",
       "   gics_sub_industry_Industrial Gases  gics_sub_industry_Industrial Machinery  \\\n",
       "0                                   0                                       0   \n",
       "\n",
       "   gics_sub_industry_Industrial REITs  gics_sub_industry_Insurance Brokers  \\\n",
       "0                                   0                                    0   \n",
       "\n",
       "   gics_sub_industry_Integrated Oil & Gas  \\\n",
       "0                                       0   \n",
       "\n",
       "   gics_sub_industry_Integrated Telecommunication Services  \\\n",
       "0                                                  0         \n",
       "\n",
       "   gics_sub_industry_Interactive Home Entertainment  \\\n",
       "0                                                 0   \n",
       "\n",
       "   gics_sub_industry_Interactive Media & Services  \\\n",
       "0                                               0   \n",
       "\n",
       "   gics_sub_industry_Internet & Direct Marketing Retail  \\\n",
       "0                                                  0      \n",
       "\n",
       "   gics_sub_industry_Internet Services & Infrastructure  \\\n",
       "0                                                  0      \n",
       "\n",
       "   gics_sub_industry_Investment Banking & Brokerage  \\\n",
       "0                                                 0   \n",
       "\n",
       "   gics_sub_industry_Leisure Products  \\\n",
       "0                                   0   \n",
       "\n",
       "   gics_sub_industry_Life & Health Insurance  \\\n",
       "0                                          0   \n",
       "\n",
       "   gics_sub_industry_Life Sciences Tools & Services  \\\n",
       "0                                                 0   \n",
       "\n",
       "   gics_sub_industry_Managed Health Care  \\\n",
       "0                                      0   \n",
       "\n",
       "   gics_sub_industry_Metal & Glass Containers  \\\n",
       "0                                           0   \n",
       "\n",
       "   gics_sub_industry_Motorcycle Manufacturers  \\\n",
       "0                                           0   \n",
       "\n",
       "   gics_sub_industry_Movies & Entertainment  \\\n",
       "0                                         0   \n",
       "\n",
       "   gics_sub_industry_Multi-Utilities  gics_sub_industry_Multi-line Insurance  \\\n",
       "0                                  0                                       0   \n",
       "\n",
       "   gics_sub_industry_Office REITs  gics_sub_industry_Oil & Gas Drilling  \\\n",
       "0                               0                                     0   \n",
       "\n",
       "   gics_sub_industry_Oil & Gas Equipment & Services  \\\n",
       "0                                                 0   \n",
       "\n",
       "   gics_sub_industry_Oil & Gas Exploration & Production  \\\n",
       "0                                                  0      \n",
       "\n",
       "   gics_sub_industry_Oil & Gas Refining & Marketing  \\\n",
       "0                                                 0   \n",
       "\n",
       "   gics_sub_industry_Oil & Gas Storage & Transportation  \\\n",
       "0                                                  0      \n",
       "\n",
       "   gics_sub_industry_Packaged Foods & Meats  \\\n",
       "0                                         0   \n",
       "\n",
       "   gics_sub_industry_Paper Packaging  gics_sub_industry_Personal Products  \\\n",
       "0                                  0                                    0   \n",
       "\n",
       "   gics_sub_industry_Pharmaceuticals  \\\n",
       "0                                  0   \n",
       "\n",
       "   gics_sub_industry_Property & Casualty Insurance  \\\n",
       "0                                                0   \n",
       "\n",
       "   gics_sub_industry_Publishing  gics_sub_industry_Railroads  \\\n",
       "0                             0                            0   \n",
       "\n",
       "   gics_sub_industry_Real Estate Services  gics_sub_industry_Regional Banks  \\\n",
       "0                                       0                                 0   \n",
       "\n",
       "   gics_sub_industry_Reinsurance  \\\n",
       "0                              0   \n",
       "\n",
       "   gics_sub_industry_Research & Consulting Services  \\\n",
       "0                                                 0   \n",
       "\n",
       "   gics_sub_industry_Residential REITs  gics_sub_industry_Restaurants  \\\n",
       "0                                    0                              0   \n",
       "\n",
       "   gics_sub_industry_Retail REITs  gics_sub_industry_Semiconductor Equipment  \\\n",
       "0                               0                                          0   \n",
       "\n",
       "   gics_sub_industry_Semiconductors  gics_sub_industry_Soft Drinks  \\\n",
       "0                                 0                              0   \n",
       "\n",
       "   gics_sub_industry_Specialized Consumer Services  \\\n",
       "0                                                0   \n",
       "\n",
       "   gics_sub_industry_Specialized REITs  gics_sub_industry_Specialty Chemicals  \\\n",
       "0                                    0                                      0   \n",
       "\n",
       "   gics_sub_industry_Specialty Stores  gics_sub_industry_Steel  \\\n",
       "0                                   0                        0   \n",
       "\n",
       "   gics_sub_industry_Systems Software  \\\n",
       "0                                   0   \n",
       "\n",
       "   gics_sub_industry_Technology Distributors  \\\n",
       "0                                          0   \n",
       "\n",
       "   gics_sub_industry_Technology Hardware, Storage & Peripherals  \\\n",
       "0                                                  0              \n",
       "\n",
       "   gics_sub_industry_Thrifts & Mortgage Finance  gics_sub_industry_Tobacco  \\\n",
       "0                                             0                          0   \n",
       "\n",
       "   gics_sub_industry_Trading Companies & Distributors  \\\n",
       "0                                                  0    \n",
       "\n",
       "   gics_sub_industry_Trucking  gics_sub_industry_Water Utilities  \\\n",
       "0                           0                                  0   \n",
       "\n",
       "   gics_sub_industry_Wireless Telecommunication Services  \n",
       "0                                                  0      "
      ]
     },
     "execution_count": 15,
     "metadata": {},
     "output_type": "execute_result"
    }
   ],
   "source": [
    "df.head(1)"
   ]
  },
  {
   "cell_type": "markdown",
   "metadata": {},
   "source": [
    "### 5.5 - Check Classes Balance"
   ]
  },
  {
   "cell_type": "code",
   "execution_count": 16,
   "metadata": {},
   "outputs": [
    {
     "data": {
      "text/plain": [
       "1    0.667006\n",
       "2    0.170160\n",
       "0    0.162833\n",
       "Name: target, dtype: float64"
      ]
     },
     "execution_count": 16,
     "metadata": {},
     "output_type": "execute_result"
    }
   ],
   "source": [
    "# % Accuracy\n",
    "df['target'].value_counts(normalize=True)"
   ]
  },
  {
   "cell_type": "markdown",
   "metadata": {},
   "source": [
    "### 5.6 - Modeling\n",
    "> Define Function to Run Model and Print Results"
   ]
  },
  {
   "cell_type": "code",
   "execution_count": 17,
   "metadata": {},
   "outputs": [],
   "source": [
    "# Instantiate dictianory to house results\n",
    "results = {}"
   ]
  },
  {
   "cell_type": "code",
   "execution_count": 18,
   "metadata": {},
   "outputs": [],
   "source": [
    "# Define function to run Pipeline + RandomizedSearchCV\n",
    "def run_model_rs(pipeline, parameters, industry, cv=3, df=df, model_name=''):\n",
    "    \n",
    "    # Select specific industry from DataFrame\n",
    "    df = df.loc[df['gics_sector'] == industry].copy()\n",
    "    \n",
    "    # Define X and y\n",
    "    X = df.drop(columns=['company', 'release_date', 'security', 'gics_sector','stock_change',\n",
    "                         'index_change', 'normalized_change', 'movement', 'target'])\n",
    "    y = df['target']\n",
    "     \n",
    "    # Train Test Split\n",
    "    X_train, X_test, y_train, y_test = train_test_split(X, y,\n",
    "                                                        random_state=42,\n",
    "                                                        stratify=y,\n",
    "                                                        test_size=0.2)\n",
    "    \n",
    "    # OverSample Training Data to Balance Classes\n",
    "    ros = RandomOverSampler(random_state=42)\n",
    "    X_train_resampled, y_train_resampled = ros.fit_resample(pd.DataFrame(X_train, columns=X.columns),\n",
    "                                                            pd.Series(y_train, name='target'))\n",
    "    \n",
    "    X_train_resampled = pd.DataFrame(X_train_resampled, columns=X.columns)\n",
    "    y_train_resampled = pd.Series(y_train_resampled, name='target')\n",
    "    \n",
    "    # Instantiate RandomizedSearchCV\n",
    "    rs = RandomizedSearchCV(pipeline,\n",
    "                            parameters,\n",
    "                            cv=cv,\n",
    "                            verbose=1,\n",
    "                            n_jobs=-1,\n",
    "                            n_iter=10)\n",
    "       \n",
    "    # Fit GridSearch to training data\n",
    "    rs.fit(X_train_resampled, y_train_resampled)\n",
    "    \n",
    "    # Best mean score out of cross validation out of all models tested (tfidf)\n",
    "    print(f'Best Score: {rs.best_score_}')\n",
    "    \n",
    "    # Best Paramenters\n",
    "    print(f'Best Parameters: {rs.best_params_}')\n",
    "    \n",
    "    # Save best model as gs_cvec_logreg_model\n",
    "    rs_model = rs.best_estimator_\n",
    "    \n",
    "    # Score model on training set.\n",
    "    print(f'Training Accuracy Score: {rs_model.score(X_train_resampled, y_train_resampled)}')\n",
    "    \n",
    "    # Score model on testing set.\n",
    "    print(f'Testing Accuracy Score: {rs_model.score(X_test, y_test)}')\n",
    "    \n",
    "    # Predictions\n",
    "    pred = rs_model.predict(X_test)\n",
    "    \n",
    "    # Confusion Matrix\n",
    "    cm_df = pd.DataFrame(confusion_matrix(y_test, pred, labels=[0, 1, 2]),\n",
    "                         columns=['pred_down', 'pred_neutral', 'pred_up'],\n",
    "                         index=['true_down', 'true_neutral', 'true_up'])\n",
    "    print(' ')\n",
    "    print('Confusion Matrix:')\n",
    "    print(cm_df)\n",
    "    \n",
    "    # 'Append' accuracy scores to 'results' dictinoary\n",
    "    results[model_name] = [rs_model.score(X_train, y_train), rs_model.score(X_test, y_test)]\n",
    "\n",
    "    return rs_model"
   ]
  },
  {
   "cell_type": "markdown",
   "metadata": {},
   "source": [
    "### 5.6.1 - TF-IDF + Logistic Regression\n",
    "> [TF-IDF Vectorizer Documentation](https://scikit-learn.org/stable/modules/generated/sklearn.feature_extraction.text.TfidfVectorizer.html)\n",
    "|\n",
    "> [Logistic Regression Documentation](https://scikit-learn.org/stable/modules/generated/sklearn.linear_model.LogisticRegression.html)"
   ]
  },
  {
   "cell_type": "markdown",
   "metadata": {},
   "source": [
    "#### Define Pipeline"
   ]
  },
  {
   "cell_type": "code",
   "execution_count": 19,
   "metadata": {},
   "outputs": [],
   "source": [
    "# Define numeric features\n",
    "numeric_features = df.drop(columns=['company', 'release_date', 'security',\n",
    "                                    'gics_sector', 'processed_text', \n",
    "                                    'stock_change', 'index_change',\n",
    "                                    'normalized_change', 'movement', 'target']).columns\n",
    "# Define numeric transformer\n",
    "numeric_transformer = Pipeline(steps=[('scaler', StandardScaler())])\n",
    "\n",
    "# Define categorical features\n",
    "categorical_features = 'processed_text'\n",
    "\n",
    "# Define categorical transformer\n",
    "categorical_transformer = Pipeline(steps=[('tfidf', TfidfVectorizer())])\n",
    "\n",
    "# Define Column Transformer\n",
    "preprocessor = ColumnTransformer(transformers=[\n",
    "        ('num', numeric_transformer, numeric_features),\n",
    "        ('cat', categorical_transformer, categorical_features)])\n",
    "\n",
    "# Append classifier to preprocessing pipeline.\n",
    "# Now we have a full prediction pipeline.\n",
    "pipe_tfidf_logreg = Pipeline(steps=[('preprocessor', preprocessor),\n",
    "                                    ('logreg', LogisticRegression())])\n"
   ]
  },
  {
   "cell_type": "markdown",
   "metadata": {},
   "source": [
    "#### Define Parameters"
   ]
  },
  {
   "cell_type": "code",
   "execution_count": 32,
   "metadata": {},
   "outputs": [],
   "source": [
    "params_tfidf_logreg = {\n",
    "    'preprocessor__cat__tfidf__max_features' : [3000],\n",
    "    'preprocessor__cat__tfidf__ngram_range': [(1,1)],\n",
    "    'preprocessor__cat__tfidf__max_df': [.95],\n",
    "    'preprocessor__cat__tfidf__min_df': [1],\n",
    "    'logreg__penalty': ['l2'],\n",
    "    'logreg__C': [1]\n",
    "}"
   ]
  },
  {
   "cell_type": "markdown",
   "metadata": {},
   "source": [
    "#### Run Model - Information Technology"
   ]
  },
  {
   "cell_type": "code",
   "execution_count": 33,
   "metadata": {
    "scrolled": false
   },
   "outputs": [
    {
     "name": "stdout",
     "output_type": "stream",
     "text": [
      "Fitting 3 folds for each of 1 candidates, totalling 3 fits\n"
     ]
    },
    {
     "name": "stderr",
     "output_type": "stream",
     "text": [
      "/Library/Frameworks/Python.framework/Versions/3.7/lib/python3.7/site-packages/sklearn/model_selection/_search.py:266: UserWarning: The total space of parameters 1 is smaller than n_iter=10. Running 1 iterations. For exhaustive searches, use GridSearchCV.\n",
      "  % (grid_size, self.n_iter, grid_size), UserWarning)\n",
      "[Parallel(n_jobs=-1)]: Using backend LokyBackend with 4 concurrent workers.\n",
      "[Parallel(n_jobs=-1)]: Done   3 out of   3 | elapsed:  1.5min finished\n"
     ]
    },
    {
     "name": "stdout",
     "output_type": "stream",
     "text": [
      "Best Score: 0.6267703969678835\n",
      "Best Parameters: {'preprocessor__cat__tfidf__ngram_range': (1, 1), 'preprocessor__cat__tfidf__min_df': 1, 'preprocessor__cat__tfidf__max_features': 3000, 'preprocessor__cat__tfidf__max_df': 0.95, 'logreg__penalty': 'l2', 'logreg__C': 1}\n",
      "Training Accuracy Score: 0.6745461799321764\n",
      "Testing Accuracy Score: 0.6414545454545455\n",
      " \n",
      "Confusion Matrix:\n",
      "              pred_down  pred_neutral  pred_up\n",
      "true_down            95            82       76\n",
      "true_neutral         80           674       82\n",
      "true_up              90            83      113\n"
     ]
    }
   ],
   "source": [
    "logreg_it = run_model_rs(pipe_tfidf_logreg, params_tfidf_logreg, \n",
    "                      industry='Information Technology', cv=3, model_name='information_technology')"
   ]
  },
  {
   "cell_type": "markdown",
   "metadata": {},
   "source": [
    "#### Run Model - Industrials"
   ]
  },
  {
   "cell_type": "code",
   "execution_count": 34,
   "metadata": {},
   "outputs": [
    {
     "name": "stdout",
     "output_type": "stream",
     "text": [
      "Fitting 3 folds for each of 1 candidates, totalling 3 fits\n"
     ]
    },
    {
     "name": "stderr",
     "output_type": "stream",
     "text": [
      "/Library/Frameworks/Python.framework/Versions/3.7/lib/python3.7/site-packages/sklearn/model_selection/_search.py:266: UserWarning: The total space of parameters 1 is smaller than n_iter=10. Running 1 iterations. For exhaustive searches, use GridSearchCV.\n",
      "  % (grid_size, self.n_iter, grid_size), UserWarning)\n",
      "[Parallel(n_jobs=-1)]: Using backend LokyBackend with 4 concurrent workers.\n",
      "[Parallel(n_jobs=-1)]: Done   3 out of   3 | elapsed:  1.6min finished\n"
     ]
    },
    {
     "name": "stdout",
     "output_type": "stream",
     "text": [
      "Best Score: 0.6049534085335949\n",
      "Best Parameters: {'preprocessor__cat__tfidf__ngram_range': (1, 1), 'preprocessor__cat__tfidf__min_df': 1, 'preprocessor__cat__tfidf__max_features': 3000, 'preprocessor__cat__tfidf__max_df': 0.95, 'logreg__penalty': 'l2', 'logreg__C': 1}\n",
      "Training Accuracy Score: 0.6716527709661598\n",
      "Testing Accuracy Score: 0.5951623169955442\n",
      " \n",
      "Confusion Matrix:\n",
      "              pred_down  pred_neutral  pred_up\n",
      "true_down           103            80       81\n",
      "true_neutral        151           714      155\n",
      "true_up              85            84      118\n"
     ]
    }
   ],
   "source": [
    "logreg_ind = run_model_rs(pipe_tfidf_logreg, params_tfidf_logreg, \n",
    "                      industry='Industrials', cv=3, model_name='industrials')"
   ]
  },
  {
   "cell_type": "markdown",
   "metadata": {},
   "source": [
    "#### Run Model - Financials"
   ]
  },
  {
   "cell_type": "code",
   "execution_count": 35,
   "metadata": {},
   "outputs": [
    {
     "name": "stdout",
     "output_type": "stream",
     "text": [
      "Fitting 3 folds for each of 1 candidates, totalling 3 fits\n"
     ]
    },
    {
     "name": "stderr",
     "output_type": "stream",
     "text": [
      "/Library/Frameworks/Python.framework/Versions/3.7/lib/python3.7/site-packages/sklearn/model_selection/_search.py:266: UserWarning: The total space of parameters 1 is smaller than n_iter=10. Running 1 iterations. For exhaustive searches, use GridSearchCV.\n",
      "  % (grid_size, self.n_iter, grid_size), UserWarning)\n",
      "[Parallel(n_jobs=-1)]: Using backend LokyBackend with 4 concurrent workers.\n",
      "[Parallel(n_jobs=-1)]: Done   3 out of   3 | elapsed:  2.5min finished\n"
     ]
    },
    {
     "name": "stdout",
     "output_type": "stream",
     "text": [
      "Best Score: 0.5996884735202492\n",
      "Best Parameters: {'preprocessor__cat__tfidf__ngram_range': (1, 1), 'preprocessor__cat__tfidf__min_df': 1, 'preprocessor__cat__tfidf__max_features': 3000, 'preprocessor__cat__tfidf__max_df': 0.95, 'logreg__penalty': 'l2', 'logreg__C': 1}\n",
      "Training Accuracy Score: 0.6578600527198658\n",
      "Testing Accuracy Score: 0.6212361331220285\n",
      " \n",
      "Confusion Matrix:\n",
      "              pred_down  pred_neutral  pred_up\n",
      "true_down            86            86       68\n",
      "true_neutral        215           965      211\n",
      "true_up              68            69      125\n"
     ]
    }
   ],
   "source": [
    "logreg_fin = run_model_rs(pipe_tfidf_logreg, params_tfidf_logreg, \n",
    "                      industry='Financials', cv=3, model_name='financials')"
   ]
  },
  {
   "cell_type": "markdown",
   "metadata": {},
   "source": [
    "#### Run Model - Helath Care"
   ]
  },
  {
   "cell_type": "code",
   "execution_count": 36,
   "metadata": {},
   "outputs": [
    {
     "name": "stdout",
     "output_type": "stream",
     "text": [
      "Fitting 3 folds for each of 1 candidates, totalling 3 fits\n"
     ]
    },
    {
     "name": "stderr",
     "output_type": "stream",
     "text": [
      "/Library/Frameworks/Python.framework/Versions/3.7/lib/python3.7/site-packages/sklearn/model_selection/_search.py:266: UserWarning: The total space of parameters 1 is smaller than n_iter=10. Running 1 iterations. For exhaustive searches, use GridSearchCV.\n",
      "  % (grid_size, self.n_iter, grid_size), UserWarning)\n",
      "[Parallel(n_jobs=-1)]: Using backend LokyBackend with 4 concurrent workers.\n",
      "[Parallel(n_jobs=-1)]: Done   3 out of   3 | elapsed:  1.4min finished\n"
     ]
    },
    {
     "name": "stdout",
     "output_type": "stream",
     "text": [
      "Best Score: 0.6235479973980114\n",
      "Best Parameters: {'preprocessor__cat__tfidf__ngram_range': (1, 1), 'preprocessor__cat__tfidf__min_df': 1, 'preprocessor__cat__tfidf__max_features': 3000, 'preprocessor__cat__tfidf__max_df': 0.95, 'logreg__penalty': 'l2', 'logreg__C': 1}\n",
      "Training Accuracy Score: 0.6806058916457578\n",
      "Testing Accuracy Score: 0.5937042459736457\n",
      " \n",
      "Confusion Matrix:\n",
      "              pred_down  pred_neutral  pred_up\n",
      "true_down            80            57       89\n",
      "true_neutral        126           649      123\n",
      "true_up              89            71       82\n"
     ]
    }
   ],
   "source": [
    "logreg_hc = run_model_rs(pipe_tfidf_logreg, params_tfidf_logreg, \n",
    "                      industry='Health Care', cv=3, model_name='health care')"
   ]
  },
  {
   "cell_type": "markdown",
   "metadata": {},
   "source": [
    "#### Run Model - Consumer Discretionary"
   ]
  },
  {
   "cell_type": "code",
   "execution_count": 37,
   "metadata": {},
   "outputs": [
    {
     "name": "stdout",
     "output_type": "stream",
     "text": [
      "Fitting 3 folds for each of 1 candidates, totalling 3 fits\n"
     ]
    },
    {
     "name": "stderr",
     "output_type": "stream",
     "text": [
      "/Library/Frameworks/Python.framework/Versions/3.7/lib/python3.7/site-packages/sklearn/model_selection/_search.py:266: UserWarning: The total space of parameters 1 is smaller than n_iter=10. Running 1 iterations. For exhaustive searches, use GridSearchCV.\n",
      "  % (grid_size, self.n_iter, grid_size), UserWarning)\n",
      "[Parallel(n_jobs=-1)]: Using backend LokyBackend with 4 concurrent workers.\n",
      "[Parallel(n_jobs=-1)]: Done   3 out of   3 | elapsed:  1.2min finished\n"
     ]
    },
    {
     "name": "stdout",
     "output_type": "stream",
     "text": [
      "Best Score: 0.5832032469559788\n",
      "Best Parameters: {'preprocessor__cat__tfidf__ngram_range': (1, 1), 'preprocessor__cat__tfidf__min_df': 1, 'preprocessor__cat__tfidf__max_features': 3000, 'preprocessor__cat__tfidf__max_df': 0.95, 'logreg__penalty': 'l2', 'logreg__C': 1}\n",
      "Training Accuracy Score: 0.6414819440108231\n",
      "Testing Accuracy Score: 0.590057636887608\n",
      " \n",
      "Confusion Matrix:\n",
      "              pred_down  pred_neutral  pred_up\n",
      "true_down            69           105      116\n",
      "true_neutral         95           621       85\n",
      "true_up              84            84      129\n"
     ]
    }
   ],
   "source": [
    "logreg_cd = run_model_rs(pipe_tfidf_logreg, params_tfidf_logreg, \n",
    "                      industry='Consumer Discretionary', cv=3, model_name='consuemer discretionary')"
   ]
  },
  {
   "cell_type": "markdown",
   "metadata": {},
   "source": [
    "#### Run Model - Energy"
   ]
  },
  {
   "cell_type": "code",
   "execution_count": 38,
   "metadata": {},
   "outputs": [
    {
     "name": "stdout",
     "output_type": "stream",
     "text": [
      "Fitting 3 folds for each of 1 candidates, totalling 3 fits\n"
     ]
    },
    {
     "name": "stderr",
     "output_type": "stream",
     "text": [
      "/Library/Frameworks/Python.framework/Versions/3.7/lib/python3.7/site-packages/sklearn/model_selection/_search.py:266: UserWarning: The total space of parameters 1 is smaller than n_iter=10. Running 1 iterations. For exhaustive searches, use GridSearchCV.\n",
      "  % (grid_size, self.n_iter, grid_size), UserWarning)\n",
      "[Parallel(n_jobs=-1)]: Using backend LokyBackend with 4 concurrent workers.\n",
      "[Parallel(n_jobs=-1)]: Done   3 out of   3 | elapsed:   35.5s finished\n"
     ]
    },
    {
     "name": "stdout",
     "output_type": "stream",
     "text": [
      "Best Score: 0.5868667101543814\n",
      "Best Parameters: {'preprocessor__cat__tfidf__ngram_range': (1, 1), 'preprocessor__cat__tfidf__min_df': 1, 'preprocessor__cat__tfidf__max_features': 3000, 'preprocessor__cat__tfidf__max_df': 0.95, 'logreg__penalty': 'l2', 'logreg__C': 1}\n",
      "Training Accuracy Score: 0.6666666666666666\n",
      "Testing Accuracy Score: 0.5279106858054227\n",
      " \n",
      "Confusion Matrix:\n",
      "              pred_down  pred_neutral  pred_up\n",
      "true_down            45            34       44\n",
      "true_neutral         77           237       70\n",
      "true_up              37            34       49\n"
     ]
    }
   ],
   "source": [
    "logreg_e = run_model_rs(pipe_tfidf_logreg, params_tfidf_logreg, \n",
    "                      industry='Energy', cv=3, model_name='energy')"
   ]
  },
  {
   "cell_type": "markdown",
   "metadata": {},
   "source": [
    "#### Run Model - Materials"
   ]
  },
  {
   "cell_type": "code",
   "execution_count": 39,
   "metadata": {},
   "outputs": [
    {
     "name": "stdout",
     "output_type": "stream",
     "text": [
      "Fitting 3 folds for each of 1 candidates, totalling 3 fits\n"
     ]
    },
    {
     "name": "stderr",
     "output_type": "stream",
     "text": [
      "/Library/Frameworks/Python.framework/Versions/3.7/lib/python3.7/site-packages/sklearn/model_selection/_search.py:266: UserWarning: The total space of parameters 1 is smaller than n_iter=10. Running 1 iterations. For exhaustive searches, use GridSearchCV.\n",
      "  % (grid_size, self.n_iter, grid_size), UserWarning)\n",
      "[Parallel(n_jobs=-1)]: Using backend LokyBackend with 4 concurrent workers.\n",
      "[Parallel(n_jobs=-1)]: Done   3 out of   3 | elapsed:   32.0s finished\n"
     ]
    },
    {
     "name": "stdout",
     "output_type": "stream",
     "text": [
      "Best Score: 0.6004601226993865\n",
      "Best Parameters: {'preprocessor__cat__tfidf__ngram_range': (1, 1), 'preprocessor__cat__tfidf__min_df': 1, 'preprocessor__cat__tfidf__max_features': 3000, 'preprocessor__cat__tfidf__max_df': 0.95, 'logreg__penalty': 'l2', 'logreg__C': 1}\n",
      "Training Accuracy Score: 0.7029652351738241\n",
      "Testing Accuracy Score: 0.5210727969348659\n",
      " \n",
      "Confusion Matrix:\n",
      "              pred_down  pred_neutral  pred_up\n",
      "true_down            29            34       33\n",
      "true_neutral         48           210       68\n",
      "true_up              28            39       33\n"
     ]
    }
   ],
   "source": [
    "logreg_m = run_model_rs(pipe_tfidf_logreg, params_tfidf_logreg, \n",
    "                      industry='Materials', cv=3, model_name='materials')"
   ]
  },
  {
   "cell_type": "markdown",
   "metadata": {},
   "source": [
    "#### Run Model - Real Estate"
   ]
  },
  {
   "cell_type": "code",
   "execution_count": 40,
   "metadata": {},
   "outputs": [
    {
     "name": "stdout",
     "output_type": "stream",
     "text": [
      "Fitting 3 folds for each of 1 candidates, totalling 3 fits\n"
     ]
    },
    {
     "name": "stderr",
     "output_type": "stream",
     "text": [
      "/Library/Frameworks/Python.framework/Versions/3.7/lib/python3.7/site-packages/sklearn/model_selection/_search.py:266: UserWarning: The total space of parameters 1 is smaller than n_iter=10. Running 1 iterations. For exhaustive searches, use GridSearchCV.\n",
      "  % (grid_size, self.n_iter, grid_size), UserWarning)\n",
      "[Parallel(n_jobs=-1)]: Using backend LokyBackend with 4 concurrent workers.\n",
      "[Parallel(n_jobs=-1)]: Done   3 out of   3 | elapsed:  1.3min finished\n"
     ]
    },
    {
     "name": "stdout",
     "output_type": "stream",
     "text": [
      "Best Score: 0.6558853935903116\n",
      "Best Parameters: {'preprocessor__cat__tfidf__ngram_range': (1, 1), 'preprocessor__cat__tfidf__min_df': 1, 'preprocessor__cat__tfidf__max_features': 3000, 'preprocessor__cat__tfidf__max_df': 0.95, 'logreg__penalty': 'l2', 'logreg__C': 1}\n",
      "Training Accuracy Score: 0.7341603898980948\n",
      "Testing Accuracy Score: 0.5734072022160664\n",
      " \n",
      "Confusion Matrix:\n",
      "              pred_down  pred_neutral  pred_up\n",
      "true_down            29            32       27\n",
      "true_neutral        110           367       88\n",
      "true_up              26            25       18\n"
     ]
    }
   ],
   "source": [
    "logreg_re = run_model_rs(pipe_tfidf_logreg, params_tfidf_logreg, \n",
    "                      industry='Real Estate', cv=3, model_name='real estate')"
   ]
  },
  {
   "cell_type": "markdown",
   "metadata": {},
   "source": [
    "#### Run Model - Consumer Staples"
   ]
  },
  {
   "cell_type": "code",
   "execution_count": 41,
   "metadata": {},
   "outputs": [
    {
     "name": "stdout",
     "output_type": "stream",
     "text": [
      "Fitting 3 folds for each of 1 candidates, totalling 3 fits\n"
     ]
    },
    {
     "name": "stderr",
     "output_type": "stream",
     "text": [
      "/Library/Frameworks/Python.framework/Versions/3.7/lib/python3.7/site-packages/sklearn/model_selection/_search.py:266: UserWarning: The total space of parameters 1 is smaller than n_iter=10. Running 1 iterations. For exhaustive searches, use GridSearchCV.\n",
      "  % (grid_size, self.n_iter, grid_size), UserWarning)\n",
      "[Parallel(n_jobs=-1)]: Using backend LokyBackend with 4 concurrent workers.\n",
      "[Parallel(n_jobs=-1)]: Done   3 out of   3 | elapsed:   46.3s finished\n"
     ]
    },
    {
     "name": "stdout",
     "output_type": "stream",
     "text": [
      "Best Score: 0.6517940137572039\n",
      "Best Parameters: {'preprocessor__cat__tfidf__ngram_range': (1, 1), 'preprocessor__cat__tfidf__min_df': 1, 'preprocessor__cat__tfidf__max_features': 3000, 'preprocessor__cat__tfidf__max_df': 0.95, 'logreg__penalty': 'l2', 'logreg__C': 1}\n",
      "Training Accuracy Score: 0.7177914110429447\n",
      "Testing Accuracy Score: 0.664179104477612\n",
      " \n",
      "Confusion Matrix:\n",
      "              pred_down  pred_neutral  pred_up\n",
      "true_down            43            29       36\n",
      "true_neutral         34           355       60\n",
      "true_up              26            40       47\n"
     ]
    }
   ],
   "source": [
    "logreg_cs = run_model_rs(pipe_tfidf_logreg, params_tfidf_logreg, \n",
    "                      industry='Consumer Staples', cv=3, model_name='consumer staples')"
   ]
  },
  {
   "cell_type": "markdown",
   "metadata": {},
   "source": [
    "#### Run Model - Communication Services"
   ]
  },
  {
   "cell_type": "code",
   "execution_count": 42,
   "metadata": {},
   "outputs": [
    {
     "name": "stdout",
     "output_type": "stream",
     "text": [
      "Fitting 3 folds for each of 1 candidates, totalling 3 fits\n"
     ]
    },
    {
     "name": "stderr",
     "output_type": "stream",
     "text": [
      "/Library/Frameworks/Python.framework/Versions/3.7/lib/python3.7/site-packages/sklearn/model_selection/_search.py:266: UserWarning: The total space of parameters 1 is smaller than n_iter=10. Running 1 iterations. For exhaustive searches, use GridSearchCV.\n",
      "  % (grid_size, self.n_iter, grid_size), UserWarning)\n",
      "[Parallel(n_jobs=-1)]: Using backend LokyBackend with 4 concurrent workers.\n",
      "[Parallel(n_jobs=-1)]: Done   3 out of   3 | elapsed:   35.3s finished\n"
     ]
    },
    {
     "name": "stdout",
     "output_type": "stream",
     "text": [
      "Best Score: 0.6435877261998426\n",
      "Best Parameters: {'preprocessor__cat__tfidf__ngram_range': (1, 1), 'preprocessor__cat__tfidf__min_df': 1, 'preprocessor__cat__tfidf__max_features': 3000, 'preprocessor__cat__tfidf__max_df': 0.95, 'logreg__penalty': 'l2', 'logreg__C': 1}\n",
      "Training Accuracy Score: 0.7104642014162077\n",
      "Testing Accuracy Score: 0.6183673469387755\n",
      " \n",
      "Confusion Matrix:\n",
      "              pred_down  pred_neutral  pred_up\n",
      "true_down            27            30       28\n",
      "true_neutral         34           245       39\n",
      "true_up              24            32       31\n"
     ]
    }
   ],
   "source": [
    "logreg_c = run_model_rs(pipe_tfidf_logreg, params_tfidf_logreg, \n",
    "                      industry='Communication Services', cv=3, model_name='communication')"
   ]
  },
  {
   "cell_type": "markdown",
   "metadata": {},
   "source": [
    "#### Run Model - Utilities"
   ]
  },
  {
   "cell_type": "code",
   "execution_count": 43,
   "metadata": {},
   "outputs": [
    {
     "name": "stdout",
     "output_type": "stream",
     "text": [
      "Fitting 3 folds for each of 1 candidates, totalling 3 fits\n"
     ]
    },
    {
     "name": "stderr",
     "output_type": "stream",
     "text": [
      "/Library/Frameworks/Python.framework/Versions/3.7/lib/python3.7/site-packages/sklearn/model_selection/_search.py:266: UserWarning: The total space of parameters 1 is smaller than n_iter=10. Running 1 iterations. For exhaustive searches, use GridSearchCV.\n",
      "  % (grid_size, self.n_iter, grid_size), UserWarning)\n",
      "[Parallel(n_jobs=-1)]: Using backend LokyBackend with 4 concurrent workers.\n",
      "[Parallel(n_jobs=-1)]: Done   3 out of   3 | elapsed:   55.7s finished\n"
     ]
    },
    {
     "name": "stdout",
     "output_type": "stream",
     "text": [
      "Best Score: 0.6729740847387906\n",
      "Best Parameters: {'preprocessor__cat__tfidf__ngram_range': (1, 1), 'preprocessor__cat__tfidf__min_df': 1, 'preprocessor__cat__tfidf__max_features': 3000, 'preprocessor__cat__tfidf__max_df': 0.95, 'logreg__penalty': 'l2', 'logreg__C': 1}\n",
      "Training Accuracy Score: 0.7430412724530372\n",
      "Testing Accuracy Score: 0.5405759162303665\n",
      " \n",
      "Confusion Matrix:\n",
      "              pred_down  pred_neutral  pred_up\n",
      "true_down            24            31       26\n",
      "true_neutral        138           373       98\n",
      "true_up              26            32       16\n"
     ]
    }
   ],
   "source": [
    "logreg_u = run_model_rs(pipe_tfidf_logreg, params_tfidf_logreg, \n",
    "                      industry='Utilities', cv=3, model_name='utilities')"
   ]
  },
  {
   "cell_type": "markdown",
   "metadata": {},
   "source": [
    "#### Plot Results - Train / Test Accuracy Scores"
   ]
  },
  {
   "cell_type": "code",
   "execution_count": 45,
   "metadata": {},
   "outputs": [
    {
     "data": {
      "text/html": [
       "<div>\n",
       "<style scoped>\n",
       "    .dataframe tbody tr th:only-of-type {\n",
       "        vertical-align: middle;\n",
       "    }\n",
       "\n",
       "    .dataframe tbody tr th {\n",
       "        vertical-align: top;\n",
       "    }\n",
       "\n",
       "    .dataframe thead th {\n",
       "        text-align: right;\n",
       "    }\n",
       "</style>\n",
       "<table border=\"1\" class=\"dataframe\">\n",
       "  <thead>\n",
       "    <tr style=\"text-align: right;\">\n",
       "      <th></th>\n",
       "      <th>Train</th>\n",
       "      <th>Test</th>\n",
       "    </tr>\n",
       "  </thead>\n",
       "  <tbody>\n",
       "    <tr>\n",
       "      <td>information_technology</td>\n",
       "      <td>0.711661</td>\n",
       "      <td>0.641455</td>\n",
       "    </tr>\n",
       "    <tr>\n",
       "      <td>industrials</td>\n",
       "      <td>0.696975</td>\n",
       "      <td>0.595162</td>\n",
       "    </tr>\n",
       "    <tr>\n",
       "      <td>financials</td>\n",
       "      <td>0.685469</td>\n",
       "      <td>0.621236</td>\n",
       "    </tr>\n",
       "    <tr>\n",
       "      <td>health care</td>\n",
       "      <td>0.705861</td>\n",
       "      <td>0.593704</td>\n",
       "    </tr>\n",
       "    <tr>\n",
       "      <td>consuemer discretionary</td>\n",
       "      <td>0.684211</td>\n",
       "      <td>0.590058</td>\n",
       "    </tr>\n",
       "    <tr>\n",
       "      <td>energy</td>\n",
       "      <td>0.652711</td>\n",
       "      <td>0.527911</td>\n",
       "    </tr>\n",
       "    <tr>\n",
       "      <td>materials</td>\n",
       "      <td>0.685824</td>\n",
       "      <td>0.521073</td>\n",
       "    </tr>\n",
       "    <tr>\n",
       "      <td>real estate</td>\n",
       "      <td>0.704577</td>\n",
       "      <td>0.573407</td>\n",
       "    </tr>\n",
       "    <tr>\n",
       "      <td>consumer staples</td>\n",
       "      <td>0.741405</td>\n",
       "      <td>0.664179</td>\n",
       "    </tr>\n",
       "    <tr>\n",
       "      <td>communication</td>\n",
       "      <td>0.741194</td>\n",
       "      <td>0.618367</td>\n",
       "    </tr>\n",
       "    <tr>\n",
       "      <td>utilities</td>\n",
       "      <td>0.694071</td>\n",
       "      <td>0.540576</td>\n",
       "    </tr>\n",
       "  </tbody>\n",
       "</table>\n",
       "</div>"
      ],
      "text/plain": [
       "                            Train      Test\n",
       "information_technology   0.711661  0.641455\n",
       "industrials              0.696975  0.595162\n",
       "financials               0.685469  0.621236\n",
       "health care              0.705861  0.593704\n",
       "consuemer discretionary  0.684211  0.590058\n",
       "energy                   0.652711  0.527911\n",
       "materials                0.685824  0.521073\n",
       "real estate              0.704577  0.573407\n",
       "consumer staples         0.741405  0.664179\n",
       "communication            0.741194  0.618367\n",
       "utilities                0.694071  0.540576"
      ]
     },
     "execution_count": 45,
     "metadata": {},
     "output_type": "execute_result"
    }
   ],
   "source": [
    "results_df = pd.DataFrame(results, index=['Train', 'Test']).T\n",
    "results_df"
   ]
  },
  {
   "cell_type": "code",
   "execution_count": 48,
   "metadata": {},
   "outputs": [
    {
     "data": {
      "image/png": "[encoded data removed]",
      "text/plain": [
       "<Figure size 1440x576 with 1 Axes>"
      ]
     },
     "metadata": {},
     "output_type": "display_data"
    }
   ],
   "source": [
    "# Create plot fot 'Test Accuracy Scores'\n",
    "results_df.plot(kind='bar', figsize=(20,8), color=['orange', 'navy'], alpha=.6)\n",
    "\n",
    "plt.title('Train and Test Accuracy Scores', size=18, pad=10)\n",
    "plt.axhline(0.5, color='r')\n",
    "plt.ylabel('Test Accuracy', size=14)\n",
    "plt.xticks([0,1,2,3,4,5,6,7,8,9,10],['IT', 'Industrials', 'Financials',\n",
    "       'Health Care', 'C. Discretionary', 'Energy', 'Materials',\n",
    "       'Real Estate', 'C. Staples', 'Communication',\n",
    "       'Utilities'], size=14, rotation=0)\n",
    "plt.yticks(size=13)\n",
    "plt.ylim(0, 1);"
   ]
  }
 ],
 "metadata": {
  "kernelspec": {
   "display_name": "Python 3",
   "language": "python",
   "name": "python3"
  },
  "language_info": {
   "codemirror_mode": {
    "name": "ipython",
    "version": 3
   },
   "file_extension": ".py",
   "mimetype": "text/x-python",
   "name": "python",
   "nbconvert_exporter": "python",
   "pygments_lexer": "ipython3",
   "version": "3.7.2"
  }
 },
 "nbformat": 4,
 "nbformat_minor": 2
}
