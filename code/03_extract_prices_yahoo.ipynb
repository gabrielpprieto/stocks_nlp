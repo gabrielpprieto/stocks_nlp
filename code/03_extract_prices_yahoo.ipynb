{
 "cells": [
  {
   "cell_type": "markdown",
   "metadata": {},
   "source": [
    "## 3 - Extract Prices\n",
    "> Get price change for all stocks on document's release date"
   ]
  },
  {
   "cell_type": "markdown",
   "metadata": {},
   "source": [
    "### 3.0 - Import Libraries"
   ]
  },
  {
   "cell_type": "code",
   "execution_count": 2,
   "metadata": {},
   "outputs": [],
   "source": [
    "import pandas as pd\n",
    "import numpy as np\n",
    "import time\n",
    "import random\n",
    "import unicodedata\n",
    "import re\n",
    "import datetime\n",
    "import os\n",
    "from nltk.tokenize import RegexpTokenizer\n",
    "from sklearn.preprocessing import MultiLabelBinarizer\n",
    "import ast\n",
    "import requests\n",
    "from bs4 import BeautifulSoup\n",
    "import pandas_datareader.data as web\n",
    "import pandas_market_calendars as mcal\n",
    "from tqdm import tqdm"
   ]
  },
  {
   "cell_type": "code",
   "execution_count": 3,
   "metadata": {},
   "outputs": [],
   "source": [
    "# Set max columns and width with pandas\n",
    "pd.set_option('display.max_colwidth', -1)\n",
    "pd.set_option('display.max_columns', 500)"
   ]
  },
  {
   "cell_type": "code",
   "execution_count": 5,
   "metadata": {},
   "outputs": [],
   "source": [
    "# Clear future and deprecation warnings\n",
    "import warnings\n",
    "warnings.filterwarnings(\"ignore\", category=DeprecationWarning)\n",
    "warnings.filterwarnings(\"ignore\", category=FutureWarning)"
   ]
  },
  {
   "cell_type": "markdown",
   "metadata": {},
   "source": [
    "### 3.1 Read in Data"
   ]
  },
  {
   "cell_type": "code",
   "execution_count": 13,
   "metadata": {},
   "outputs": [],
   "source": [
    "df = pd.read_csv('../clean_data/concat.csv')\n",
    "df.drop(columns=['index'], axis=1, inplace=True)"
   ]
  },
  {
   "cell_type": "markdown",
   "metadata": {},
   "source": [
    "### 3.2 Drop Duplicates"
   ]
  },
  {
   "cell_type": "code",
   "execution_count": 14,
   "metadata": {},
   "outputs": [
    {
     "data": {
      "text/plain": [
       "(63659, 11)"
      ]
     },
     "execution_count": 14,
     "metadata": {},
     "output_type": "execute_result"
    }
   ],
   "source": [
    "# Check shape before\n",
    "df.shape"
   ]
  },
  {
   "cell_type": "code",
   "execution_count": 18,
   "metadata": {},
   "outputs": [],
   "source": [
    "# Override DataFrame dropping duplicate values\n",
    "df = df.drop_duplicates(subset=['corpus', 'release_date'])"
   ]
  },
  {
   "cell_type": "code",
   "execution_count": 19,
   "metadata": {},
   "outputs": [
    {
     "data": {
      "text/plain": [
       "(57681, 11)"
      ]
     },
     "execution_count": 19,
     "metadata": {},
     "output_type": "execute_result"
    }
   ],
   "source": [
    "# Check shape after\n",
    "df.shape"
   ]
  },
  {
   "cell_type": "code",
   "execution_count": 20,
   "metadata": {},
   "outputs": [
    {
     "data": {
      "text/html": [
       "<div>\n",
       "<style scoped>\n",
       "    .dataframe tbody tr th:only-of-type {\n",
       "        vertical-align: middle;\n",
       "    }\n",
       "\n",
       "    .dataframe tbody tr th {\n",
       "        vertical-align: top;\n",
       "    }\n",
       "\n",
       "    .dataframe thead th {\n",
       "        text-align: right;\n",
       "    }\n",
       "</style>\n",
       "<table border=\"1\" class=\"dataframe\">\n",
       "  <thead>\n",
       "    <tr style=\"text-align: right;\">\n",
       "      <th></th>\n",
       "      <th>company</th>\n",
       "      <th>date</th>\n",
       "      <th>doc_link</th>\n",
       "      <th>filing_doc</th>\n",
       "      <th>complete_file_link</th>\n",
       "      <th>file_description</th>\n",
       "      <th>security</th>\n",
       "      <th>gics_sector</th>\n",
       "      <th>gics_sub_industry</th>\n",
       "      <th>release_date</th>\n",
       "      <th>corpus</th>\n",
       "    </tr>\n",
       "  </thead>\n",
       "  <tbody>\n",
       "    <tr>\n",
       "      <td>0</td>\n",
       "      <td>CSCO</td>\n",
       "      <td>2019-08-22</td>\n",
       "      <td>http://sec.gov/Archives/edgar/data/858877/0001...</td>\n",
       "      <td>8-K</td>\n",
       "      <td>https://sec.gov/Archives/edgar/data/858877/000...</td>\n",
       "      <td>Complete submission text file</td>\n",
       "      <td>Cisco Systems</td>\n",
       "      <td>Information Technology</td>\n",
       "      <td>Communications Equipment</td>\n",
       "      <td>2019-08-22 16:35:32</td>\n",
       "      <td>|Form 8-K UNITED STATES SECURITIES AND EXCHANG...</td>\n",
       "    </tr>\n",
       "  </tbody>\n",
       "</table>\n",
       "</div>"
      ],
      "text/plain": [
       "  company        date                                           doc_link  \\\n",
       "0    CSCO  2019-08-22  http://sec.gov/Archives/edgar/data/858877/0001...   \n",
       "\n",
       "  filing_doc                                 complete_file_link  \\\n",
       "0        8-K  https://sec.gov/Archives/edgar/data/858877/000...   \n",
       "\n",
       "                file_description       security             gics_sector  \\\n",
       "0  Complete submission text file  Cisco Systems  Information Technology   \n",
       "\n",
       "          gics_sub_industry         release_date  \\\n",
       "0  Communications Equipment  2019-08-22 16:35:32   \n",
       "\n",
       "                                              corpus  \n",
       "0  |Form 8-K UNITED STATES SECURITIES AND EXCHANG...  "
      ]
     },
     "execution_count": 20,
     "metadata": {},
     "output_type": "execute_result"
    }
   ],
   "source": [
    "# Check DataFrame's first row\n",
    "df.head(1)"
   ]
  },
  {
   "cell_type": "markdown",
   "metadata": {},
   "source": [
    "#### Drop Columns `doc_link`, `complete_file_link`, `file_description`, `filing_doc`, `date`"
   ]
  },
  {
   "cell_type": "code",
   "execution_count": 21,
   "metadata": {},
   "outputs": [
    {
     "data": {
      "text/html": [
       "<div>\n",
       "<style scoped>\n",
       "    .dataframe tbody tr th:only-of-type {\n",
       "        vertical-align: middle;\n",
       "    }\n",
       "\n",
       "    .dataframe tbody tr th {\n",
       "        vertical-align: top;\n",
       "    }\n",
       "\n",
       "    .dataframe thead th {\n",
       "        text-align: right;\n",
       "    }\n",
       "</style>\n",
       "<table border=\"1\" class=\"dataframe\">\n",
       "  <thead>\n",
       "    <tr style=\"text-align: right;\">\n",
       "      <th></th>\n",
       "      <th>company</th>\n",
       "      <th>security</th>\n",
       "      <th>gics_sector</th>\n",
       "      <th>gics_sub_industry</th>\n",
       "      <th>release_date</th>\n",
       "      <th>corpus</th>\n",
       "    </tr>\n",
       "  </thead>\n",
       "  <tbody>\n",
       "    <tr>\n",
       "      <td>0</td>\n",
       "      <td>CSCO</td>\n",
       "      <td>Cisco Systems</td>\n",
       "      <td>Information Technology</td>\n",
       "      <td>Communications Equipment</td>\n",
       "      <td>2019-08-22 16:35:32</td>\n",
       "      <td>|Form 8-K UNITED STATES SECURITIES AND EXCHANG...</td>\n",
       "    </tr>\n",
       "  </tbody>\n",
       "</table>\n",
       "</div>"
      ],
      "text/plain": [
       "  company       security             gics_sector         gics_sub_industry  \\\n",
       "0    CSCO  Cisco Systems  Information Technology  Communications Equipment   \n",
       "\n",
       "          release_date                                             corpus  \n",
       "0  2019-08-22 16:35:32  |Form 8-K UNITED STATES SECURITIES AND EXCHANG...  "
      ]
     },
     "execution_count": 21,
     "metadata": {},
     "output_type": "execute_result"
    }
   ],
   "source": [
    "df.drop(columns=['doc_link', 'complete_file_link', 'file_description', 'filing_doc', 'date'], inplace=True)\n",
    "df.head(1)"
   ]
  },
  {
   "cell_type": "markdown",
   "metadata": {},
   "source": [
    "#### Check for Null Values and Drop Them"
   ]
  },
  {
   "cell_type": "code",
   "execution_count": 22,
   "metadata": {},
   "outputs": [
    {
     "data": {
      "text/plain": [
       "company              0\n",
       "security             0\n",
       "gics_sector          0\n",
       "gics_sub_industry    0\n",
       "release_date         1\n",
       "corpus               1\n",
       "dtype: int64"
      ]
     },
     "execution_count": 22,
     "metadata": {},
     "output_type": "execute_result"
    }
   ],
   "source": [
    "df.isnull().sum()"
   ]
  },
  {
   "cell_type": "code",
   "execution_count": 23,
   "metadata": {},
   "outputs": [],
   "source": [
    "df.dropna(inplace=True)"
   ]
  },
  {
   "cell_type": "markdown",
   "metadata": {},
   "source": [
    "### 3.3 Create `tokens` column - Tokenize `corpus`"
   ]
  },
  {
   "cell_type": "code",
   "execution_count": 24,
   "metadata": {},
   "outputs": [],
   "source": [
    "# Create function to tokenize 'body'\n",
    "def tokenizer(x):\n",
    "    tokenizer = RegexpTokenizer(r'\\w+')\n",
    "    return tokenizer.tokenize(x)"
   ]
  },
  {
   "cell_type": "code",
   "execution_count": 25,
   "metadata": {},
   "outputs": [
    {
     "data": {
      "application/vnd.jupyter.widget-view+json": {
       "model_id": "e5d894ff5bd44ae1a24664598dba55d8",
       "version_major": 2,
       "version_minor": 0
      },
      "text/plain": [
       "HBox(children=(IntProgress(value=0, max=57680), HTML(value='')))"
      ]
     },
     "metadata": {},
     "output_type": "display_data"
    },
    {
     "name": "stdout",
     "output_type": "stream",
     "text": [
      "\n"
     ]
    }
   ],
   "source": [
    "df['tokens'] = df['corpus'].progress_map(tokenizer)"
   ]
  },
  {
   "cell_type": "markdown",
   "metadata": {},
   "source": [
    "### 3.4 Create `length_corpus` column"
   ]
  },
  {
   "cell_type": "code",
   "execution_count": 26,
   "metadata": {},
   "outputs": [
    {
     "data": {
      "application/vnd.jupyter.widget-view+json": {
       "model_id": "94c91c75cd1f405f841a33c978d973c3",
       "version_major": 2,
       "version_minor": 0
      },
      "text/plain": [
       "HBox(children=(IntProgress(value=0, max=57680), HTML(value='')))"
      ]
     },
     "metadata": {},
     "output_type": "display_data"
    },
    {
     "name": "stdout",
     "output_type": "stream",
     "text": [
      "\n"
     ]
    }
   ],
   "source": [
    "# Create column with corpus lenght\n",
    "df['length_corpus'] = df['corpus'].progress_map(lambda x: len(x))"
   ]
  },
  {
   "cell_type": "markdown",
   "metadata": {},
   "source": [
    "### 3.5 Create `items` Columns\n",
    ">Learn More: [8-K Filings Item Types](www.sec.gov/fast-answers/answersform8khtm.html)"
   ]
  },
  {
   "cell_type": "code",
   "execution_count": 27,
   "metadata": {},
   "outputs": [],
   "source": [
    "# Define function to extract document types\n",
    "def extract_item(text):\n",
    "    '''Extracts Types of Documents in each Filing'''\n",
    "    # Compile Regular Expression\n",
    "    exp = re.compile(\"Item+ +\\d+[\\:,\\.]+\\d+\\d\")\n",
    "    \n",
    "    # Create list with all items found\n",
    "    item_list = re.findall(exp, text)\n",
    "    item_list = [i.replace(' ', '').strip() for i in item_list]\n",
    "    \n",
    "    # Return list\n",
    "    return item_list"
   ]
  },
  {
   "cell_type": "code",
   "execution_count": 28,
   "metadata": {},
   "outputs": [
    {
     "data": {
      "application/vnd.jupyter.widget-view+json": {
       "model_id": "22e16634731145c380bc8ef3085c5812",
       "version_major": 2,
       "version_minor": 0
      },
      "text/plain": [
       "HBox(children=(IntProgress(value=0, max=57680), HTML(value='')))"
      ]
     },
     "metadata": {},
     "output_type": "display_data"
    },
    {
     "name": "stdout",
     "output_type": "stream",
     "text": [
      "\n"
     ]
    }
   ],
   "source": [
    "# Create column with items types in each document\n",
    "df['items'] = df['corpus'].progress_map(extract_item)"
   ]
  },
  {
   "cell_type": "markdown",
   "metadata": {},
   "source": [
    "#### Convert `release_date` to Datetime"
   ]
  },
  {
   "cell_type": "code",
   "execution_count": 29,
   "metadata": {},
   "outputs": [],
   "source": [
    "df['release_date'] = pd.to_datetime(df['release_date'])"
   ]
  },
  {
   "cell_type": "markdown",
   "metadata": {},
   "source": [
    "### 3.6 - Get Stock Prices from Yahoo Finance\n",
    "> _Yahoo! Finance is a media property that is part of Yahoo!'s network. It provides financial news, data and commentary including stock quotes, press releases, financial reports, and original content. It also offers some online tools for personal finance management._ [Learn More](https://finance.yahoo.com/)\n",
    "\n",
    "> _Remote Data Access with Pandas DataReader_ [Documentation](https://pandas-datareader.readthedocs.io/en/latest/)"
   ]
  },
  {
   "cell_type": "markdown",
   "metadata": {},
   "source": [
    "#### Define Function to Get Prices"
   ]
  },
  {
   "cell_type": "code",
   "execution_count": 30,
   "metadata": {},
   "outputs": [],
   "source": [
    "def get_prices(ticker_list, start_date, end_date):\n",
    "    '''\n",
    "    Get Stock Prices from Yahoo Finance for Specific Time Frame\n",
    "    Inputs = List of Tickers, Start Date and End Date\n",
    "    Output = DataFrame\n",
    "    '''\n",
    "    # Instantiate DataFrame to house prices\n",
    "    prices_df = pd.DataFrame()\n",
    "\n",
    "    # Loop through all companies in the data\n",
    "    for ticker in tqdm(ticker_list):\n",
    "\n",
    "        # Get prices\n",
    "        ticker_df = web.DataReader(ticker ,'yahoo', start_date, end_date)\n",
    "\n",
    "        # Create columns with company's ticker\n",
    "        ticker_df['company'] = ticker\n",
    "\n",
    "        # Concatenate DataFrame with prices_df\n",
    "        prices_df = pd.concat([prices_df, ticker_df], axis=0)\n",
    "    \n",
    "    # Remove data from index\n",
    "    prices_df.reset_index(inplace=True)\n",
    "    \n",
    "    # Lower columns names\n",
    "    prices_df.columns = [column.lower() for column in prices_df.columns]\n",
    "\n",
    "    # Return DataFrame with all companies prices for requested timeframe\n",
    "    return prices_df"
   ]
  },
  {
   "cell_type": "code",
   "execution_count": 31,
   "metadata": {},
   "outputs": [
    {
     "data": {
      "application/vnd.jupyter.widget-view+json": {
       "model_id": "8bed33a65ec0485f9ca34c718df78508",
       "version_major": 2,
       "version_minor": 0
      },
      "text/plain": [
       "HBox(children=(IntProgress(value=0, max=495), HTML(value='')))"
      ]
     },
     "metadata": {},
     "output_type": "display_data"
    },
    {
     "name": "stdout",
     "output_type": "stream",
     "text": [
      "\n"
     ]
    }
   ],
   "source": [
    "prices_df = get_prices(df['company'].unique(), '2010-01-01', '2019-12-31')"
   ]
  },
  {
   "cell_type": "code",
   "execution_count": 32,
   "metadata": {},
   "outputs": [
    {
     "data": {
      "text/html": [
       "<div>\n",
       "<style scoped>\n",
       "    .dataframe tbody tr th:only-of-type {\n",
       "        vertical-align: middle;\n",
       "    }\n",
       "\n",
       "    .dataframe tbody tr th {\n",
       "        vertical-align: top;\n",
       "    }\n",
       "\n",
       "    .dataframe thead th {\n",
       "        text-align: right;\n",
       "    }\n",
       "</style>\n",
       "<table border=\"1\" class=\"dataframe\">\n",
       "  <thead>\n",
       "    <tr style=\"text-align: right;\">\n",
       "      <th></th>\n",
       "      <th>date</th>\n",
       "      <th>high</th>\n",
       "      <th>low</th>\n",
       "      <th>open</th>\n",
       "      <th>close</th>\n",
       "      <th>volume</th>\n",
       "      <th>adj close</th>\n",
       "      <th>company</th>\n",
       "    </tr>\n",
       "  </thead>\n",
       "  <tbody>\n",
       "    <tr>\n",
       "      <td>0</td>\n",
       "      <td>2010-01-04</td>\n",
       "      <td>24.84</td>\n",
       "      <td>24.01</td>\n",
       "      <td>24.110001</td>\n",
       "      <td>24.690001</td>\n",
       "      <td>59853700.0</td>\n",
       "      <td>19.253393</td>\n",
       "      <td>CSCO</td>\n",
       "    </tr>\n",
       "  </tbody>\n",
       "</table>\n",
       "</div>"
      ],
      "text/plain": [
       "        date   high    low       open      close      volume  adj close  \\\n",
       "0 2010-01-04  24.84  24.01  24.110001  24.690001  59853700.0  19.253393   \n",
       "\n",
       "  company  \n",
       "0    CSCO  "
      ]
     },
     "execution_count": 32,
     "metadata": {},
     "output_type": "execute_result"
    }
   ],
   "source": [
    "prices_df.head(1)"
   ]
  },
  {
   "cell_type": "markdown",
   "metadata": {},
   "source": [
    "#### Define Functions to Calculate Price Change"
   ]
  },
  {
   "cell_type": "code",
   "execution_count": 33,
   "metadata": {},
   "outputs": [],
   "source": [
    "# Get list of holidays for the New York Stock Exchange\n",
    "holidays = mcal.get_calendar('NYSE').holidays().holidays\n",
    "\n",
    "def date_check(release_date):\n",
    "    '''Checks for Holidays and Weekends'''\n",
    "    while release_date.isoweekday() > 5 or release_date.date() in holidays:\n",
    "        release_date = release_date + datetime.timedelta(days=-1)\n",
    "    return release_date"
   ]
  },
  {
   "cell_type": "code",
   "execution_count": 34,
   "metadata": {},
   "outputs": [],
   "source": [
    "def get_percentage_change(ticker, release_date, dataframe):    \n",
    "    '''Calculates Price Change for a Security Given Document Release Date'''\n",
    "    # define market hours\n",
    "    market_open = release_date.replace(hour=9,minute=30,second=0)\n",
    "    market_close = release_date.replace(hour=16,minute=0,second=0)\n",
    "    \n",
    "    try:\n",
    "        # release_date BEFORE market open\n",
    "        if release_date < market_open:\n",
    "\n",
    "            # Get open price\n",
    "            open_price = dataframe.loc[(dataframe['company'] == ticker) & \\\n",
    "                          (dataframe['date'] == release_date \\\n",
    "                                                .strftime('%m/%d/%Y').replace('/','-'))]['open'].item()\n",
    "\n",
    "            # Get close price\n",
    "            close_price = dataframe.loc[(dataframe['company'] == ticker) & \\\n",
    "                          (dataframe['date'] == date_check(release_date + datetime.timedelta(days=-1)) \\\n",
    "                                                .strftime('%m/%d/%Y').replace('/','-'))]['close'].item()\n",
    "\n",
    "            percentage_change = (open_price - close_price) / close_price\n",
    "\n",
    "        # release_date AFTER market close\n",
    "        elif release_date > market_close:\n",
    "            \n",
    "            # Get open price\n",
    "            open_price = dataframe.loc[(dataframe['company'] == ticker) & \\\n",
    "                          (dataframe['date'] == date_check(release_date + datetime.timedelta(days=+1))\\\n",
    "                                                .strftime('%m/%d/%Y').replace('/','-'))]['open'].item()\n",
    "\n",
    "            # Get close price\n",
    "            close_price = dataframe.loc[(dataframe['company'] == ticker) & \\\n",
    "                          (dataframe['date'] == release_date \\\n",
    "                                                .strftime('%m/%d/%Y').replace('/','-'))]['close'].item()\n",
    "\n",
    "            # Percentage change if release_date > market_close\n",
    "            percentage_change = (open_price - close_price) / close_price\n",
    "\n",
    "        # release_date during trading hours\n",
    "        else:\n",
    "            # Get open price\n",
    "            open_price = dataframe.loc[(dataframe['company'] == ticker) & \\\n",
    "                          (dataframe['date'] == release_date \\\n",
    "                                                .strftime('%m/%d/%Y').replace('/','-'))]['open'].item()\n",
    "\n",
    "            # Get close price\n",
    "            close_price = dataframe.loc[(dataframe['company'] == ticker) & \\\n",
    "                          (dataframe['date'] == release_date \\\n",
    "                                                .strftime('%m/%d/%Y').replace('/','-'))]['close'].item()\n",
    "\n",
    "            percentage_change = (close_price - open_price) / open_price\n",
    "            \n",
    "    except:\n",
    "        percentage_change = np.nan\n",
    "        \n",
    "    return percentage_change"
   ]
  },
  {
   "cell_type": "markdown",
   "metadata": {},
   "source": [
    "#### Create Column with Percentage Change ( Stocks )\n",
    "> _Explain Step_"
   ]
  },
  {
   "cell_type": "code",
   "execution_count": 36,
   "metadata": {},
   "outputs": [
    {
     "data": {
      "application/vnd.jupyter.widget-view+json": {
       "model_id": "d3ea43426b0a4afc869656cb2683890c",
       "version_major": 2,
       "version_minor": 0
      },
      "text/plain": [
       "HBox(children=(IntProgress(value=0, max=57680), HTML(value='')))"
      ]
     },
     "metadata": {},
     "output_type": "display_data"
    },
    {
     "name": "stdout",
     "output_type": "stream",
     "text": [
      "\n"
     ]
    }
   ],
   "source": [
    "df['stock_change'] = [get_percentage_change(df['company'][i],\n",
    "                                            df['release_date'][i],\n",
    "                                            prices_df) for i in tqdm(df.index)]"
   ]
  },
  {
   "cell_type": "markdown",
   "metadata": {},
   "source": [
    "#### Create Column with Percentage Change for The S&P 500 Index ( GSPC )\n",
    "> _The S&P 500, or just the S&P, is a stock market index that measures the stock performance of 500 large companies listed on stock exchanges in the United States. It is one of the most commonly followed equity indices, and many consider it to be one of the best representations of the U.S. stock market.The average annual total return of the index, including dividends, since inception in 1926 has been 9.8%; however, there were several years where the index declined over 30%.The index has posted annual increases 70% of the time._ [Learn More](https://en.wikipedia.org/wiki/S%26P_500_Index)"
   ]
  },
  {
   "cell_type": "code",
   "execution_count": 37,
   "metadata": {},
   "outputs": [
    {
     "data": {
      "application/vnd.jupyter.widget-view+json": {
       "model_id": "56c278529b5d41c0802eaa511f2b4be1",
       "version_major": 2,
       "version_minor": 0
      },
      "text/plain": [
       "HBox(children=(IntProgress(value=0, max=2), HTML(value='')))"
      ]
     },
     "metadata": {},
     "output_type": "display_data"
    },
    {
     "name": "stdout",
     "output_type": "stream",
     "text": [
      "\n"
     ]
    }
   ],
   "source": [
    "sp500_vix_df = get_prices(['^GSPC', '^VIX'], '2010-01-01', '2019-12-31')"
   ]
  },
  {
   "cell_type": "code",
   "execution_count": 38,
   "metadata": {},
   "outputs": [
    {
     "data": {
      "text/html": [
       "<div>\n",
       "<style scoped>\n",
       "    .dataframe tbody tr th:only-of-type {\n",
       "        vertical-align: middle;\n",
       "    }\n",
       "\n",
       "    .dataframe tbody tr th {\n",
       "        vertical-align: top;\n",
       "    }\n",
       "\n",
       "    .dataframe thead th {\n",
       "        text-align: right;\n",
       "    }\n",
       "</style>\n",
       "<table border=\"1\" class=\"dataframe\">\n",
       "  <thead>\n",
       "    <tr style=\"text-align: right;\">\n",
       "      <th></th>\n",
       "      <th>date</th>\n",
       "      <th>high</th>\n",
       "      <th>low</th>\n",
       "      <th>open</th>\n",
       "      <th>close</th>\n",
       "      <th>volume</th>\n",
       "      <th>adj close</th>\n",
       "      <th>company</th>\n",
       "    </tr>\n",
       "  </thead>\n",
       "  <tbody>\n",
       "    <tr>\n",
       "      <td>0</td>\n",
       "      <td>2010-01-04</td>\n",
       "      <td>1133.869995</td>\n",
       "      <td>1116.560059</td>\n",
       "      <td>1116.560059</td>\n",
       "      <td>1132.98999</td>\n",
       "      <td>3991400000</td>\n",
       "      <td>1132.98999</td>\n",
       "      <td>^GSPC</td>\n",
       "    </tr>\n",
       "  </tbody>\n",
       "</table>\n",
       "</div>"
      ],
      "text/plain": [
       "        date         high          low         open       close      volume  \\\n",
       "0 2010-01-04  1133.869995  1116.560059  1116.560059  1132.98999  3991400000   \n",
       "\n",
       "    adj close company  \n",
       "0  1132.98999   ^GSPC  "
      ]
     },
     "execution_count": 38,
     "metadata": {},
     "output_type": "execute_result"
    }
   ],
   "source": [
    "sp500_vix_df.head(1)"
   ]
  },
  {
   "cell_type": "code",
   "execution_count": 39,
   "metadata": {},
   "outputs": [
    {
     "data": {
      "application/vnd.jupyter.widget-view+json": {
       "model_id": "9279ec4790cd4f7fb4f058e2ff1e0f47",
       "version_major": 2,
       "version_minor": 0
      },
      "text/plain": [
       "HBox(children=(IntProgress(value=0, max=57680), HTML(value='')))"
      ]
     },
     "metadata": {},
     "output_type": "display_data"
    },
    {
     "name": "stdout",
     "output_type": "stream",
     "text": [
      "\n"
     ]
    }
   ],
   "source": [
    "df['index_change'] = [get_percentage_change('^GSPC',\n",
    "                                        df['release_date'][i],\n",
    "                                        sp500_vix_df) for i in tqdm(df.index)]"
   ]
  },
  {
   "cell_type": "markdown",
   "metadata": {},
   "source": [
    "#### Create Column with Normalized Percentage Change\n",
    "> _Explain Step_"
   ]
  },
  {
   "cell_type": "code",
   "execution_count": 40,
   "metadata": {},
   "outputs": [],
   "source": [
    "df['normalized_change'] = df['stock_change'] - df['index_change']"
   ]
  },
  {
   "cell_type": "markdown",
   "metadata": {},
   "source": [
    "#### Create Column with Percentage Change for The CBOE Volatility Index ( VIX )\n",
    "> _The CBOE Volatility Index, known by its ticker symbol VIX, is a popular measure of the stock market's expectation of volatility implied by S&P 500 index options. It is calculated and disseminated on a real-time basis by the Chicago Board Options Exchange (CBOE), and is commonly referred to as the fear index or the fear gauge._ [Learn More](https://en.wikipedia.org/wiki/VIX)"
   ]
  },
  {
   "cell_type": "code",
   "execution_count": 41,
   "metadata": {},
   "outputs": [],
   "source": [
    "def get_vix(release_date, dataframe):\n",
    "    \n",
    "    # define market hours\n",
    "    market_open = release_date.replace(hour=9,minute=30,second=0)\n",
    "    market_close = release_date.replace(hour=16,minute=0,second=0)\n",
    "    \n",
    "    try:\n",
    "        if release_date < market_open:\n",
    "            vix_price = dataframe.loc[(dataframe['company'] == '^VIX') & \\\n",
    "                                  (dataframe['date'] == date_check(release_date + datetime.timedelta(days=-1)) \\\n",
    "                                                        .strftime('%m/%d/%Y').replace('/','-'))]['close'].item()\n",
    "\n",
    "\n",
    "    \n",
    "        elif release_date > market_open:\n",
    "            vix_price = dataframe.loc[(dataframe['company'] == '^VIX') & \\\n",
    "                                  (dataframe['date'] == release_date \\\n",
    "                                                        .strftime('%m/%d/%Y').replace('/','-'))]['close'].item()\n",
    "        \n",
    "        else:\n",
    "            vix_price = dataframe.loc[(dataframe['company'] == '^VIX') & \\\n",
    "                                  (dataframe['date'] == release_date \\\n",
    "                                                        .strftime('%m/%d/%Y').replace('/','-'))]['open'].item()\n",
    "    \n",
    "    except:\n",
    "        vix_price = np.nan\n",
    "        \n",
    "    return vix_price"
   ]
  },
  {
   "cell_type": "code",
   "execution_count": 42,
   "metadata": {},
   "outputs": [
    {
     "data": {
      "application/vnd.jupyter.widget-view+json": {
       "model_id": "96471b5b01da4eb98edc7c8695c2c557",
       "version_major": 2,
       "version_minor": 0
      },
      "text/plain": [
       "HBox(children=(IntProgress(value=0, max=57680), HTML(value='')))"
      ]
     },
     "metadata": {},
     "output_type": "display_data"
    },
    {
     "name": "stdout",
     "output_type": "stream",
     "text": [
      "\n"
     ]
    }
   ],
   "source": [
    "df['vix'] = [get_vix(df['release_date'][i], sp500_vix_df) for i in tqdm(df.index)]"
   ]
  },
  {
   "cell_type": "code",
   "execution_count": 43,
   "metadata": {},
   "outputs": [
    {
     "data": {
      "text/html": [
       "<div>\n",
       "<style scoped>\n",
       "    .dataframe tbody tr th:only-of-type {\n",
       "        vertical-align: middle;\n",
       "    }\n",
       "\n",
       "    .dataframe tbody tr th {\n",
       "        vertical-align: top;\n",
       "    }\n",
       "\n",
       "    .dataframe thead th {\n",
       "        text-align: right;\n",
       "    }\n",
       "</style>\n",
       "<table border=\"1\" class=\"dataframe\">\n",
       "  <thead>\n",
       "    <tr style=\"text-align: right;\">\n",
       "      <th></th>\n",
       "      <th>company</th>\n",
       "      <th>security</th>\n",
       "      <th>gics_sector</th>\n",
       "      <th>gics_sub_industry</th>\n",
       "      <th>release_date</th>\n",
       "      <th>corpus</th>\n",
       "      <th>tokens</th>\n",
       "      <th>length_corpus</th>\n",
       "      <th>items</th>\n",
       "      <th>stock_change</th>\n",
       "      <th>index_change</th>\n",
       "      <th>normalized_change</th>\n",
       "      <th>vix</th>\n",
       "    </tr>\n",
       "  </thead>\n",
       "  <tbody>\n",
       "    <tr>\n",
       "      <td>0</td>\n",
       "      <td>CSCO</td>\n",
       "      <td>Cisco Systems</td>\n",
       "      <td>Information Technology</td>\n",
       "      <td>Communications Equipment</td>\n",
       "      <td>2019-08-22 16:35:32</td>\n",
       "      <td>|Form 8-K UNITED STATES SECURITIES AND EXCHANG...</td>\n",
       "      <td>[Form, 8, K, UNITED, STATES, SECURITIES, AND, ...</td>\n",
       "      <td>3233</td>\n",
       "      <td>[Item8.01]</td>\n",
       "      <td>-0.005812</td>\n",
       "      <td>-0.004064</td>\n",
       "      <td>-0.001747</td>\n",
       "      <td>16.68</td>\n",
       "    </tr>\n",
       "  </tbody>\n",
       "</table>\n",
       "</div>"
      ],
      "text/plain": [
       "  company       security             gics_sector         gics_sub_industry  \\\n",
       "0    CSCO  Cisco Systems  Information Technology  Communications Equipment   \n",
       "\n",
       "         release_date                                             corpus  \\\n",
       "0 2019-08-22 16:35:32  |Form 8-K UNITED STATES SECURITIES AND EXCHANG...   \n",
       "\n",
       "                                              tokens  length_corpus  \\\n",
       "0  [Form, 8, K, UNITED, STATES, SECURITIES, AND, ...           3233   \n",
       "\n",
       "        items  stock_change  index_change  normalized_change    vix  \n",
       "0  [Item8.01]     -0.005812     -0.004064          -0.001747  16.68  "
      ]
     },
     "execution_count": 43,
     "metadata": {},
     "output_type": "execute_result"
    }
   ],
   "source": [
    "df.head(1)"
   ]
  },
  {
   "cell_type": "markdown",
   "metadata": {},
   "source": [
    "#### Get Historical Movements"
   ]
  },
  {
   "cell_type": "code",
   "execution_count": 46,
   "metadata": {},
   "outputs": [],
   "source": [
    "def get_historical(ticker, release_date, period, dataframe=prices_df):\n",
    "        \n",
    "    try:\n",
    "        # Percentage change for the last week        \n",
    "        if period == 'w':\n",
    "            start = dataframe.loc[(dataframe['company'] == ticker) & \\\n",
    "                                  (dataframe['date'] == date_check(release_date + datetime.timedelta(weeks=-1)) \\\n",
    "                                                        .strftime('%m/%d/%Y').replace('/','-'))]['close'].item()\n",
    "            end = dataframe.loc[(dataframe['company'] == ticker) & \\\n",
    "                          (dataframe['date'] == date_check(release_date + datetime.timedelta(days=-1)) \\\n",
    "                                                .strftime('%m/%d/%Y').replace('/','-'))]['close'].item()\n",
    "\n",
    "        # Percentage change for the last month\n",
    "        elif period == 'm':\n",
    "            start = dataframe.loc[(dataframe['company'] == ticker) & \\\n",
    "                                  (dataframe['date'] == date_check(release_date + datetime.timedelta(weeks=-4)) \\\n",
    "                                                        .strftime('%m/%d/%Y').replace('/','-'))]['close'].item()\n",
    "            end = dataframe.loc[(dataframe['company'] == ticker) & \\\n",
    "                                (dataframe['date'] == date_check(release_date + datetime.timedelta(days=-1)) \\\n",
    "                                                      .strftime('%m/%d/%Y').replace('/','-'))]['close'].item()\n",
    "\n",
    "        # Percentage change for the last quarter\n",
    "        elif period == 'q':\n",
    "            start = dataframe.loc[(dataframe['company'] == ticker) & \\\n",
    "                                  (dataframe['date'] == date_check(release_date + datetime.timedelta(weeks=-12)) \\\n",
    "                                                        .strftime('%m/%d/%Y').replace('/','-'))]['close'].item()\n",
    "            end = dataframe.loc[(dataframe['company'] == ticker) & \\\n",
    "                                (dataframe['date'] == date_check(release_date + datetime.timedelta(days=-1)) \\\n",
    "                                                      .strftime('%m/%d/%Y').replace('/','-'))]['close'].item()\n",
    "\n",
    "        # Percentage change for the last year\n",
    "        elif period == 'y':\n",
    "            start = dataframe.loc[(dataframe['company'] == ticker) & \\\n",
    "                                  (dataframe['date'] == date_check(release_date + datetime.timedelta(weeks=-52)) \\\n",
    "                                                        .strftime('%m/%d/%Y').replace('/','-'))]['close'].item()\n",
    "            end = dataframe.loc[(dataframe['company'] == ticker) & \\\n",
    "                                (dataframe['date'] == date_check(release_date + datetime.timedelta(days=-1)) \\\n",
    "                                                      .strftime('%m/%d/%Y').replace('/','-'))]['close'].item()\n",
    "    except:\n",
    "        return np.nan\n",
    "            \n",
    "    return (end - start) / start"
   ]
  },
  {
   "cell_type": "markdown",
   "metadata": {},
   "source": [
    "#### Week - 1"
   ]
  },
  {
   "cell_type": "code",
   "execution_count": 47,
   "metadata": {},
   "outputs": [
    {
     "data": {
      "application/vnd.jupyter.widget-view+json": {
       "model_id": "a599f9c67c204653bedc32f14f8ef409",
       "version_major": 2,
       "version_minor": 0
      },
      "text/plain": [
       "HBox(children=(IntProgress(value=0, max=57680), HTML(value='')))"
      ]
     },
     "metadata": {},
     "output_type": "display_data"
    },
    {
     "name": "stdout",
     "output_type": "stream",
     "text": [
      "\n"
     ]
    }
   ],
   "source": [
    "df['hist_week'] = [get_historical(df['company'][i],\n",
    "                                  df['release_date'][i],\n",
    "                                  period='w',\n",
    "                                  dataframe=prices_df) for i in tqdm(df.index)]"
   ]
  },
  {
   "cell_type": "markdown",
   "metadata": {},
   "source": [
    "#### Month - 1"
   ]
  },
  {
   "cell_type": "code",
   "execution_count": 48,
   "metadata": {},
   "outputs": [
    {
     "data": {
      "application/vnd.jupyter.widget-view+json": {
       "model_id": "a9d09b1346fc42ddb5e97a834322aba8",
       "version_major": 2,
       "version_minor": 0
      },
      "text/plain": [
       "HBox(children=(IntProgress(value=0, max=57680), HTML(value='')))"
      ]
     },
     "metadata": {},
     "output_type": "display_data"
    },
    {
     "name": "stdout",
     "output_type": "stream",
     "text": [
      "\n"
     ]
    }
   ],
   "source": [
    "df['hist_month'] = [get_historical(df['company'][i],\n",
    "                                  df['release_date'][i],\n",
    "                                  period='m',\n",
    "                                  dataframe=prices_df) for i in tqdm(df.index)]"
   ]
  },
  {
   "cell_type": "markdown",
   "metadata": {},
   "source": [
    "#### Quarter - 1"
   ]
  },
  {
   "cell_type": "code",
   "execution_count": 49,
   "metadata": {},
   "outputs": [
    {
     "data": {
      "application/vnd.jupyter.widget-view+json": {
       "model_id": "c6f993c600a94424be771943a73ebb8d",
       "version_major": 2,
       "version_minor": 0
      },
      "text/plain": [
       "HBox(children=(IntProgress(value=0, max=57680), HTML(value='')))"
      ]
     },
     "metadata": {},
     "output_type": "display_data"
    },
    {
     "name": "stdout",
     "output_type": "stream",
     "text": [
      "\n"
     ]
    }
   ],
   "source": [
    "df['hist_quarter'] = [get_historical(df['company'][i],\n",
    "                                  df['release_date'][i],\n",
    "                                  period='q',\n",
    "                                  dataframe=prices_df) for i in tqdm(df.index)]"
   ]
  },
  {
   "cell_type": "markdown",
   "metadata": {},
   "source": [
    "#### Year - 1"
   ]
  },
  {
   "cell_type": "code",
   "execution_count": 50,
   "metadata": {},
   "outputs": [
    {
     "data": {
      "application/vnd.jupyter.widget-view+json": {
       "model_id": "5ab3a55f9ded4bf1b5cf748edabfd82c",
       "version_major": 2,
       "version_minor": 0
      },
      "text/plain": [
       "HBox(children=(IntProgress(value=0, max=57680), HTML(value='')))"
      ]
     },
     "metadata": {},
     "output_type": "display_data"
    },
    {
     "name": "stdout",
     "output_type": "stream",
     "text": [
      "\n"
     ]
    }
   ],
   "source": [
    "df['hist_year'] = [get_historical(df['company'][i],\n",
    "                                  df['release_date'][i],\n",
    "                                  period='y',\n",
    "                                  dataframe=prices_df) for i in tqdm(df.index)]"
   ]
  },
  {
   "cell_type": "code",
   "execution_count": 51,
   "metadata": {},
   "outputs": [
    {
     "data": {
      "text/html": [
       "<div>\n",
       "<style scoped>\n",
       "    .dataframe tbody tr th:only-of-type {\n",
       "        vertical-align: middle;\n",
       "    }\n",
       "\n",
       "    .dataframe tbody tr th {\n",
       "        vertical-align: top;\n",
       "    }\n",
       "\n",
       "    .dataframe thead th {\n",
       "        text-align: right;\n",
       "    }\n",
       "</style>\n",
       "<table border=\"1\" class=\"dataframe\">\n",
       "  <thead>\n",
       "    <tr style=\"text-align: right;\">\n",
       "      <th></th>\n",
       "      <th>company</th>\n",
       "      <th>security</th>\n",
       "      <th>gics_sector</th>\n",
       "      <th>gics_sub_industry</th>\n",
       "      <th>release_date</th>\n",
       "      <th>corpus</th>\n",
       "      <th>tokens</th>\n",
       "      <th>length_corpus</th>\n",
       "      <th>items</th>\n",
       "      <th>stock_change</th>\n",
       "      <th>index_change</th>\n",
       "      <th>normalized_change</th>\n",
       "      <th>vix</th>\n",
       "      <th>hist_week</th>\n",
       "      <th>hist_month</th>\n",
       "      <th>hist_quarter</th>\n",
       "      <th>hist_year</th>\n",
       "    </tr>\n",
       "  </thead>\n",
       "  <tbody>\n",
       "    <tr>\n",
       "      <td>0</td>\n",
       "      <td>CSCO</td>\n",
       "      <td>Cisco Systems</td>\n",
       "      <td>Information Technology</td>\n",
       "      <td>Communications Equipment</td>\n",
       "      <td>2019-08-22 16:35:32</td>\n",
       "      <td>|Form 8-K UNITED STATES SECURITIES AND EXCHANG...</td>\n",
       "      <td>[Form, 8, K, UNITED, STATES, SECURITIES, AND, ...</td>\n",
       "      <td>3233</td>\n",
       "      <td>[Item8.01]</td>\n",
       "      <td>-0.005812</td>\n",
       "      <td>-0.004064</td>\n",
       "      <td>-0.001747</td>\n",
       "      <td>16.68</td>\n",
       "      <td>0.054486</td>\n",
       "      <td>-0.138644</td>\n",
       "      <td>-0.089602</td>\n",
       "      <td>0.059757</td>\n",
       "    </tr>\n",
       "  </tbody>\n",
       "</table>\n",
       "</div>"
      ],
      "text/plain": [
       "  company       security             gics_sector         gics_sub_industry  \\\n",
       "0    CSCO  Cisco Systems  Information Technology  Communications Equipment   \n",
       "\n",
       "         release_date                                             corpus  \\\n",
       "0 2019-08-22 16:35:32  |Form 8-K UNITED STATES SECURITIES AND EXCHANG...   \n",
       "\n",
       "                                              tokens  length_corpus  \\\n",
       "0  [Form, 8, K, UNITED, STATES, SECURITIES, AND, ...           3233   \n",
       "\n",
       "        items  stock_change  index_change  normalized_change    vix  \\\n",
       "0  [Item8.01]     -0.005812     -0.004064          -0.001747  16.68   \n",
       "\n",
       "   hist_week  hist_month  hist_quarter  hist_year  \n",
       "0   0.054486   -0.138644     -0.089602   0.059757  "
      ]
     },
     "execution_count": 51,
     "metadata": {},
     "output_type": "execute_result"
    }
   ],
   "source": [
    "df.head(1)"
   ]
  },
  {
   "cell_type": "markdown",
   "metadata": {},
   "source": [
    "### 3.7 - Drop Rows with Errors"
   ]
  },
  {
   "cell_type": "code",
   "execution_count": 52,
   "metadata": {},
   "outputs": [
    {
     "data": {
      "text/plain": [
       "(57680, 17)"
      ]
     },
     "execution_count": 52,
     "metadata": {},
     "output_type": "execute_result"
    }
   ],
   "source": [
    "df.shape"
   ]
  },
  {
   "cell_type": "code",
   "execution_count": 53,
   "metadata": {},
   "outputs": [
    {
     "data": {
      "text/plain": [
       "company                0\n",
       "security               0\n",
       "gics_sector            0\n",
       "gics_sub_industry      0\n",
       "release_date           0\n",
       "corpus                 0\n",
       "tokens                 0\n",
       "length_corpus          0\n",
       "items                  0\n",
       "stock_change         271\n",
       "index_change         127\n",
       "normalized_change    271\n",
       "vix                  111\n",
       "hist_week            165\n",
       "hist_month           207\n",
       "hist_quarter         282\n",
       "hist_year            637\n",
       "dtype: int64"
      ]
     },
     "execution_count": 53,
     "metadata": {},
     "output_type": "execute_result"
    }
   ],
   "source": [
    "df.isnull().sum()"
   ]
  },
  {
   "cell_type": "code",
   "execution_count": 55,
   "metadata": {},
   "outputs": [],
   "source": [
    "df.dropna(axis=0, inplace=True)\n",
    "df.reset_index(drop=True, inplace=True)"
   ]
  },
  {
   "cell_type": "code",
   "execution_count": 56,
   "metadata": {},
   "outputs": [
    {
     "data": {
      "text/plain": [
       "(56911, 17)"
      ]
     },
     "execution_count": 56,
     "metadata": {},
     "output_type": "execute_result"
    }
   ],
   "source": [
    "df.shape"
   ]
  },
  {
   "cell_type": "markdown",
   "metadata": {},
   "source": [
    "### 3.8 Create `movement` Column\n",
    "> Based on the normalized change column classify observations as being greater than 1% ( Up ), less than -1% ( Down ) or in between -1% and 1% ( Neutral )."
   ]
  },
  {
   "cell_type": "code",
   "execution_count": 59,
   "metadata": {},
   "outputs": [],
   "source": [
    "df['movement'] = df['normalized_change'].map(lambda x: 'down' if x < -.01 else ('up' if x > .01 else 'neutral'))"
   ]
  },
  {
   "cell_type": "code",
   "execution_count": 60,
   "metadata": {},
   "outputs": [
    {
     "data": {
      "text/html": [
       "<div>\n",
       "<style scoped>\n",
       "    .dataframe tbody tr th:only-of-type {\n",
       "        vertical-align: middle;\n",
       "    }\n",
       "\n",
       "    .dataframe tbody tr th {\n",
       "        vertical-align: top;\n",
       "    }\n",
       "\n",
       "    .dataframe thead th {\n",
       "        text-align: right;\n",
       "    }\n",
       "</style>\n",
       "<table border=\"1\" class=\"dataframe\">\n",
       "  <thead>\n",
       "    <tr style=\"text-align: right;\">\n",
       "      <th></th>\n",
       "      <th>company</th>\n",
       "      <th>security</th>\n",
       "      <th>gics_sector</th>\n",
       "      <th>gics_sub_industry</th>\n",
       "      <th>release_date</th>\n",
       "      <th>corpus</th>\n",
       "      <th>tokens</th>\n",
       "      <th>length_corpus</th>\n",
       "      <th>items</th>\n",
       "      <th>stock_change</th>\n",
       "      <th>index_change</th>\n",
       "      <th>normalized_change</th>\n",
       "      <th>vix</th>\n",
       "      <th>hist_week</th>\n",
       "      <th>hist_month</th>\n",
       "      <th>hist_quarter</th>\n",
       "      <th>hist_year</th>\n",
       "      <th>movement</th>\n",
       "    </tr>\n",
       "  </thead>\n",
       "  <tbody>\n",
       "    <tr>\n",
       "      <td>0</td>\n",
       "      <td>CSCO</td>\n",
       "      <td>Cisco Systems</td>\n",
       "      <td>Information Technology</td>\n",
       "      <td>Communications Equipment</td>\n",
       "      <td>2019-08-22 16:35:32</td>\n",
       "      <td>|Form 8-K UNITED STATES SECURITIES AND EXCHANG...</td>\n",
       "      <td>[Form, 8, K, UNITED, STATES, SECURITIES, AND, ...</td>\n",
       "      <td>3233</td>\n",
       "      <td>[Item8.01]</td>\n",
       "      <td>-0.005812</td>\n",
       "      <td>-0.004064</td>\n",
       "      <td>-0.001747</td>\n",
       "      <td>16.68</td>\n",
       "      <td>0.054486</td>\n",
       "      <td>-0.138644</td>\n",
       "      <td>-0.089602</td>\n",
       "      <td>0.059757</td>\n",
       "      <td>neutral</td>\n",
       "    </tr>\n",
       "  </tbody>\n",
       "</table>\n",
       "</div>"
      ],
      "text/plain": [
       "  company       security             gics_sector         gics_sub_industry  \\\n",
       "0    CSCO  Cisco Systems  Information Technology  Communications Equipment   \n",
       "\n",
       "         release_date                                             corpus  \\\n",
       "0 2019-08-22 16:35:32  |Form 8-K UNITED STATES SECURITIES AND EXCHANG...   \n",
       "\n",
       "                                              tokens  length_corpus  \\\n",
       "0  [Form, 8, K, UNITED, STATES, SECURITIES, AND, ...           3233   \n",
       "\n",
       "        items  stock_change  index_change  normalized_change    vix  \\\n",
       "0  [Item8.01]     -0.005812     -0.004064          -0.001747  16.68   \n",
       "\n",
       "   hist_week  hist_month  hist_quarter  hist_year movement  \n",
       "0   0.054486   -0.138644     -0.089602   0.059757  neutral  "
      ]
     },
     "execution_count": 60,
     "metadata": {},
     "output_type": "execute_result"
    }
   ],
   "source": [
    "df.head(1)"
   ]
  },
  {
   "cell_type": "markdown",
   "metadata": {},
   "source": [
    "#### Save DataFrame"
   ]
  },
  {
   "cell_type": "code",
   "execution_count": 61,
   "metadata": {},
   "outputs": [],
   "source": [
    "df.to_csv('../clean_data/corpus.csv', index_label=False)"
   ]
  }
 ],
 "metadata": {
  "kernelspec": {
   "display_name": "Python 3",
   "language": "python",
   "name": "python3"
  },
  "language_info": {
   "codemirror_mode": {
    "name": "ipython",
    "version": 3
   },
   "file_extension": ".py",
   "mimetype": "text/x-python",
   "name": "python",
   "nbconvert_exporter": "python",
   "pygments_lexer": "ipython3",
   "version": "3.7.2"
  }
 },
 "nbformat": 4,
 "nbformat_minor": 2
}