{
 "cells": [
  {
   "cell_type": "markdown",
   "metadata": {},
   "source": [
    "## 5 - Modeling\n",
    "> Explain Step"
   ]
  },
  {
   "cell_type": "markdown",
   "metadata": {},
   "source": [
    "### 5.0 - Import Libraries"
   ]
  },
  {
   "cell_type": "code",
   "execution_count": 1,
   "metadata": {
    "scrolled": true
   },
   "outputs": [
    {
     "name": "stderr",
     "output_type": "stream",
     "text": [
      "Using TensorFlow backend.\n"
     ]
    }
   ],
   "source": [
    "import pandas as pd\n",
    "import numpy as np\n",
    "import matplotlib.pyplot as plt\n",
    "import seaborn as sns\n",
    "\n",
    "from sklearn.compose import ColumnTransformer\n",
    "\n",
    "from sklearn.feature_extraction.text import CountVectorizer, TfidfVectorizer\n",
    "from sklearn.model_selection import train_test_split, cross_val_score, GridSearchCV, RandomizedSearchCV\n",
    "from sklearn.pipeline import Pipeline\n",
    "from sklearn.linear_model import LogisticRegression\n",
    "from sklearn.ensemble import RandomForestClassifier\n",
    "\n",
    "from sklearn.metrics import confusion_matrix\n",
    "from sklearn.metrics import accuracy_score\n",
    "\n",
    "from sklearn.preprocessing import MultiLabelBinarizer, StandardScaler\n",
    "\n",
    "from imblearn.over_sampling import RandomOverSampler"
   ]
  },
  {
   "cell_type": "code",
   "execution_count": 2,
   "metadata": {
    "scrolled": true
   },
   "outputs": [],
   "source": [
    "plt.style.use('seaborn-whitegrid')"
   ]
  },
  {
   "cell_type": "code",
   "execution_count": 3,
   "metadata": {
    "scrolled": true
   },
   "outputs": [],
   "source": [
    "import warnings\n",
    "warnings.filterwarnings(\"ignore\", category=DeprecationWarning)\n",
    "warnings.filterwarnings(\"ignore\", category=FutureWarning)"
   ]
  },
  {
   "cell_type": "code",
   "execution_count": 4,
   "metadata": {
    "scrolled": true
   },
   "outputs": [],
   "source": [
    "pd.set_option('display.max_columns', None)"
   ]
  },
  {
   "cell_type": "code",
   "execution_count": 5,
   "metadata": {
    "scrolled": true
   },
   "outputs": [],
   "source": [
    "%%capture\n",
    "from tqdm import tqdm_notebook as tqdm\n",
    "tqdm().pandas()"
   ]
  },
  {
   "cell_type": "markdown",
   "metadata": {},
   "source": [
    "### 5.1 - Read in Data"
   ]
  },
  {
   "cell_type": "code",
   "execution_count": 6,
   "metadata": {
    "scrolled": true
   },
   "outputs": [],
   "source": [
    "df = pd.read_csv('../clean_data/modeling2.csv')"
   ]
  },
  {
   "cell_type": "code",
   "execution_count": 7,
   "metadata": {
    "scrolled": true
   },
   "outputs": [],
   "source": [
    "df = df.loc[pd.DatetimeIndex(df['release_date']).year > 2012].copy()"
   ]
  },
  {
   "cell_type": "code",
   "execution_count": 8,
   "metadata": {
    "scrolled": true
   },
   "outputs": [
    {
     "data": {
      "text/html": [
       "<div>\n",
       "<style scoped>\n",
       "    .dataframe tbody tr th:only-of-type {\n",
       "        vertical-align: middle;\n",
       "    }\n",
       "\n",
       "    .dataframe tbody tr th {\n",
       "        vertical-align: top;\n",
       "    }\n",
       "\n",
       "    .dataframe thead th {\n",
       "        text-align: right;\n",
       "    }\n",
       "</style>\n",
       "<table border=\"1\" class=\"dataframe\">\n",
       "  <thead>\n",
       "    <tr style=\"text-align: right;\">\n",
       "      <th></th>\n",
       "      <th>company</th>\n",
       "      <th>security</th>\n",
       "      <th>gics_sector</th>\n",
       "      <th>gics_sub_industry</th>\n",
       "      <th>release_date</th>\n",
       "      <th>length_corpus</th>\n",
       "      <th>items</th>\n",
       "      <th>stock_change</th>\n",
       "      <th>index_change</th>\n",
       "      <th>normalized_change</th>\n",
       "      <th>vix</th>\n",
       "      <th>hist_week</th>\n",
       "      <th>hist_month</th>\n",
       "      <th>hist_quarter</th>\n",
       "      <th>hist_year</th>\n",
       "      <th>movement</th>\n",
       "      <th>processed_text</th>\n",
       "    </tr>\n",
       "  </thead>\n",
       "  <tbody>\n",
       "    <tr>\n",
       "      <td>0</td>\n",
       "      <td>CSCO</td>\n",
       "      <td>Cisco Systems</td>\n",
       "      <td>Information Technology</td>\n",
       "      <td>Communications Equipment</td>\n",
       "      <td>2019-08-22 16:35:32</td>\n",
       "      <td>337</td>\n",
       "      <td>['Item8.01']</td>\n",
       "      <td>-0.005812</td>\n",
       "      <td>-0.004064</td>\n",
       "      <td>-0.001747</td>\n",
       "      <td>16.68</td>\n",
       "      <td>0.054486</td>\n",
       "      <td>-0.138644</td>\n",
       "      <td>-0.089602</td>\n",
       "      <td>0.059757</td>\n",
       "      <td>neutral</td>\n",
       "      <td>form 8-k united state security exchange commis...</td>\n",
       "    </tr>\n",
       "  </tbody>\n",
       "</table>\n",
       "</div>"
      ],
      "text/plain": [
       "  company       security             gics_sector         gics_sub_industry  \\\n",
       "0    CSCO  Cisco Systems  Information Technology  Communications Equipment   \n",
       "\n",
       "          release_date  length_corpus         items  stock_change  \\\n",
       "0  2019-08-22 16:35:32            337  ['Item8.01']     -0.005812   \n",
       "\n",
       "   index_change  normalized_change    vix  hist_week  hist_month  \\\n",
       "0     -0.004064          -0.001747  16.68   0.054486   -0.138644   \n",
       "\n",
       "   hist_quarter  hist_year movement  \\\n",
       "0     -0.089602   0.059757  neutral   \n",
       "\n",
       "                                      processed_text  \n",
       "0  form 8-k united state security exchange commis...  "
      ]
     },
     "execution_count": 8,
     "metadata": {},
     "output_type": "execute_result"
    }
   ],
   "source": [
    "df.head(1)"
   ]
  },
  {
   "cell_type": "code",
   "execution_count": 9,
   "metadata": {
    "scrolled": true
   },
   "outputs": [
    {
     "data": {
      "text/plain": [
       "(43749, 17)"
      ]
     },
     "execution_count": 9,
     "metadata": {},
     "output_type": "execute_result"
    }
   ],
   "source": [
    "df.shape"
   ]
  },
  {
   "cell_type": "code",
   "execution_count": 10,
   "metadata": {
    "scrolled": true
   },
   "outputs": [
    {
     "data": {
      "text/plain": [
       "0"
      ]
     },
     "execution_count": 10,
     "metadata": {},
     "output_type": "execute_result"
    }
   ],
   "source": [
    "df.isnull().sum().sum()"
   ]
  },
  {
   "cell_type": "markdown",
   "metadata": {},
   "source": [
    "### 5.2 - Create numerical `Target` Column"
   ]
  },
  {
   "cell_type": "code",
   "execution_count": 11,
   "metadata": {
    "scrolled": true
   },
   "outputs": [],
   "source": [
    "df['target'] = df['movement'].map(lambda x: 2 if x == 'up' else (1 if x == 'neutral' else 0))"
   ]
  },
  {
   "cell_type": "code",
   "execution_count": 12,
   "metadata": {},
   "outputs": [
    {
     "data": {
      "text/plain": [
       "0"
      ]
     },
     "execution_count": 12,
     "metadata": {},
     "output_type": "execute_result"
    }
   ],
   "source": [
    "df.isnull().sum().sum()"
   ]
  },
  {
   "cell_type": "markdown",
   "metadata": {},
   "source": [
    "#### MLB Items"
   ]
  },
  {
   "cell_type": "code",
   "execution_count": 13,
   "metadata": {
    "scrolled": true
   },
   "outputs": [],
   "source": [
    "import ast\n",
    "def eval_literal(list_words):\n",
    "    try:\n",
    "        return ast.literal_eval(list_words)  \n",
    "    except ValueError:\n",
    "        return ast.literal_eval(str(list_words))  "
   ]
  },
  {
   "cell_type": "code",
   "execution_count": 14,
   "metadata": {
    "scrolled": true
   },
   "outputs": [
    {
     "data": {
      "application/vnd.jupyter.widget-view+json": {
       "model_id": "e5d8d958da2f4f2c9208dc00477850e5",
       "version_major": 2,
       "version_minor": 0
      },
      "text/plain": [
       "HBox(children=(IntProgress(value=0, max=43749), HTML(value='')))"
      ]
     },
     "metadata": {},
     "output_type": "display_data"
    },
    {
     "name": "stdout",
     "output_type": "stream",
     "text": [
      "\n"
     ]
    }
   ],
   "source": [
    "# Items from list of strings to literal - ''\n",
    "df['items'] = df['items'].progress_map(eval_literal)"
   ]
  },
  {
   "cell_type": "code",
   "execution_count": 15,
   "metadata": {
    "scrolled": true
   },
   "outputs": [],
   "source": [
    "mlb = MultiLabelBinarizer()\n",
    "df = df.join(pd.DataFrame(mlb.fit_transform(df['items']), columns=mlb.classes_,), sort=False, how=\"left\")"
   ]
  },
  {
   "cell_type": "code",
   "execution_count": 16,
   "metadata": {
    "scrolled": true
   },
   "outputs": [
    {
     "data": {
      "text/html": [
       "<div>\n",
       "<style scoped>\n",
       "    .dataframe tbody tr th:only-of-type {\n",
       "        vertical-align: middle;\n",
       "    }\n",
       "\n",
       "    .dataframe tbody tr th {\n",
       "        vertical-align: top;\n",
       "    }\n",
       "\n",
       "    .dataframe thead th {\n",
       "        text-align: right;\n",
       "    }\n",
       "</style>\n",
       "<table border=\"1\" class=\"dataframe\">\n",
       "  <thead>\n",
       "    <tr style=\"text-align: right;\">\n",
       "      <th></th>\n",
       "      <th>company</th>\n",
       "      <th>security</th>\n",
       "      <th>gics_sector</th>\n",
       "      <th>gics_sub_industry</th>\n",
       "      <th>release_date</th>\n",
       "      <th>length_corpus</th>\n",
       "      <th>items</th>\n",
       "      <th>stock_change</th>\n",
       "      <th>index_change</th>\n",
       "      <th>normalized_change</th>\n",
       "      <th>vix</th>\n",
       "      <th>hist_week</th>\n",
       "      <th>hist_month</th>\n",
       "      <th>hist_quarter</th>\n",
       "      <th>hist_year</th>\n",
       "      <th>movement</th>\n",
       "      <th>processed_text</th>\n",
       "      <th>target</th>\n",
       "      <th>Item0.06</th>\n",
       "      <th>Item05.07</th>\n",
       "      <th>Item1.01</th>\n",
       "      <th>Item1.02</th>\n",
       "      <th>Item1.03</th>\n",
       "      <th>Item1.04</th>\n",
       "      <th>Item2.01</th>\n",
       "      <th>Item2.02</th>\n",
       "      <th>Item2.03</th>\n",
       "      <th>Item2.04</th>\n",
       "      <th>Item2.05</th>\n",
       "      <th>Item2.06</th>\n",
       "      <th>Item3.01</th>\n",
       "      <th>Item3.02</th>\n",
       "      <th>Item3.03</th>\n",
       "      <th>Item3.04</th>\n",
       "      <th>Item4.01</th>\n",
       "      <th>Item4.02</th>\n",
       "      <th>Item4.04</th>\n",
       "      <th>Item5.01</th>\n",
       "      <th>Item5.02</th>\n",
       "      <th>Item5.03</th>\n",
       "      <th>Item5.04</th>\n",
       "      <th>Item5.05</th>\n",
       "      <th>Item5.07</th>\n",
       "      <th>Item5.08</th>\n",
       "      <th>Item5.10</th>\n",
       "      <th>Item6.01</th>\n",
       "      <th>Item6.10</th>\n",
       "      <th>Item7.01</th>\n",
       "      <th>Item8.01</th>\n",
       "      <th>Item9.01</th>\n",
       "    </tr>\n",
       "  </thead>\n",
       "  <tbody>\n",
       "    <tr>\n",
       "      <td>0</td>\n",
       "      <td>CSCO</td>\n",
       "      <td>Cisco Systems</td>\n",
       "      <td>Information Technology</td>\n",
       "      <td>Communications Equipment</td>\n",
       "      <td>2019-08-22 16:35:32</td>\n",
       "      <td>337</td>\n",
       "      <td>[Item8.01]</td>\n",
       "      <td>-0.005812</td>\n",
       "      <td>-0.004064</td>\n",
       "      <td>-0.001747</td>\n",
       "      <td>16.68</td>\n",
       "      <td>0.054486</td>\n",
       "      <td>-0.138644</td>\n",
       "      <td>-0.089602</td>\n",
       "      <td>0.059757</td>\n",
       "      <td>neutral</td>\n",
       "      <td>form 8-k united state security exchange commis...</td>\n",
       "      <td>1</td>\n",
       "      <td>0.0</td>\n",
       "      <td>0.0</td>\n",
       "      <td>0.0</td>\n",
       "      <td>0.0</td>\n",
       "      <td>0.0</td>\n",
       "      <td>0.0</td>\n",
       "      <td>0.0</td>\n",
       "      <td>0.0</td>\n",
       "      <td>0.0</td>\n",
       "      <td>0.0</td>\n",
       "      <td>0.0</td>\n",
       "      <td>0.0</td>\n",
       "      <td>0.0</td>\n",
       "      <td>0.0</td>\n",
       "      <td>0.0</td>\n",
       "      <td>0.0</td>\n",
       "      <td>0.0</td>\n",
       "      <td>0.0</td>\n",
       "      <td>0.0</td>\n",
       "      <td>0.0</td>\n",
       "      <td>0.0</td>\n",
       "      <td>0.0</td>\n",
       "      <td>0.0</td>\n",
       "      <td>0.0</td>\n",
       "      <td>0.0</td>\n",
       "      <td>0.0</td>\n",
       "      <td>0.0</td>\n",
       "      <td>0.0</td>\n",
       "      <td>0.0</td>\n",
       "      <td>0.0</td>\n",
       "      <td>1.0</td>\n",
       "      <td>0.0</td>\n",
       "    </tr>\n",
       "  </tbody>\n",
       "</table>\n",
       "</div>"
      ],
      "text/plain": [
       "  company       security             gics_sector         gics_sub_industry  \\\n",
       "0    CSCO  Cisco Systems  Information Technology  Communications Equipment   \n",
       "\n",
       "          release_date  length_corpus       items  stock_change  index_change  \\\n",
       "0  2019-08-22 16:35:32            337  [Item8.01]     -0.005812     -0.004064   \n",
       "\n",
       "   normalized_change    vix  hist_week  hist_month  hist_quarter  hist_year  \\\n",
       "0          -0.001747  16.68   0.054486   -0.138644     -0.089602   0.059757   \n",
       "\n",
       "  movement                                     processed_text  target  \\\n",
       "0  neutral  form 8-k united state security exchange commis...       1   \n",
       "\n",
       "   Item0.06  Item05.07  Item1.01  Item1.02  Item1.03  Item1.04  Item2.01  \\\n",
       "0       0.0        0.0       0.0       0.0       0.0       0.0       0.0   \n",
       "\n",
       "   Item2.02  Item2.03  Item2.04  Item2.05  Item2.06  Item3.01  Item3.02  \\\n",
       "0       0.0       0.0       0.0       0.0       0.0       0.0       0.0   \n",
       "\n",
       "   Item3.03  Item3.04  Item4.01  Item4.02  Item4.04  Item5.01  Item5.02  \\\n",
       "0       0.0       0.0       0.0       0.0       0.0       0.0       0.0   \n",
       "\n",
       "   Item5.03  Item5.04  Item5.05  Item5.07  Item5.08  Item5.10  Item6.01  \\\n",
       "0       0.0       0.0       0.0       0.0       0.0       0.0       0.0   \n",
       "\n",
       "   Item6.10  Item7.01  Item8.01  Item9.01  \n",
       "0       0.0       0.0       1.0       0.0  "
      ]
     },
     "execution_count": 16,
     "metadata": {},
     "output_type": "execute_result"
    }
   ],
   "source": [
    "df.head(1)"
   ]
  },
  {
   "cell_type": "code",
   "execution_count": 17,
   "metadata": {
    "scrolled": true
   },
   "outputs": [
    {
     "data": {
      "text/plain": [
       "321312"
      ]
     },
     "execution_count": 17,
     "metadata": {},
     "output_type": "execute_result"
    }
   ],
   "source": [
    "df.isnull().sum().sum()"
   ]
  },
  {
   "cell_type": "code",
   "execution_count": 18,
   "metadata": {
    "scrolled": true
   },
   "outputs": [],
   "source": [
    "df.drop(columns=['items'], inplace=True)"
   ]
  },
  {
   "cell_type": "code",
   "execution_count": 19,
   "metadata": {},
   "outputs": [
    {
     "data": {
      "text/plain": [
       "321312"
      ]
     },
     "execution_count": 19,
     "metadata": {},
     "output_type": "execute_result"
    }
   ],
   "source": [
    "df.isnull().sum().sum()"
   ]
  },
  {
   "cell_type": "code",
   "execution_count": 20,
   "metadata": {
    "scrolled": true
   },
   "outputs": [],
   "source": [
    "df.fillna(0, inplace=True)"
   ]
  },
  {
   "cell_type": "markdown",
   "metadata": {},
   "source": [
    "#### Get Dummies `gics_sector` and `gics_sub_industry` - to Modeling"
   ]
  },
  {
   "cell_type": "code",
   "execution_count": 21,
   "metadata": {
    "scrolled": true
   },
   "outputs": [],
   "source": [
    "df = pd.get_dummies(df, columns=['gics_sector', 'gics_sub_industry'], drop_first=True)"
   ]
  },
  {
   "cell_type": "code",
   "execution_count": 22,
   "metadata": {
    "scrolled": true
   },
   "outputs": [
    {
     "data": {
      "text/html": [
       "<div>\n",
       "<style scoped>\n",
       "    .dataframe tbody tr th:only-of-type {\n",
       "        vertical-align: middle;\n",
       "    }\n",
       "\n",
       "    .dataframe tbody tr th {\n",
       "        vertical-align: top;\n",
       "    }\n",
       "\n",
       "    .dataframe thead th {\n",
       "        text-align: right;\n",
       "    }\n",
       "</style>\n",
       "<table border=\"1\" class=\"dataframe\">\n",
       "  <thead>\n",
       "    <tr style=\"text-align: right;\">\n",
       "      <th></th>\n",
       "      <th>company</th>\n",
       "      <th>security</th>\n",
       "      <th>release_date</th>\n",
       "      <th>length_corpus</th>\n",
       "      <th>stock_change</th>\n",
       "      <th>index_change</th>\n",
       "      <th>normalized_change</th>\n",
       "      <th>vix</th>\n",
       "      <th>hist_week</th>\n",
       "      <th>hist_month</th>\n",
       "      <th>hist_quarter</th>\n",
       "      <th>hist_year</th>\n",
       "      <th>movement</th>\n",
       "      <th>processed_text</th>\n",
       "      <th>target</th>\n",
       "      <th>Item0.06</th>\n",
       "      <th>Item05.07</th>\n",
       "      <th>Item1.01</th>\n",
       "      <th>Item1.02</th>\n",
       "      <th>Item1.03</th>\n",
       "      <th>Item1.04</th>\n",
       "      <th>Item2.01</th>\n",
       "      <th>Item2.02</th>\n",
       "      <th>Item2.03</th>\n",
       "      <th>Item2.04</th>\n",
       "      <th>Item2.05</th>\n",
       "      <th>Item2.06</th>\n",
       "      <th>Item3.01</th>\n",
       "      <th>Item3.02</th>\n",
       "      <th>Item3.03</th>\n",
       "      <th>Item3.04</th>\n",
       "      <th>Item4.01</th>\n",
       "      <th>Item4.02</th>\n",
       "      <th>Item4.04</th>\n",
       "      <th>Item5.01</th>\n",
       "      <th>Item5.02</th>\n",
       "      <th>Item5.03</th>\n",
       "      <th>Item5.04</th>\n",
       "      <th>Item5.05</th>\n",
       "      <th>Item5.07</th>\n",
       "      <th>Item5.08</th>\n",
       "      <th>Item5.10</th>\n",
       "      <th>Item6.01</th>\n",
       "      <th>Item6.10</th>\n",
       "      <th>Item7.01</th>\n",
       "      <th>Item8.01</th>\n",
       "      <th>Item9.01</th>\n",
       "      <th>gics_sector_Consumer Discretionary</th>\n",
       "      <th>gics_sector_Consumer Staples</th>\n",
       "      <th>gics_sector_Energy</th>\n",
       "      <th>gics_sector_Financials</th>\n",
       "      <th>gics_sector_Health Care</th>\n",
       "      <th>gics_sector_Industrials</th>\n",
       "      <th>gics_sector_Information Technology</th>\n",
       "      <th>gics_sector_Materials</th>\n",
       "      <th>gics_sector_Real Estate</th>\n",
       "      <th>gics_sector_Utilities</th>\n",
       "      <th>gics_sub_industry_Aerospace &amp; Defense</th>\n",
       "      <th>gics_sub_industry_Agricultural &amp; Farm Machinery</th>\n",
       "      <th>gics_sub_industry_Agricultural Products</th>\n",
       "      <th>gics_sub_industry_Air Freight &amp; Logistics</th>\n",
       "      <th>gics_sub_industry_Airlines</th>\n",
       "      <th>gics_sub_industry_Apparel Retail</th>\n",
       "      <th>gics_sub_industry_Apparel, Accessories &amp; Luxury Goods</th>\n",
       "      <th>gics_sub_industry_Application Software</th>\n",
       "      <th>gics_sub_industry_Asset Management &amp; Custody Banks</th>\n",
       "      <th>gics_sub_industry_Auto Parts &amp; Equipment</th>\n",
       "      <th>gics_sub_industry_Automobile Manufacturers</th>\n",
       "      <th>gics_sub_industry_Automotive Retail</th>\n",
       "      <th>gics_sub_industry_Biotechnology</th>\n",
       "      <th>gics_sub_industry_Brewers</th>\n",
       "      <th>gics_sub_industry_Broadcasting</th>\n",
       "      <th>gics_sub_industry_Building Products</th>\n",
       "      <th>gics_sub_industry_Cable &amp; Satellite</th>\n",
       "      <th>gics_sub_industry_Casinos &amp; Gaming</th>\n",
       "      <th>gics_sub_industry_Communications Equipment</th>\n",
       "      <th>gics_sub_industry_Computer &amp; Electronics Retail</th>\n",
       "      <th>gics_sub_industry_Construction &amp; Engineering</th>\n",
       "      <th>gics_sub_industry_Construction Machinery &amp; Heavy Trucks</th>\n",
       "      <th>gics_sub_industry_Construction Materials</th>\n",
       "      <th>gics_sub_industry_Consumer Electronics</th>\n",
       "      <th>gics_sub_industry_Consumer Finance</th>\n",
       "      <th>gics_sub_industry_Copper</th>\n",
       "      <th>gics_sub_industry_Data Processing &amp; Outsourced Services</th>\n",
       "      <th>gics_sub_industry_Department Stores</th>\n",
       "      <th>gics_sub_industry_Distillers &amp; Vintners</th>\n",
       "      <th>gics_sub_industry_Distributors</th>\n",
       "      <th>gics_sub_industry_Diversified Banks</th>\n",
       "      <th>gics_sub_industry_Diversified Chemicals</th>\n",
       "      <th>gics_sub_industry_Diversified Support Services</th>\n",
       "      <th>gics_sub_industry_Drug Retail</th>\n",
       "      <th>gics_sub_industry_Electric Utilities</th>\n",
       "      <th>gics_sub_industry_Electrical Components &amp; Equipment</th>\n",
       "      <th>gics_sub_industry_Electronic Components</th>\n",
       "      <th>gics_sub_industry_Electronic Equipment &amp; Instruments</th>\n",
       "      <th>gics_sub_industry_Electronic Manufacturing Services</th>\n",
       "      <th>gics_sub_industry_Environmental &amp; Facilities Services</th>\n",
       "      <th>gics_sub_industry_Fertilizers &amp; Agricultural Chemicals</th>\n",
       "      <th>gics_sub_industry_Financial Exchanges &amp; Data</th>\n",
       "      <th>gics_sub_industry_Food Distributors</th>\n",
       "      <th>gics_sub_industry_Food Retail</th>\n",
       "      <th>gics_sub_industry_Gas Utilities</th>\n",
       "      <th>gics_sub_industry_General Merchandise Stores</th>\n",
       "      <th>gics_sub_industry_Gold</th>\n",
       "      <th>gics_sub_industry_Health Care Distributors</th>\n",
       "      <th>gics_sub_industry_Health Care Equipment</th>\n",
       "      <th>gics_sub_industry_Health Care Facilities</th>\n",
       "      <th>gics_sub_industry_Health Care REITs</th>\n",
       "      <th>gics_sub_industry_Health Care Services</th>\n",
       "      <th>gics_sub_industry_Health Care Supplies</th>\n",
       "      <th>gics_sub_industry_Health Care Technology</th>\n",
       "      <th>gics_sub_industry_Home Furnishings</th>\n",
       "      <th>gics_sub_industry_Home Improvement Retail</th>\n",
       "      <th>gics_sub_industry_Homebuilding</th>\n",
       "      <th>gics_sub_industry_Hotel &amp; Resort REITs</th>\n",
       "      <th>gics_sub_industry_Hotels, Resorts &amp; Cruise Lines</th>\n",
       "      <th>gics_sub_industry_Household Appliances</th>\n",
       "      <th>gics_sub_industry_Household Products</th>\n",
       "      <th>gics_sub_industry_Housewares &amp; Specialties</th>\n",
       "      <th>gics_sub_industry_Human Resource &amp; Employment Services</th>\n",
       "      <th>gics_sub_industry_Hypermarkets &amp; Super Centers</th>\n",
       "      <th>gics_sub_industry_IT Consulting &amp; Other Services</th>\n",
       "      <th>gics_sub_industry_Independent Power Producers &amp; Energy Traders</th>\n",
       "      <th>gics_sub_industry_Industrial Conglomerates</th>\n",
       "      <th>gics_sub_industry_Industrial Gases</th>\n",
       "      <th>gics_sub_industry_Industrial Machinery</th>\n",
       "      <th>gics_sub_industry_Industrial REITs</th>\n",
       "      <th>gics_sub_industry_Insurance Brokers</th>\n",
       "      <th>gics_sub_industry_Integrated Oil &amp; Gas</th>\n",
       "      <th>gics_sub_industry_Integrated Telecommunication Services</th>\n",
       "      <th>gics_sub_industry_Interactive Home Entertainment</th>\n",
       "      <th>gics_sub_industry_Interactive Media &amp; Services</th>\n",
       "      <th>gics_sub_industry_Internet &amp; Direct Marketing Retail</th>\n",
       "      <th>gics_sub_industry_Internet Services &amp; Infrastructure</th>\n",
       "      <th>gics_sub_industry_Investment Banking &amp; Brokerage</th>\n",
       "      <th>gics_sub_industry_Leisure Products</th>\n",
       "      <th>gics_sub_industry_Life &amp; Health Insurance</th>\n",
       "      <th>gics_sub_industry_Life Sciences Tools &amp; Services</th>\n",
       "      <th>gics_sub_industry_Managed Health Care</th>\n",
       "      <th>gics_sub_industry_Metal &amp; Glass Containers</th>\n",
       "      <th>gics_sub_industry_Motorcycle Manufacturers</th>\n",
       "      <th>gics_sub_industry_Movies &amp; Entertainment</th>\n",
       "      <th>gics_sub_industry_Multi-Utilities</th>\n",
       "      <th>gics_sub_industry_Multi-line Insurance</th>\n",
       "      <th>gics_sub_industry_Office REITs</th>\n",
       "      <th>gics_sub_industry_Oil &amp; Gas Drilling</th>\n",
       "      <th>gics_sub_industry_Oil &amp; Gas Equipment &amp; Services</th>\n",
       "      <th>gics_sub_industry_Oil &amp; Gas Exploration &amp; Production</th>\n",
       "      <th>gics_sub_industry_Oil &amp; Gas Refining &amp; Marketing</th>\n",
       "      <th>gics_sub_industry_Oil &amp; Gas Storage &amp; Transportation</th>\n",
       "      <th>gics_sub_industry_Packaged Foods &amp; Meats</th>\n",
       "      <th>gics_sub_industry_Paper Packaging</th>\n",
       "      <th>gics_sub_industry_Personal Products</th>\n",
       "      <th>gics_sub_industry_Pharmaceuticals</th>\n",
       "      <th>gics_sub_industry_Property &amp; Casualty Insurance</th>\n",
       "      <th>gics_sub_industry_Publishing</th>\n",
       "      <th>gics_sub_industry_Railroads</th>\n",
       "      <th>gics_sub_industry_Real Estate Services</th>\n",
       "      <th>gics_sub_industry_Regional Banks</th>\n",
       "      <th>gics_sub_industry_Reinsurance</th>\n",
       "      <th>gics_sub_industry_Research &amp; Consulting Services</th>\n",
       "      <th>gics_sub_industry_Residential REITs</th>\n",
       "      <th>gics_sub_industry_Restaurants</th>\n",
       "      <th>gics_sub_industry_Retail REITs</th>\n",
       "      <th>gics_sub_industry_Semiconductor Equipment</th>\n",
       "      <th>gics_sub_industry_Semiconductors</th>\n",
       "      <th>gics_sub_industry_Soft Drinks</th>\n",
       "      <th>gics_sub_industry_Specialized Consumer Services</th>\n",
       "      <th>gics_sub_industry_Specialized REITs</th>\n",
       "      <th>gics_sub_industry_Specialty Chemicals</th>\n",
       "      <th>gics_sub_industry_Specialty Stores</th>\n",
       "      <th>gics_sub_industry_Steel</th>\n",
       "      <th>gics_sub_industry_Systems Software</th>\n",
       "      <th>gics_sub_industry_Technology Distributors</th>\n",
       "      <th>gics_sub_industry_Technology Hardware, Storage &amp; Peripherals</th>\n",
       "      <th>gics_sub_industry_Thrifts &amp; Mortgage Finance</th>\n",
       "      <th>gics_sub_industry_Tobacco</th>\n",
       "      <th>gics_sub_industry_Trading Companies &amp; Distributors</th>\n",
       "      <th>gics_sub_industry_Trucking</th>\n",
       "      <th>gics_sub_industry_Water Utilities</th>\n",
       "      <th>gics_sub_industry_Wireless Telecommunication Services</th>\n",
       "    </tr>\n",
       "  </thead>\n",
       "  <tbody>\n",
       "    <tr>\n",
       "      <td>0</td>\n",
       "      <td>CSCO</td>\n",
       "      <td>Cisco Systems</td>\n",
       "      <td>2019-08-22 16:35:32</td>\n",
       "      <td>337</td>\n",
       "      <td>-0.005812</td>\n",
       "      <td>-0.004064</td>\n",
       "      <td>-0.001747</td>\n",
       "      <td>16.68</td>\n",
       "      <td>0.054486</td>\n",
       "      <td>-0.138644</td>\n",
       "      <td>-0.089602</td>\n",
       "      <td>0.059757</td>\n",
       "      <td>neutral</td>\n",
       "      <td>form 8-k united state security exchange commis...</td>\n",
       "      <td>1</td>\n",
       "      <td>0.0</td>\n",
       "      <td>0.0</td>\n",
       "      <td>0.0</td>\n",
       "      <td>0.0</td>\n",
       "      <td>0.0</td>\n",
       "      <td>0.0</td>\n",
       "      <td>0.0</td>\n",
       "      <td>0.0</td>\n",
       "      <td>0.0</td>\n",
       "      <td>0.0</td>\n",
       "      <td>0.0</td>\n",
       "      <td>0.0</td>\n",
       "      <td>0.0</td>\n",
       "      <td>0.0</td>\n",
       "      <td>0.0</td>\n",
       "      <td>0.0</td>\n",
       "      <td>0.0</td>\n",
       "      <td>0.0</td>\n",
       "      <td>0.0</td>\n",
       "      <td>0.0</td>\n",
       "      <td>0.0</td>\n",
       "      <td>0.0</td>\n",
       "      <td>0.0</td>\n",
       "      <td>0.0</td>\n",
       "      <td>0.0</td>\n",
       "      <td>0.0</td>\n",
       "      <td>0.0</td>\n",
       "      <td>0.0</td>\n",
       "      <td>0.0</td>\n",
       "      <td>0.0</td>\n",
       "      <td>1.0</td>\n",
       "      <td>0.0</td>\n",
       "      <td>0</td>\n",
       "      <td>0</td>\n",
       "      <td>0</td>\n",
       "      <td>0</td>\n",
       "      <td>0</td>\n",
       "      <td>0</td>\n",
       "      <td>1</td>\n",
       "      <td>0</td>\n",
       "      <td>0</td>\n",
       "      <td>0</td>\n",
       "      <td>0</td>\n",
       "      <td>0</td>\n",
       "      <td>0</td>\n",
       "      <td>0</td>\n",
       "      <td>0</td>\n",
       "      <td>0</td>\n",
       "      <td>0</td>\n",
       "      <td>0</td>\n",
       "      <td>0</td>\n",
       "      <td>0</td>\n",
       "      <td>0</td>\n",
       "      <td>0</td>\n",
       "      <td>0</td>\n",
       "      <td>0</td>\n",
       "      <td>0</td>\n",
       "      <td>0</td>\n",
       "      <td>0</td>\n",
       "      <td>0</td>\n",
       "      <td>1</td>\n",
       "      <td>0</td>\n",
       "      <td>0</td>\n",
       "      <td>0</td>\n",
       "      <td>0</td>\n",
       "      <td>0</td>\n",
       "      <td>0</td>\n",
       "      <td>0</td>\n",
       "      <td>0</td>\n",
       "      <td>0</td>\n",
       "      <td>0</td>\n",
       "      <td>0</td>\n",
       "      <td>0</td>\n",
       "      <td>0</td>\n",
       "      <td>0</td>\n",
       "      <td>0</td>\n",
       "      <td>0</td>\n",
       "      <td>0</td>\n",
       "      <td>0</td>\n",
       "      <td>0</td>\n",
       "      <td>0</td>\n",
       "      <td>0</td>\n",
       "      <td>0</td>\n",
       "      <td>0</td>\n",
       "      <td>0</td>\n",
       "      <td>0</td>\n",
       "      <td>0</td>\n",
       "      <td>0</td>\n",
       "      <td>0</td>\n",
       "      <td>0</td>\n",
       "      <td>0</td>\n",
       "      <td>0</td>\n",
       "      <td>0</td>\n",
       "      <td>0</td>\n",
       "      <td>0</td>\n",
       "      <td>0</td>\n",
       "      <td>0</td>\n",
       "      <td>0</td>\n",
       "      <td>0</td>\n",
       "      <td>0</td>\n",
       "      <td>0</td>\n",
       "      <td>0</td>\n",
       "      <td>0</td>\n",
       "      <td>0</td>\n",
       "      <td>0</td>\n",
       "      <td>0</td>\n",
       "      <td>0</td>\n",
       "      <td>0</td>\n",
       "      <td>0</td>\n",
       "      <td>0</td>\n",
       "      <td>0</td>\n",
       "      <td>0</td>\n",
       "      <td>0</td>\n",
       "      <td>0</td>\n",
       "      <td>0</td>\n",
       "      <td>0</td>\n",
       "      <td>0</td>\n",
       "      <td>0</td>\n",
       "      <td>0</td>\n",
       "      <td>0</td>\n",
       "      <td>0</td>\n",
       "      <td>0</td>\n",
       "      <td>0</td>\n",
       "      <td>0</td>\n",
       "      <td>0</td>\n",
       "      <td>0</td>\n",
       "      <td>0</td>\n",
       "      <td>0</td>\n",
       "      <td>0</td>\n",
       "      <td>0</td>\n",
       "      <td>0</td>\n",
       "      <td>0</td>\n",
       "      <td>0</td>\n",
       "      <td>0</td>\n",
       "      <td>0</td>\n",
       "      <td>0</td>\n",
       "      <td>0</td>\n",
       "      <td>0</td>\n",
       "      <td>0</td>\n",
       "      <td>0</td>\n",
       "      <td>0</td>\n",
       "      <td>0</td>\n",
       "      <td>0</td>\n",
       "      <td>0</td>\n",
       "      <td>0</td>\n",
       "      <td>0</td>\n",
       "      <td>0</td>\n",
       "      <td>0</td>\n",
       "      <td>0</td>\n",
       "      <td>0</td>\n",
       "      <td>0</td>\n",
       "      <td>0</td>\n",
       "      <td>0</td>\n",
       "      <td>0</td>\n",
       "      <td>0</td>\n",
       "      <td>0</td>\n",
       "      <td>0</td>\n",
       "      <td>0</td>\n",
       "      <td>0</td>\n",
       "      <td>0</td>\n",
       "      <td>0</td>\n",
       "      <td>0</td>\n",
       "      <td>0</td>\n",
       "      <td>0</td>\n",
       "      <td>0</td>\n",
       "      <td>0</td>\n",
       "    </tr>\n",
       "  </tbody>\n",
       "</table>\n",
       "</div>"
      ],
      "text/plain": [
       "  company       security         release_date  length_corpus  stock_change  \\\n",
       "0    CSCO  Cisco Systems  2019-08-22 16:35:32            337     -0.005812   \n",
       "\n",
       "   index_change  normalized_change    vix  hist_week  hist_month  \\\n",
       "0     -0.004064          -0.001747  16.68   0.054486   -0.138644   \n",
       "\n",
       "   hist_quarter  hist_year movement  \\\n",
       "0     -0.089602   0.059757  neutral   \n",
       "\n",
       "                                      processed_text  target  Item0.06  \\\n",
       "0  form 8-k united state security exchange commis...       1       0.0   \n",
       "\n",
       "   Item05.07  Item1.01  Item1.02  Item1.03  Item1.04  Item2.01  Item2.02  \\\n",
       "0        0.0       0.0       0.0       0.0       0.0       0.0       0.0   \n",
       "\n",
       "   Item2.03  Item2.04  Item2.05  Item2.06  Item3.01  Item3.02  Item3.03  \\\n",
       "0       0.0       0.0       0.0       0.0       0.0       0.0       0.0   \n",
       "\n",
       "   Item3.04  Item4.01  Item4.02  Item4.04  Item5.01  Item5.02  Item5.03  \\\n",
       "0       0.0       0.0       0.0       0.0       0.0       0.0       0.0   \n",
       "\n",
       "   Item5.04  Item5.05  Item5.07  Item5.08  Item5.10  Item6.01  Item6.10  \\\n",
       "0       0.0       0.0       0.0       0.0       0.0       0.0       0.0   \n",
       "\n",
       "   Item7.01  Item8.01  Item9.01  gics_sector_Consumer Discretionary  \\\n",
       "0       0.0       1.0       0.0                                   0   \n",
       "\n",
       "   gics_sector_Consumer Staples  gics_sector_Energy  gics_sector_Financials  \\\n",
       "0                             0                   0                       0   \n",
       "\n",
       "   gics_sector_Health Care  gics_sector_Industrials  \\\n",
       "0                        0                        0   \n",
       "\n",
       "   gics_sector_Information Technology  gics_sector_Materials  \\\n",
       "0                                   1                      0   \n",
       "\n",
       "   gics_sector_Real Estate  gics_sector_Utilities  \\\n",
       "0                        0                      0   \n",
       "\n",
       "   gics_sub_industry_Aerospace & Defense  \\\n",
       "0                                      0   \n",
       "\n",
       "   gics_sub_industry_Agricultural & Farm Machinery  \\\n",
       "0                                                0   \n",
       "\n",
       "   gics_sub_industry_Agricultural Products  \\\n",
       "0                                        0   \n",
       "\n",
       "   gics_sub_industry_Air Freight & Logistics  gics_sub_industry_Airlines  \\\n",
       "0                                          0                           0   \n",
       "\n",
       "   gics_sub_industry_Apparel Retail  \\\n",
       "0                                 0   \n",
       "\n",
       "   gics_sub_industry_Apparel, Accessories & Luxury Goods  \\\n",
       "0                                                  0       \n",
       "\n",
       "   gics_sub_industry_Application Software  \\\n",
       "0                                       0   \n",
       "\n",
       "   gics_sub_industry_Asset Management & Custody Banks  \\\n",
       "0                                                  0    \n",
       "\n",
       "   gics_sub_industry_Auto Parts & Equipment  \\\n",
       "0                                         0   \n",
       "\n",
       "   gics_sub_industry_Automobile Manufacturers  \\\n",
       "0                                           0   \n",
       "\n",
       "   gics_sub_industry_Automotive Retail  gics_sub_industry_Biotechnology  \\\n",
       "0                                    0                                0   \n",
       "\n",
       "   gics_sub_industry_Brewers  gics_sub_industry_Broadcasting  \\\n",
       "0                          0                               0   \n",
       "\n",
       "   gics_sub_industry_Building Products  gics_sub_industry_Cable & Satellite  \\\n",
       "0                                    0                                    0   \n",
       "\n",
       "   gics_sub_industry_Casinos & Gaming  \\\n",
       "0                                   0   \n",
       "\n",
       "   gics_sub_industry_Communications Equipment  \\\n",
       "0                                           1   \n",
       "\n",
       "   gics_sub_industry_Computer & Electronics Retail  \\\n",
       "0                                                0   \n",
       "\n",
       "   gics_sub_industry_Construction & Engineering  \\\n",
       "0                                             0   \n",
       "\n",
       "   gics_sub_industry_Construction Machinery & Heavy Trucks  \\\n",
       "0                                                  0         \n",
       "\n",
       "   gics_sub_industry_Construction Materials  \\\n",
       "0                                         0   \n",
       "\n",
       "   gics_sub_industry_Consumer Electronics  gics_sub_industry_Consumer Finance  \\\n",
       "0                                       0                                   0   \n",
       "\n",
       "   gics_sub_industry_Copper  \\\n",
       "0                         0   \n",
       "\n",
       "   gics_sub_industry_Data Processing & Outsourced Services  \\\n",
       "0                                                  0         \n",
       "\n",
       "   gics_sub_industry_Department Stores  \\\n",
       "0                                    0   \n",
       "\n",
       "   gics_sub_industry_Distillers & Vintners  gics_sub_industry_Distributors  \\\n",
       "0                                        0                               0   \n",
       "\n",
       "   gics_sub_industry_Diversified Banks  \\\n",
       "0                                    0   \n",
       "\n",
       "   gics_sub_industry_Diversified Chemicals  \\\n",
       "0                                        0   \n",
       "\n",
       "   gics_sub_industry_Diversified Support Services  \\\n",
       "0                                               0   \n",
       "\n",
       "   gics_sub_industry_Drug Retail  gics_sub_industry_Electric Utilities  \\\n",
       "0                              0                                     0   \n",
       "\n",
       "   gics_sub_industry_Electrical Components & Equipment  \\\n",
       "0                                                  0     \n",
       "\n",
       "   gics_sub_industry_Electronic Components  \\\n",
       "0                                        0   \n",
       "\n",
       "   gics_sub_industry_Electronic Equipment & Instruments  \\\n",
       "0                                                  0      \n",
       "\n",
       "   gics_sub_industry_Electronic Manufacturing Services  \\\n",
       "0                                                  0     \n",
       "\n",
       "   gics_sub_industry_Environmental & Facilities Services  \\\n",
       "0                                                  0       \n",
       "\n",
       "   gics_sub_industry_Fertilizers & Agricultural Chemicals  \\\n",
       "0                                                  0        \n",
       "\n",
       "   gics_sub_industry_Financial Exchanges & Data  \\\n",
       "0                                             0   \n",
       "\n",
       "   gics_sub_industry_Food Distributors  gics_sub_industry_Food Retail  \\\n",
       "0                                    0                              0   \n",
       "\n",
       "   gics_sub_industry_Gas Utilities  \\\n",
       "0                                0   \n",
       "\n",
       "   gics_sub_industry_General Merchandise Stores  gics_sub_industry_Gold  \\\n",
       "0                                             0                       0   \n",
       "\n",
       "   gics_sub_industry_Health Care Distributors  \\\n",
       "0                                           0   \n",
       "\n",
       "   gics_sub_industry_Health Care Equipment  \\\n",
       "0                                        0   \n",
       "\n",
       "   gics_sub_industry_Health Care Facilities  \\\n",
       "0                                         0   \n",
       "\n",
       "   gics_sub_industry_Health Care REITs  \\\n",
       "0                                    0   \n",
       "\n",
       "   gics_sub_industry_Health Care Services  \\\n",
       "0                                       0   \n",
       "\n",
       "   gics_sub_industry_Health Care Supplies  \\\n",
       "0                                       0   \n",
       "\n",
       "   gics_sub_industry_Health Care Technology  \\\n",
       "0                                         0   \n",
       "\n",
       "   gics_sub_industry_Home Furnishings  \\\n",
       "0                                   0   \n",
       "\n",
       "   gics_sub_industry_Home Improvement Retail  gics_sub_industry_Homebuilding  \\\n",
       "0                                          0                               0   \n",
       "\n",
       "   gics_sub_industry_Hotel & Resort REITs  \\\n",
       "0                                       0   \n",
       "\n",
       "   gics_sub_industry_Hotels, Resorts & Cruise Lines  \\\n",
       "0                                                 0   \n",
       "\n",
       "   gics_sub_industry_Household Appliances  \\\n",
       "0                                       0   \n",
       "\n",
       "   gics_sub_industry_Household Products  \\\n",
       "0                                     0   \n",
       "\n",
       "   gics_sub_industry_Housewares & Specialties  \\\n",
       "0                                           0   \n",
       "\n",
       "   gics_sub_industry_Human Resource & Employment Services  \\\n",
       "0                                                  0        \n",
       "\n",
       "   gics_sub_industry_Hypermarkets & Super Centers  \\\n",
       "0                                               0   \n",
       "\n",
       "   gics_sub_industry_IT Consulting & Other Services  \\\n",
       "0                                                 0   \n",
       "\n",
       "   gics_sub_industry_Independent Power Producers & Energy Traders  \\\n",
       "0                                                  0                \n",
       "\n",
       "   gics_sub_industry_Industrial Conglomerates  \\\n",
       "0                                           0   \n",
       "\n",
       "   gics_sub_industry_Industrial Gases  gics_sub_industry_Industrial Machinery  \\\n",
       "0                                   0                                       0   \n",
       "\n",
       "   gics_sub_industry_Industrial REITs  gics_sub_industry_Insurance Brokers  \\\n",
       "0                                   0                                    0   \n",
       "\n",
       "   gics_sub_industry_Integrated Oil & Gas  \\\n",
       "0                                       0   \n",
       "\n",
       "   gics_sub_industry_Integrated Telecommunication Services  \\\n",
       "0                                                  0         \n",
       "\n",
       "   gics_sub_industry_Interactive Home Entertainment  \\\n",
       "0                                                 0   \n",
       "\n",
       "   gics_sub_industry_Interactive Media & Services  \\\n",
       "0                                               0   \n",
       "\n",
       "   gics_sub_industry_Internet & Direct Marketing Retail  \\\n",
       "0                                                  0      \n",
       "\n",
       "   gics_sub_industry_Internet Services & Infrastructure  \\\n",
       "0                                                  0      \n",
       "\n",
       "   gics_sub_industry_Investment Banking & Brokerage  \\\n",
       "0                                                 0   \n",
       "\n",
       "   gics_sub_industry_Leisure Products  \\\n",
       "0                                   0   \n",
       "\n",
       "   gics_sub_industry_Life & Health Insurance  \\\n",
       "0                                          0   \n",
       "\n",
       "   gics_sub_industry_Life Sciences Tools & Services  \\\n",
       "0                                                 0   \n",
       "\n",
       "   gics_sub_industry_Managed Health Care  \\\n",
       "0                                      0   \n",
       "\n",
       "   gics_sub_industry_Metal & Glass Containers  \\\n",
       "0                                           0   \n",
       "\n",
       "   gics_sub_industry_Motorcycle Manufacturers  \\\n",
       "0                                           0   \n",
       "\n",
       "   gics_sub_industry_Movies & Entertainment  \\\n",
       "0                                         0   \n",
       "\n",
       "   gics_sub_industry_Multi-Utilities  gics_sub_industry_Multi-line Insurance  \\\n",
       "0                                  0                                       0   \n",
       "\n",
       "   gics_sub_industry_Office REITs  gics_sub_industry_Oil & Gas Drilling  \\\n",
       "0                               0                                     0   \n",
       "\n",
       "   gics_sub_industry_Oil & Gas Equipment & Services  \\\n",
       "0                                                 0   \n",
       "\n",
       "   gics_sub_industry_Oil & Gas Exploration & Production  \\\n",
       "0                                                  0      \n",
       "\n",
       "   gics_sub_industry_Oil & Gas Refining & Marketing  \\\n",
       "0                                                 0   \n",
       "\n",
       "   gics_sub_industry_Oil & Gas Storage & Transportation  \\\n",
       "0                                                  0      \n",
       "\n",
       "   gics_sub_industry_Packaged Foods & Meats  \\\n",
       "0                                         0   \n",
       "\n",
       "   gics_sub_industry_Paper Packaging  gics_sub_industry_Personal Products  \\\n",
       "0                                  0                                    0   \n",
       "\n",
       "   gics_sub_industry_Pharmaceuticals  \\\n",
       "0                                  0   \n",
       "\n",
       "   gics_sub_industry_Property & Casualty Insurance  \\\n",
       "0                                                0   \n",
       "\n",
       "   gics_sub_industry_Publishing  gics_sub_industry_Railroads  \\\n",
       "0                             0                            0   \n",
       "\n",
       "   gics_sub_industry_Real Estate Services  gics_sub_industry_Regional Banks  \\\n",
       "0                                       0                                 0   \n",
       "\n",
       "   gics_sub_industry_Reinsurance  \\\n",
       "0                              0   \n",
       "\n",
       "   gics_sub_industry_Research & Consulting Services  \\\n",
       "0                                                 0   \n",
       "\n",
       "   gics_sub_industry_Residential REITs  gics_sub_industry_Restaurants  \\\n",
       "0                                    0                              0   \n",
       "\n",
       "   gics_sub_industry_Retail REITs  gics_sub_industry_Semiconductor Equipment  \\\n",
       "0                               0                                          0   \n",
       "\n",
       "   gics_sub_industry_Semiconductors  gics_sub_industry_Soft Drinks  \\\n",
       "0                                 0                              0   \n",
       "\n",
       "   gics_sub_industry_Specialized Consumer Services  \\\n",
       "0                                                0   \n",
       "\n",
       "   gics_sub_industry_Specialized REITs  gics_sub_industry_Specialty Chemicals  \\\n",
       "0                                    0                                      0   \n",
       "\n",
       "   gics_sub_industry_Specialty Stores  gics_sub_industry_Steel  \\\n",
       "0                                   0                        0   \n",
       "\n",
       "   gics_sub_industry_Systems Software  \\\n",
       "0                                   0   \n",
       "\n",
       "   gics_sub_industry_Technology Distributors  \\\n",
       "0                                          0   \n",
       "\n",
       "   gics_sub_industry_Technology Hardware, Storage & Peripherals  \\\n",
       "0                                                  0              \n",
       "\n",
       "   gics_sub_industry_Thrifts & Mortgage Finance  gics_sub_industry_Tobacco  \\\n",
       "0                                             0                          0   \n",
       "\n",
       "   gics_sub_industry_Trading Companies & Distributors  \\\n",
       "0                                                  0    \n",
       "\n",
       "   gics_sub_industry_Trucking  gics_sub_industry_Water Utilities  \\\n",
       "0                           0                                  0   \n",
       "\n",
       "   gics_sub_industry_Wireless Telecommunication Services  \n",
       "0                                                  0      "
      ]
     },
     "execution_count": 22,
     "metadata": {},
     "output_type": "execute_result"
    }
   ],
   "source": [
    "df.head(1)"
   ]
  },
  {
   "cell_type": "markdown",
   "metadata": {},
   "source": [
    "### 5.3 - Check Classes Balance"
   ]
  },
  {
   "cell_type": "code",
   "execution_count": 23,
   "metadata": {
    "scrolled": true
   },
   "outputs": [
    {
     "data": {
      "text/plain": [
       "1    0.682416\n",
       "2    0.163409\n",
       "0    0.154175\n",
       "Name: target, dtype: float64"
      ]
     },
     "execution_count": 23,
     "metadata": {},
     "output_type": "execute_result"
    }
   ],
   "source": [
    "df['target'].value_counts(normalize=True)"
   ]
  },
  {
   "cell_type": "code",
   "execution_count": 24,
   "metadata": {},
   "outputs": [
    {
     "data": {
      "text/plain": [
       "0"
      ]
     },
     "execution_count": 24,
     "metadata": {},
     "output_type": "execute_result"
    }
   ],
   "source": [
    "df.isnull().sum().sum()"
   ]
  },
  {
   "cell_type": "markdown",
   "metadata": {},
   "source": [
    "### 5.5 - Define X ( features ) and y ( target )"
   ]
  },
  {
   "cell_type": "code",
   "execution_count": 25,
   "metadata": {
    "scrolled": true
   },
   "outputs": [],
   "source": [
    "X = df.drop(columns=['company', 'release_date', 'security',\n",
    "                     'stock_change', 'index_change', 'normalized_change', 'movement', 'target'])\n",
    "y = df['target']"
   ]
  },
  {
   "cell_type": "code",
   "execution_count": 26,
   "metadata": {
    "scrolled": true
   },
   "outputs": [
    {
     "data": {
      "text/html": [
       "<div>\n",
       "<style scoped>\n",
       "    .dataframe tbody tr th:only-of-type {\n",
       "        vertical-align: middle;\n",
       "    }\n",
       "\n",
       "    .dataframe tbody tr th {\n",
       "        vertical-align: top;\n",
       "    }\n",
       "\n",
       "    .dataframe thead th {\n",
       "        text-align: right;\n",
       "    }\n",
       "</style>\n",
       "<table border=\"1\" class=\"dataframe\">\n",
       "  <thead>\n",
       "    <tr style=\"text-align: right;\">\n",
       "      <th></th>\n",
       "      <th>length_corpus</th>\n",
       "      <th>vix</th>\n",
       "      <th>hist_week</th>\n",
       "      <th>hist_month</th>\n",
       "      <th>hist_quarter</th>\n",
       "      <th>hist_year</th>\n",
       "      <th>processed_text</th>\n",
       "      <th>Item0.06</th>\n",
       "      <th>Item05.07</th>\n",
       "      <th>Item1.01</th>\n",
       "      <th>Item1.02</th>\n",
       "      <th>Item1.03</th>\n",
       "      <th>Item1.04</th>\n",
       "      <th>Item2.01</th>\n",
       "      <th>Item2.02</th>\n",
       "      <th>Item2.03</th>\n",
       "      <th>Item2.04</th>\n",
       "      <th>Item2.05</th>\n",
       "      <th>Item2.06</th>\n",
       "      <th>Item3.01</th>\n",
       "      <th>Item3.02</th>\n",
       "      <th>Item3.03</th>\n",
       "      <th>Item3.04</th>\n",
       "      <th>Item4.01</th>\n",
       "      <th>Item4.02</th>\n",
       "      <th>Item4.04</th>\n",
       "      <th>Item5.01</th>\n",
       "      <th>Item5.02</th>\n",
       "      <th>Item5.03</th>\n",
       "      <th>Item5.04</th>\n",
       "      <th>Item5.05</th>\n",
       "      <th>Item5.07</th>\n",
       "      <th>Item5.08</th>\n",
       "      <th>Item5.10</th>\n",
       "      <th>Item6.01</th>\n",
       "      <th>Item6.10</th>\n",
       "      <th>Item7.01</th>\n",
       "      <th>Item8.01</th>\n",
       "      <th>Item9.01</th>\n",
       "      <th>gics_sector_Consumer Discretionary</th>\n",
       "      <th>gics_sector_Consumer Staples</th>\n",
       "      <th>gics_sector_Energy</th>\n",
       "      <th>gics_sector_Financials</th>\n",
       "      <th>gics_sector_Health Care</th>\n",
       "      <th>gics_sector_Industrials</th>\n",
       "      <th>gics_sector_Information Technology</th>\n",
       "      <th>gics_sector_Materials</th>\n",
       "      <th>gics_sector_Real Estate</th>\n",
       "      <th>gics_sector_Utilities</th>\n",
       "      <th>gics_sub_industry_Aerospace &amp; Defense</th>\n",
       "      <th>gics_sub_industry_Agricultural &amp; Farm Machinery</th>\n",
       "      <th>gics_sub_industry_Agricultural Products</th>\n",
       "      <th>gics_sub_industry_Air Freight &amp; Logistics</th>\n",
       "      <th>gics_sub_industry_Airlines</th>\n",
       "      <th>gics_sub_industry_Apparel Retail</th>\n",
       "      <th>gics_sub_industry_Apparel, Accessories &amp; Luxury Goods</th>\n",
       "      <th>gics_sub_industry_Application Software</th>\n",
       "      <th>gics_sub_industry_Asset Management &amp; Custody Banks</th>\n",
       "      <th>gics_sub_industry_Auto Parts &amp; Equipment</th>\n",
       "      <th>gics_sub_industry_Automobile Manufacturers</th>\n",
       "      <th>gics_sub_industry_Automotive Retail</th>\n",
       "      <th>gics_sub_industry_Biotechnology</th>\n",
       "      <th>gics_sub_industry_Brewers</th>\n",
       "      <th>gics_sub_industry_Broadcasting</th>\n",
       "      <th>gics_sub_industry_Building Products</th>\n",
       "      <th>gics_sub_industry_Cable &amp; Satellite</th>\n",
       "      <th>gics_sub_industry_Casinos &amp; Gaming</th>\n",
       "      <th>gics_sub_industry_Communications Equipment</th>\n",
       "      <th>gics_sub_industry_Computer &amp; Electronics Retail</th>\n",
       "      <th>gics_sub_industry_Construction &amp; Engineering</th>\n",
       "      <th>gics_sub_industry_Construction Machinery &amp; Heavy Trucks</th>\n",
       "      <th>gics_sub_industry_Construction Materials</th>\n",
       "      <th>gics_sub_industry_Consumer Electronics</th>\n",
       "      <th>gics_sub_industry_Consumer Finance</th>\n",
       "      <th>gics_sub_industry_Copper</th>\n",
       "      <th>gics_sub_industry_Data Processing &amp; Outsourced Services</th>\n",
       "      <th>gics_sub_industry_Department Stores</th>\n",
       "      <th>gics_sub_industry_Distillers &amp; Vintners</th>\n",
       "      <th>gics_sub_industry_Distributors</th>\n",
       "      <th>gics_sub_industry_Diversified Banks</th>\n",
       "      <th>gics_sub_industry_Diversified Chemicals</th>\n",
       "      <th>gics_sub_industry_Diversified Support Services</th>\n",
       "      <th>gics_sub_industry_Drug Retail</th>\n",
       "      <th>gics_sub_industry_Electric Utilities</th>\n",
       "      <th>gics_sub_industry_Electrical Components &amp; Equipment</th>\n",
       "      <th>gics_sub_industry_Electronic Components</th>\n",
       "      <th>gics_sub_industry_Electronic Equipment &amp; Instruments</th>\n",
       "      <th>gics_sub_industry_Electronic Manufacturing Services</th>\n",
       "      <th>gics_sub_industry_Environmental &amp; Facilities Services</th>\n",
       "      <th>gics_sub_industry_Fertilizers &amp; Agricultural Chemicals</th>\n",
       "      <th>gics_sub_industry_Financial Exchanges &amp; Data</th>\n",
       "      <th>gics_sub_industry_Food Distributors</th>\n",
       "      <th>gics_sub_industry_Food Retail</th>\n",
       "      <th>gics_sub_industry_Gas Utilities</th>\n",
       "      <th>gics_sub_industry_General Merchandise Stores</th>\n",
       "      <th>gics_sub_industry_Gold</th>\n",
       "      <th>gics_sub_industry_Health Care Distributors</th>\n",
       "      <th>gics_sub_industry_Health Care Equipment</th>\n",
       "      <th>gics_sub_industry_Health Care Facilities</th>\n",
       "      <th>gics_sub_industry_Health Care REITs</th>\n",
       "      <th>gics_sub_industry_Health Care Services</th>\n",
       "      <th>gics_sub_industry_Health Care Supplies</th>\n",
       "      <th>gics_sub_industry_Health Care Technology</th>\n",
       "      <th>gics_sub_industry_Home Furnishings</th>\n",
       "      <th>gics_sub_industry_Home Improvement Retail</th>\n",
       "      <th>gics_sub_industry_Homebuilding</th>\n",
       "      <th>gics_sub_industry_Hotel &amp; Resort REITs</th>\n",
       "      <th>gics_sub_industry_Hotels, Resorts &amp; Cruise Lines</th>\n",
       "      <th>gics_sub_industry_Household Appliances</th>\n",
       "      <th>gics_sub_industry_Household Products</th>\n",
       "      <th>gics_sub_industry_Housewares &amp; Specialties</th>\n",
       "      <th>gics_sub_industry_Human Resource &amp; Employment Services</th>\n",
       "      <th>gics_sub_industry_Hypermarkets &amp; Super Centers</th>\n",
       "      <th>gics_sub_industry_IT Consulting &amp; Other Services</th>\n",
       "      <th>gics_sub_industry_Independent Power Producers &amp; Energy Traders</th>\n",
       "      <th>gics_sub_industry_Industrial Conglomerates</th>\n",
       "      <th>gics_sub_industry_Industrial Gases</th>\n",
       "      <th>gics_sub_industry_Industrial Machinery</th>\n",
       "      <th>gics_sub_industry_Industrial REITs</th>\n",
       "      <th>gics_sub_industry_Insurance Brokers</th>\n",
       "      <th>gics_sub_industry_Integrated Oil &amp; Gas</th>\n",
       "      <th>gics_sub_industry_Integrated Telecommunication Services</th>\n",
       "      <th>gics_sub_industry_Interactive Home Entertainment</th>\n",
       "      <th>gics_sub_industry_Interactive Media &amp; Services</th>\n",
       "      <th>gics_sub_industry_Internet &amp; Direct Marketing Retail</th>\n",
       "      <th>gics_sub_industry_Internet Services &amp; Infrastructure</th>\n",
       "      <th>gics_sub_industry_Investment Banking &amp; Brokerage</th>\n",
       "      <th>gics_sub_industry_Leisure Products</th>\n",
       "      <th>gics_sub_industry_Life &amp; Health Insurance</th>\n",
       "      <th>gics_sub_industry_Life Sciences Tools &amp; Services</th>\n",
       "      <th>gics_sub_industry_Managed Health Care</th>\n",
       "      <th>gics_sub_industry_Metal &amp; Glass Containers</th>\n",
       "      <th>gics_sub_industry_Motorcycle Manufacturers</th>\n",
       "      <th>gics_sub_industry_Movies &amp; Entertainment</th>\n",
       "      <th>gics_sub_industry_Multi-Utilities</th>\n",
       "      <th>gics_sub_industry_Multi-line Insurance</th>\n",
       "      <th>gics_sub_industry_Office REITs</th>\n",
       "      <th>gics_sub_industry_Oil &amp; Gas Drilling</th>\n",
       "      <th>gics_sub_industry_Oil &amp; Gas Equipment &amp; Services</th>\n",
       "      <th>gics_sub_industry_Oil &amp; Gas Exploration &amp; Production</th>\n",
       "      <th>gics_sub_industry_Oil &amp; Gas Refining &amp; Marketing</th>\n",
       "      <th>gics_sub_industry_Oil &amp; Gas Storage &amp; Transportation</th>\n",
       "      <th>gics_sub_industry_Packaged Foods &amp; Meats</th>\n",
       "      <th>gics_sub_industry_Paper Packaging</th>\n",
       "      <th>gics_sub_industry_Personal Products</th>\n",
       "      <th>gics_sub_industry_Pharmaceuticals</th>\n",
       "      <th>gics_sub_industry_Property &amp; Casualty Insurance</th>\n",
       "      <th>gics_sub_industry_Publishing</th>\n",
       "      <th>gics_sub_industry_Railroads</th>\n",
       "      <th>gics_sub_industry_Real Estate Services</th>\n",
       "      <th>gics_sub_industry_Regional Banks</th>\n",
       "      <th>gics_sub_industry_Reinsurance</th>\n",
       "      <th>gics_sub_industry_Research &amp; Consulting Services</th>\n",
       "      <th>gics_sub_industry_Residential REITs</th>\n",
       "      <th>gics_sub_industry_Restaurants</th>\n",
       "      <th>gics_sub_industry_Retail REITs</th>\n",
       "      <th>gics_sub_industry_Semiconductor Equipment</th>\n",
       "      <th>gics_sub_industry_Semiconductors</th>\n",
       "      <th>gics_sub_industry_Soft Drinks</th>\n",
       "      <th>gics_sub_industry_Specialized Consumer Services</th>\n",
       "      <th>gics_sub_industry_Specialized REITs</th>\n",
       "      <th>gics_sub_industry_Specialty Chemicals</th>\n",
       "      <th>gics_sub_industry_Specialty Stores</th>\n",
       "      <th>gics_sub_industry_Steel</th>\n",
       "      <th>gics_sub_industry_Systems Software</th>\n",
       "      <th>gics_sub_industry_Technology Distributors</th>\n",
       "      <th>gics_sub_industry_Technology Hardware, Storage &amp; Peripherals</th>\n",
       "      <th>gics_sub_industry_Thrifts &amp; Mortgage Finance</th>\n",
       "      <th>gics_sub_industry_Tobacco</th>\n",
       "      <th>gics_sub_industry_Trading Companies &amp; Distributors</th>\n",
       "      <th>gics_sub_industry_Trucking</th>\n",
       "      <th>gics_sub_industry_Water Utilities</th>\n",
       "      <th>gics_sub_industry_Wireless Telecommunication Services</th>\n",
       "    </tr>\n",
       "  </thead>\n",
       "  <tbody>\n",
       "    <tr>\n",
       "      <td>0</td>\n",
       "      <td>337</td>\n",
       "      <td>16.68</td>\n",
       "      <td>0.054486</td>\n",
       "      <td>-0.138644</td>\n",
       "      <td>-0.089602</td>\n",
       "      <td>0.059757</td>\n",
       "      <td>form 8-k united state security exchange commis...</td>\n",
       "      <td>0.0</td>\n",
       "      <td>0.0</td>\n",
       "      <td>0.0</td>\n",
       "      <td>0.0</td>\n",
       "      <td>0.0</td>\n",
       "      <td>0.0</td>\n",
       "      <td>0.0</td>\n",
       "      <td>0.0</td>\n",
       "      <td>0.0</td>\n",
       "      <td>0.0</td>\n",
       "      <td>0.0</td>\n",
       "      <td>0.0</td>\n",
       "      <td>0.0</td>\n",
       "      <td>0.0</td>\n",
       "      <td>0.0</td>\n",
       "      <td>0.0</td>\n",
       "      <td>0.0</td>\n",
       "      <td>0.0</td>\n",
       "      <td>0.0</td>\n",
       "      <td>0.0</td>\n",
       "      <td>0.0</td>\n",
       "      <td>0.0</td>\n",
       "      <td>0.0</td>\n",
       "      <td>0.0</td>\n",
       "      <td>0.0</td>\n",
       "      <td>0.0</td>\n",
       "      <td>0.0</td>\n",
       "      <td>0.0</td>\n",
       "      <td>0.0</td>\n",
       "      <td>0.0</td>\n",
       "      <td>1.0</td>\n",
       "      <td>0.0</td>\n",
       "      <td>0</td>\n",
       "      <td>0</td>\n",
       "      <td>0</td>\n",
       "      <td>0</td>\n",
       "      <td>0</td>\n",
       "      <td>0</td>\n",
       "      <td>1</td>\n",
       "      <td>0</td>\n",
       "      <td>0</td>\n",
       "      <td>0</td>\n",
       "      <td>0</td>\n",
       "      <td>0</td>\n",
       "      <td>0</td>\n",
       "      <td>0</td>\n",
       "      <td>0</td>\n",
       "      <td>0</td>\n",
       "      <td>0</td>\n",
       "      <td>0</td>\n",
       "      <td>0</td>\n",
       "      <td>0</td>\n",
       "      <td>0</td>\n",
       "      <td>0</td>\n",
       "      <td>0</td>\n",
       "      <td>0</td>\n",
       "      <td>0</td>\n",
       "      <td>0</td>\n",
       "      <td>0</td>\n",
       "      <td>0</td>\n",
       "      <td>1</td>\n",
       "      <td>0</td>\n",
       "      <td>0</td>\n",
       "      <td>0</td>\n",
       "      <td>0</td>\n",
       "      <td>0</td>\n",
       "      <td>0</td>\n",
       "      <td>0</td>\n",
       "      <td>0</td>\n",
       "      <td>0</td>\n",
       "      <td>0</td>\n",
       "      <td>0</td>\n",
       "      <td>0</td>\n",
       "      <td>0</td>\n",
       "      <td>0</td>\n",
       "      <td>0</td>\n",
       "      <td>0</td>\n",
       "      <td>0</td>\n",
       "      <td>0</td>\n",
       "      <td>0</td>\n",
       "      <td>0</td>\n",
       "      <td>0</td>\n",
       "      <td>0</td>\n",
       "      <td>0</td>\n",
       "      <td>0</td>\n",
       "      <td>0</td>\n",
       "      <td>0</td>\n",
       "      <td>0</td>\n",
       "      <td>0</td>\n",
       "      <td>0</td>\n",
       "      <td>0</td>\n",
       "      <td>0</td>\n",
       "      <td>0</td>\n",
       "      <td>0</td>\n",
       "      <td>0</td>\n",
       "      <td>0</td>\n",
       "      <td>0</td>\n",
       "      <td>0</td>\n",
       "      <td>0</td>\n",
       "      <td>0</td>\n",
       "      <td>0</td>\n",
       "      <td>0</td>\n",
       "      <td>0</td>\n",
       "      <td>0</td>\n",
       "      <td>0</td>\n",
       "      <td>0</td>\n",
       "      <td>0</td>\n",
       "      <td>0</td>\n",
       "      <td>0</td>\n",
       "      <td>0</td>\n",
       "      <td>0</td>\n",
       "      <td>0</td>\n",
       "      <td>0</td>\n",
       "      <td>0</td>\n",
       "      <td>0</td>\n",
       "      <td>0</td>\n",
       "      <td>0</td>\n",
       "      <td>0</td>\n",
       "      <td>0</td>\n",
       "      <td>0</td>\n",
       "      <td>0</td>\n",
       "      <td>0</td>\n",
       "      <td>0</td>\n",
       "      <td>0</td>\n",
       "      <td>0</td>\n",
       "      <td>0</td>\n",
       "      <td>0</td>\n",
       "      <td>0</td>\n",
       "      <td>0</td>\n",
       "      <td>0</td>\n",
       "      <td>0</td>\n",
       "      <td>0</td>\n",
       "      <td>0</td>\n",
       "      <td>0</td>\n",
       "      <td>0</td>\n",
       "      <td>0</td>\n",
       "      <td>0</td>\n",
       "      <td>0</td>\n",
       "      <td>0</td>\n",
       "      <td>0</td>\n",
       "      <td>0</td>\n",
       "      <td>0</td>\n",
       "      <td>0</td>\n",
       "      <td>0</td>\n",
       "      <td>0</td>\n",
       "      <td>0</td>\n",
       "      <td>0</td>\n",
       "      <td>0</td>\n",
       "      <td>0</td>\n",
       "      <td>0</td>\n",
       "      <td>0</td>\n",
       "      <td>0</td>\n",
       "      <td>0</td>\n",
       "      <td>0</td>\n",
       "      <td>0</td>\n",
       "      <td>0</td>\n",
       "      <td>0</td>\n",
       "      <td>0</td>\n",
       "      <td>0</td>\n",
       "      <td>0</td>\n",
       "      <td>0</td>\n",
       "      <td>0</td>\n",
       "      <td>0</td>\n",
       "      <td>0</td>\n",
       "      <td>0</td>\n",
       "      <td>0</td>\n",
       "    </tr>\n",
       "  </tbody>\n",
       "</table>\n",
       "</div>"
      ],
      "text/plain": [
       "   length_corpus    vix  hist_week  hist_month  hist_quarter  hist_year  \\\n",
       "0            337  16.68   0.054486   -0.138644     -0.089602   0.059757   \n",
       "\n",
       "                                      processed_text  Item0.06  Item05.07  \\\n",
       "0  form 8-k united state security exchange commis...       0.0        0.0   \n",
       "\n",
       "   Item1.01  Item1.02  Item1.03  Item1.04  Item2.01  Item2.02  Item2.03  \\\n",
       "0       0.0       0.0       0.0       0.0       0.0       0.0       0.0   \n",
       "\n",
       "   Item2.04  Item2.05  Item2.06  Item3.01  Item3.02  Item3.03  Item3.04  \\\n",
       "0       0.0       0.0       0.0       0.0       0.0       0.0       0.0   \n",
       "\n",
       "   Item4.01  Item4.02  Item4.04  Item5.01  Item5.02  Item5.03  Item5.04  \\\n",
       "0       0.0       0.0       0.0       0.0       0.0       0.0       0.0   \n",
       "\n",
       "   Item5.05  Item5.07  Item5.08  Item5.10  Item6.01  Item6.10  Item7.01  \\\n",
       "0       0.0       0.0       0.0       0.0       0.0       0.0       0.0   \n",
       "\n",
       "   Item8.01  Item9.01  gics_sector_Consumer Discretionary  \\\n",
       "0       1.0       0.0                                   0   \n",
       "\n",
       "   gics_sector_Consumer Staples  gics_sector_Energy  gics_sector_Financials  \\\n",
       "0                             0                   0                       0   \n",
       "\n",
       "   gics_sector_Health Care  gics_sector_Industrials  \\\n",
       "0                        0                        0   \n",
       "\n",
       "   gics_sector_Information Technology  gics_sector_Materials  \\\n",
       "0                                   1                      0   \n",
       "\n",
       "   gics_sector_Real Estate  gics_sector_Utilities  \\\n",
       "0                        0                      0   \n",
       "\n",
       "   gics_sub_industry_Aerospace & Defense  \\\n",
       "0                                      0   \n",
       "\n",
       "   gics_sub_industry_Agricultural & Farm Machinery  \\\n",
       "0                                                0   \n",
       "\n",
       "   gics_sub_industry_Agricultural Products  \\\n",
       "0                                        0   \n",
       "\n",
       "   gics_sub_industry_Air Freight & Logistics  gics_sub_industry_Airlines  \\\n",
       "0                                          0                           0   \n",
       "\n",
       "   gics_sub_industry_Apparel Retail  \\\n",
       "0                                 0   \n",
       "\n",
       "   gics_sub_industry_Apparel, Accessories & Luxury Goods  \\\n",
       "0                                                  0       \n",
       "\n",
       "   gics_sub_industry_Application Software  \\\n",
       "0                                       0   \n",
       "\n",
       "   gics_sub_industry_Asset Management & Custody Banks  \\\n",
       "0                                                  0    \n",
       "\n",
       "   gics_sub_industry_Auto Parts & Equipment  \\\n",
       "0                                         0   \n",
       "\n",
       "   gics_sub_industry_Automobile Manufacturers  \\\n",
       "0                                           0   \n",
       "\n",
       "   gics_sub_industry_Automotive Retail  gics_sub_industry_Biotechnology  \\\n",
       "0                                    0                                0   \n",
       "\n",
       "   gics_sub_industry_Brewers  gics_sub_industry_Broadcasting  \\\n",
       "0                          0                               0   \n",
       "\n",
       "   gics_sub_industry_Building Products  gics_sub_industry_Cable & Satellite  \\\n",
       "0                                    0                                    0   \n",
       "\n",
       "   gics_sub_industry_Casinos & Gaming  \\\n",
       "0                                   0   \n",
       "\n",
       "   gics_sub_industry_Communications Equipment  \\\n",
       "0                                           1   \n",
       "\n",
       "   gics_sub_industry_Computer & Electronics Retail  \\\n",
       "0                                                0   \n",
       "\n",
       "   gics_sub_industry_Construction & Engineering  \\\n",
       "0                                             0   \n",
       "\n",
       "   gics_sub_industry_Construction Machinery & Heavy Trucks  \\\n",
       "0                                                  0         \n",
       "\n",
       "   gics_sub_industry_Construction Materials  \\\n",
       "0                                         0   \n",
       "\n",
       "   gics_sub_industry_Consumer Electronics  gics_sub_industry_Consumer Finance  \\\n",
       "0                                       0                                   0   \n",
       "\n",
       "   gics_sub_industry_Copper  \\\n",
       "0                         0   \n",
       "\n",
       "   gics_sub_industry_Data Processing & Outsourced Services  \\\n",
       "0                                                  0         \n",
       "\n",
       "   gics_sub_industry_Department Stores  \\\n",
       "0                                    0   \n",
       "\n",
       "   gics_sub_industry_Distillers & Vintners  gics_sub_industry_Distributors  \\\n",
       "0                                        0                               0   \n",
       "\n",
       "   gics_sub_industry_Diversified Banks  \\\n",
       "0                                    0   \n",
       "\n",
       "   gics_sub_industry_Diversified Chemicals  \\\n",
       "0                                        0   \n",
       "\n",
       "   gics_sub_industry_Diversified Support Services  \\\n",
       "0                                               0   \n",
       "\n",
       "   gics_sub_industry_Drug Retail  gics_sub_industry_Electric Utilities  \\\n",
       "0                              0                                     0   \n",
       "\n",
       "   gics_sub_industry_Electrical Components & Equipment  \\\n",
       "0                                                  0     \n",
       "\n",
       "   gics_sub_industry_Electronic Components  \\\n",
       "0                                        0   \n",
       "\n",
       "   gics_sub_industry_Electronic Equipment & Instruments  \\\n",
       "0                                                  0      \n",
       "\n",
       "   gics_sub_industry_Electronic Manufacturing Services  \\\n",
       "0                                                  0     \n",
       "\n",
       "   gics_sub_industry_Environmental & Facilities Services  \\\n",
       "0                                                  0       \n",
       "\n",
       "   gics_sub_industry_Fertilizers & Agricultural Chemicals  \\\n",
       "0                                                  0        \n",
       "\n",
       "   gics_sub_industry_Financial Exchanges & Data  \\\n",
       "0                                             0   \n",
       "\n",
       "   gics_sub_industry_Food Distributors  gics_sub_industry_Food Retail  \\\n",
       "0                                    0                              0   \n",
       "\n",
       "   gics_sub_industry_Gas Utilities  \\\n",
       "0                                0   \n",
       "\n",
       "   gics_sub_industry_General Merchandise Stores  gics_sub_industry_Gold  \\\n",
       "0                                             0                       0   \n",
       "\n",
       "   gics_sub_industry_Health Care Distributors  \\\n",
       "0                                           0   \n",
       "\n",
       "   gics_sub_industry_Health Care Equipment  \\\n",
       "0                                        0   \n",
       "\n",
       "   gics_sub_industry_Health Care Facilities  \\\n",
       "0                                         0   \n",
       "\n",
       "   gics_sub_industry_Health Care REITs  \\\n",
       "0                                    0   \n",
       "\n",
       "   gics_sub_industry_Health Care Services  \\\n",
       "0                                       0   \n",
       "\n",
       "   gics_sub_industry_Health Care Supplies  \\\n",
       "0                                       0   \n",
       "\n",
       "   gics_sub_industry_Health Care Technology  \\\n",
       "0                                         0   \n",
       "\n",
       "   gics_sub_industry_Home Furnishings  \\\n",
       "0                                   0   \n",
       "\n",
       "   gics_sub_industry_Home Improvement Retail  gics_sub_industry_Homebuilding  \\\n",
       "0                                          0                               0   \n",
       "\n",
       "   gics_sub_industry_Hotel & Resort REITs  \\\n",
       "0                                       0   \n",
       "\n",
       "   gics_sub_industry_Hotels, Resorts & Cruise Lines  \\\n",
       "0                                                 0   \n",
       "\n",
       "   gics_sub_industry_Household Appliances  \\\n",
       "0                                       0   \n",
       "\n",
       "   gics_sub_industry_Household Products  \\\n",
       "0                                     0   \n",
       "\n",
       "   gics_sub_industry_Housewares & Specialties  \\\n",
       "0                                           0   \n",
       "\n",
       "   gics_sub_industry_Human Resource & Employment Services  \\\n",
       "0                                                  0        \n",
       "\n",
       "   gics_sub_industry_Hypermarkets & Super Centers  \\\n",
       "0                                               0   \n",
       "\n",
       "   gics_sub_industry_IT Consulting & Other Services  \\\n",
       "0                                                 0   \n",
       "\n",
       "   gics_sub_industry_Independent Power Producers & Energy Traders  \\\n",
       "0                                                  0                \n",
       "\n",
       "   gics_sub_industry_Industrial Conglomerates  \\\n",
       "0                                           0   \n",
       "\n",
       "   gics_sub_industry_Industrial Gases  gics_sub_industry_Industrial Machinery  \\\n",
       "0                                   0                                       0   \n",
       "\n",
       "   gics_sub_industry_Industrial REITs  gics_sub_industry_Insurance Brokers  \\\n",
       "0                                   0                                    0   \n",
       "\n",
       "   gics_sub_industry_Integrated Oil & Gas  \\\n",
       "0                                       0   \n",
       "\n",
       "   gics_sub_industry_Integrated Telecommunication Services  \\\n",
       "0                                                  0         \n",
       "\n",
       "   gics_sub_industry_Interactive Home Entertainment  \\\n",
       "0                                                 0   \n",
       "\n",
       "   gics_sub_industry_Interactive Media & Services  \\\n",
       "0                                               0   \n",
       "\n",
       "   gics_sub_industry_Internet & Direct Marketing Retail  \\\n",
       "0                                                  0      \n",
       "\n",
       "   gics_sub_industry_Internet Services & Infrastructure  \\\n",
       "0                                                  0      \n",
       "\n",
       "   gics_sub_industry_Investment Banking & Brokerage  \\\n",
       "0                                                 0   \n",
       "\n",
       "   gics_sub_industry_Leisure Products  \\\n",
       "0                                   0   \n",
       "\n",
       "   gics_sub_industry_Life & Health Insurance  \\\n",
       "0                                          0   \n",
       "\n",
       "   gics_sub_industry_Life Sciences Tools & Services  \\\n",
       "0                                                 0   \n",
       "\n",
       "   gics_sub_industry_Managed Health Care  \\\n",
       "0                                      0   \n",
       "\n",
       "   gics_sub_industry_Metal & Glass Containers  \\\n",
       "0                                           0   \n",
       "\n",
       "   gics_sub_industry_Motorcycle Manufacturers  \\\n",
       "0                                           0   \n",
       "\n",
       "   gics_sub_industry_Movies & Entertainment  \\\n",
       "0                                         0   \n",
       "\n",
       "   gics_sub_industry_Multi-Utilities  gics_sub_industry_Multi-line Insurance  \\\n",
       "0                                  0                                       0   \n",
       "\n",
       "   gics_sub_industry_Office REITs  gics_sub_industry_Oil & Gas Drilling  \\\n",
       "0                               0                                     0   \n",
       "\n",
       "   gics_sub_industry_Oil & Gas Equipment & Services  \\\n",
       "0                                                 0   \n",
       "\n",
       "   gics_sub_industry_Oil & Gas Exploration & Production  \\\n",
       "0                                                  0      \n",
       "\n",
       "   gics_sub_industry_Oil & Gas Refining & Marketing  \\\n",
       "0                                                 0   \n",
       "\n",
       "   gics_sub_industry_Oil & Gas Storage & Transportation  \\\n",
       "0                                                  0      \n",
       "\n",
       "   gics_sub_industry_Packaged Foods & Meats  \\\n",
       "0                                         0   \n",
       "\n",
       "   gics_sub_industry_Paper Packaging  gics_sub_industry_Personal Products  \\\n",
       "0                                  0                                    0   \n",
       "\n",
       "   gics_sub_industry_Pharmaceuticals  \\\n",
       "0                                  0   \n",
       "\n",
       "   gics_sub_industry_Property & Casualty Insurance  \\\n",
       "0                                                0   \n",
       "\n",
       "   gics_sub_industry_Publishing  gics_sub_industry_Railroads  \\\n",
       "0                             0                            0   \n",
       "\n",
       "   gics_sub_industry_Real Estate Services  gics_sub_industry_Regional Banks  \\\n",
       "0                                       0                                 0   \n",
       "\n",
       "   gics_sub_industry_Reinsurance  \\\n",
       "0                              0   \n",
       "\n",
       "   gics_sub_industry_Research & Consulting Services  \\\n",
       "0                                                 0   \n",
       "\n",
       "   gics_sub_industry_Residential REITs  gics_sub_industry_Restaurants  \\\n",
       "0                                    0                              0   \n",
       "\n",
       "   gics_sub_industry_Retail REITs  gics_sub_industry_Semiconductor Equipment  \\\n",
       "0                               0                                          0   \n",
       "\n",
       "   gics_sub_industry_Semiconductors  gics_sub_industry_Soft Drinks  \\\n",
       "0                                 0                              0   \n",
       "\n",
       "   gics_sub_industry_Specialized Consumer Services  \\\n",
       "0                                                0   \n",
       "\n",
       "   gics_sub_industry_Specialized REITs  gics_sub_industry_Specialty Chemicals  \\\n",
       "0                                    0                                      0   \n",
       "\n",
       "   gics_sub_industry_Specialty Stores  gics_sub_industry_Steel  \\\n",
       "0                                   0                        0   \n",
       "\n",
       "   gics_sub_industry_Systems Software  \\\n",
       "0                                   0   \n",
       "\n",
       "   gics_sub_industry_Technology Distributors  \\\n",
       "0                                          0   \n",
       "\n",
       "   gics_sub_industry_Technology Hardware, Storage & Peripherals  \\\n",
       "0                                                  0              \n",
       "\n",
       "   gics_sub_industry_Thrifts & Mortgage Finance  gics_sub_industry_Tobacco  \\\n",
       "0                                             0                          0   \n",
       "\n",
       "   gics_sub_industry_Trading Companies & Distributors  \\\n",
       "0                                                  0    \n",
       "\n",
       "   gics_sub_industry_Trucking  gics_sub_industry_Water Utilities  \\\n",
       "0                           0                                  0   \n",
       "\n",
       "   gics_sub_industry_Wireless Telecommunication Services  \n",
       "0                                                  0      "
      ]
     },
     "execution_count": 26,
     "metadata": {},
     "output_type": "execute_result"
    }
   ],
   "source": [
    "X.head(1)"
   ]
  },
  {
   "cell_type": "code",
   "execution_count": 27,
   "metadata": {},
   "outputs": [
    {
     "data": {
      "text/plain": [
       "0"
      ]
     },
     "execution_count": 27,
     "metadata": {},
     "output_type": "execute_result"
    }
   ],
   "source": [
    "df.isnull().sum().sum()"
   ]
  },
  {
   "cell_type": "markdown",
   "metadata": {},
   "source": [
    "### 5.5 - Train Test Split"
   ]
  },
  {
   "cell_type": "code",
   "execution_count": 28,
   "metadata": {
    "scrolled": true
   },
   "outputs": [],
   "source": [
    "X_train, X_test, y_train, y_test = train_test_split(X, y,\n",
    "                                                    random_state=42,\n",
    "                                                    stratify=y,\n",
    "                                                    test_size=0.2)"
   ]
  },
  {
   "cell_type": "markdown",
   "metadata": {},
   "source": [
    "### 5.6 - Oversample Data to Balance Classes"
   ]
  },
  {
   "cell_type": "code",
   "execution_count": 29,
   "metadata": {
    "scrolled": true
   },
   "outputs": [],
   "source": [
    "ros = RandomOverSampler(random_state=42)\n",
    "X_train_res, y_train_res = ros.fit_resample(pd.DataFrame(X_train, columns=X.columns),\n",
    "                                            pd.Series(y_train, name='target'))"
   ]
  },
  {
   "cell_type": "code",
   "execution_count": 30,
   "metadata": {},
   "outputs": [],
   "source": [
    "X_train_res = pd.DataFrame(X_train_res, columns=X.columns)"
   ]
  },
  {
   "cell_type": "code",
   "execution_count": 31,
   "metadata": {
    "scrolled": true
   },
   "outputs": [
    {
     "data": {
      "text/plain": [
       "(71652, 173)"
      ]
     },
     "execution_count": 31,
     "metadata": {},
     "output_type": "execute_result"
    }
   ],
   "source": [
    "X_train_res.shape"
   ]
  },
  {
   "cell_type": "code",
   "execution_count": 32,
   "metadata": {},
   "outputs": [],
   "source": [
    "y_train_res = pd.Series(y_train_res, name='target')"
   ]
  },
  {
   "cell_type": "code",
   "execution_count": 33,
   "metadata": {},
   "outputs": [
    {
     "data": {
      "text/plain": [
       "(71652,)"
      ]
     },
     "execution_count": 33,
     "metadata": {},
     "output_type": "execute_result"
    }
   ],
   "source": [
    "y_train_res.shape"
   ]
  },
  {
   "cell_type": "markdown",
   "metadata": {},
   "source": [
    "### 5.7 - Modeling\n",
    "> Define Function to Run Model and Print Results"
   ]
  },
  {
   "cell_type": "code",
   "execution_count": 34,
   "metadata": {
    "scrolled": true
   },
   "outputs": [],
   "source": [
    "results = {}"
   ]
  },
  {
   "cell_type": "code",
   "execution_count": 35,
   "metadata": {
    "scrolled": true
   },
   "outputs": [],
   "source": [
    "# Define function to run Pipeline + RandomizedSearchCV\n",
    "def run_model_rs(pipeline, parameters, cv=3, model_name=''):\n",
    "    \n",
    "    # Instantiate RandomizedSearchCV\n",
    "    rs = RandomizedSearchCV(pipeline,\n",
    "                            parameters,\n",
    "                            cv=cv,\n",
    "                            verbose=1,\n",
    "                            n_jobs=-1,\n",
    "                            n_iter=20)\n",
    "       \n",
    "    # Fit GridSearch to training data\n",
    "    rs.fit(pd.DataFrame(X_train_res, columns=X.columns), pd.Series(y_train_res, name='target'))\n",
    "    \n",
    "           \n",
    "    # Best mean score out of cross validation out of all models tested (cvec)\n",
    "    print(f'Best Score: {rs.best_score_}')\n",
    "    \n",
    "    # Best Paramenters\n",
    "    print(f'Best Parameters: {rs.best_params_}')\n",
    "    \n",
    "    # Save best model as gs_cvec_logreg_model\n",
    "    rs_model = rs.best_estimator_\n",
    "    \n",
    "    # Score model on training set.\n",
    "    print(f'Training Accuracy Score: {rs_model.score(X_train_res, y_train_res)}')\n",
    "\n",
    "    # Score model on testing set.\n",
    "    print(f'Testing Accuracy Score: {rs_model.score(X_test, y_test)}')\n",
    "    \n",
    "    # Predictions\n",
    "    pred = rs_model.predict(X_test)\n",
    "    \n",
    "    # Confusion Matrix\n",
    "    cm_df = pd.DataFrame(confusion_matrix(y_test, pred, labels=[0, 1, 2]),\n",
    "                         columns=['pred_down', 'pred_neutral', 'pred_up'],\n",
    "                         index=['true_down', 'true_neutral', 'true_up'])\n",
    "    print(' ')\n",
    "    print('Confusion Matrix:')\n",
    "    print(cm_df)\n",
    "    \n",
    "    # 'Append' accuracy scores to 'results' dictinoary\n",
    "    results[model_name] = [rs_model.score(X_train, y_train), rs_model.score(X_test, y_test)]\n",
    "\n",
    "    return rs_model"
   ]
  },
  {
   "cell_type": "markdown",
   "metadata": {},
   "source": [
    "### 5.7.1 - TF-IDF + Logistic Regression\n",
    "> [TF-IDF Vectorizer Documentation](https://scikit-learn.org/stable/modules/generated/sklearn.feature_extraction.text.TfidfVectorizer.html)\n",
    "|\n",
    "> [Logistic Regression Documentation](https://scikit-learn.org/stable/modules/generated/sklearn.linear_model.LogisticRegression.html)"
   ]
  },
  {
   "cell_type": "markdown",
   "metadata": {},
   "source": [
    "#### Define Pipeline - Only Documents"
   ]
  },
  {
   "cell_type": "code",
   "execution_count": 36,
   "metadata": {
    "scrolled": true
   },
   "outputs": [],
   "source": [
    "categorical_features = 'processed_text'\n",
    "categorical_transformer = Pipeline(steps=[('tfidf', TfidfVectorizer())])\n",
    "\n",
    "preprocessor_docs = ColumnTransformer(transformers=[\n",
    "        ('cat', categorical_transformer, categorical_features)])\n",
    "\n",
    "# Append classifier to preprocessing pipeline.\n",
    "# Now we have a full prediction pipeline.\n",
    "pipe_tfidf_logreg_docs = Pipeline(steps=[('preprocessor', preprocessor_docs),\n",
    "                                    ('logreg', LogisticRegression())])"
   ]
  },
  {
   "cell_type": "markdown",
   "metadata": {},
   "source": [
    "#### Define Pipeline - All Features"
   ]
  },
  {
   "cell_type": "code",
   "execution_count": 37,
   "metadata": {
    "scrolled": true
   },
   "outputs": [],
   "source": [
    "numeric_features = df.drop(columns=['company', 'release_date', 'security','processed_text', \n",
    "                                    'stock_change', 'index_change', 'normalized_change',\n",
    "                                    'movement', 'target']).columns\n",
    "\n",
    "numeric_transformer = Pipeline(steps=[('scaler', StandardScaler())])\n",
    "\n",
    "categorical_features = 'processed_text'\n",
    "categorical_transformer = Pipeline(steps=[('tfidf', TfidfVectorizer())])\n",
    "\n",
    "preprocessor_all = ColumnTransformer(transformers=[\n",
    "        ('num', numeric_transformer, numeric_features),\n",
    "        ('cat', categorical_transformer, categorical_features)])\n",
    "\n",
    "# Append classifier to preprocessing pipeline.\n",
    "# Now we have a full prediction pipeline.\n",
    "pipe_tfidf_logreg_all = Pipeline(steps=[('preprocessor', preprocessor_all),\n",
    "                                    ('logreg', LogisticRegression())])\n"
   ]
  },
  {
   "cell_type": "markdown",
   "metadata": {},
   "source": [
    "#### Define Parameters"
   ]
  },
  {
   "cell_type": "code",
   "execution_count": 38,
   "metadata": {
    "scrolled": true
   },
   "outputs": [],
   "source": [
    "params_tfidf_logreg = {\n",
    "    'preprocessor__cat__tfidf__max_features' : [3500],\n",
    "    'preprocessor__cat__tfidf__ngram_range': [(1,1)],\n",
    "    'preprocessor__cat__tfidf__max_df': [.98],\n",
    "    'preprocessor__cat__tfidf__min_df': [1],\n",
    "    'logreg__penalty': ['l2'],\n",
    "    'logreg__C': [100]\n",
    "}"
   ]
  },
  {
   "cell_type": "markdown",
   "metadata": {},
   "source": [
    "#### Run Model - Only Documents"
   ]
  },
  {
   "cell_type": "code",
   "execution_count": 39,
   "metadata": {
    "scrolled": true
   },
   "outputs": [
    {
     "name": "stdout",
     "output_type": "stream",
     "text": [
      "Fitting 3 folds for each of 1 candidates, totalling 3 fits\n"
     ]
    },
    {
     "name": "stderr",
     "output_type": "stream",
     "text": [
      "/Library/Frameworks/Python.framework/Versions/3.7/lib/python3.7/site-packages/sklearn/model_selection/_search.py:266: UserWarning: The total space of parameters 1 is smaller than n_iter=20. Running 1 iterations. For exhaustive searches, use GridSearchCV.\n",
      "  % (grid_size, self.n_iter, grid_size), UserWarning)\n",
      "[Parallel(n_jobs=-1)]: Using backend LokyBackend with 4 concurrent workers.\n",
      "[Parallel(n_jobs=-1)]: Done   3 out of   3 | elapsed: 12.5min finished\n"
     ]
    },
    {
     "name": "stdout",
     "output_type": "stream",
     "text": [
      "Best Score: 0.6125718751744543\n",
      "Best Parameters: {'preprocessor__cat__tfidf__ngram_range': (1, 1), 'preprocessor__cat__tfidf__min_df': 1, 'preprocessor__cat__tfidf__max_features': 3500, 'preprocessor__cat__tfidf__max_df': 0.98, 'logreg__penalty': 'l2', 'logreg__C': 100}\n",
      "Training Accuracy Score: 0.6635544018310724\n",
      "Testing Accuracy Score: 0.5714285714285714\n",
      " \n",
      "Confusion Matrix:\n",
      "              pred_down  pred_neutral  pred_up\n",
      "true_down           512           398      439\n",
      "true_neutral       1090          3912      969\n",
      "true_up             435           419      576\n"
     ]
    }
   ],
   "source": [
    "logreg_docs = run_model_rs(pipe_tfidf_logreg_docs, params_tfidf_logreg, cv=3, model_name='documents')"
   ]
  },
  {
   "cell_type": "markdown",
   "metadata": {},
   "source": [
    "#### Run Model - All Features"
   ]
  },
  {
   "cell_type": "code",
   "execution_count": 40,
   "metadata": {
    "scrolled": false
   },
   "outputs": [
    {
     "name": "stdout",
     "output_type": "stream",
     "text": [
      "Fitting 3 folds for each of 1 candidates, totalling 3 fits\n"
     ]
    },
    {
     "name": "stderr",
     "output_type": "stream",
     "text": [
      "/Library/Frameworks/Python.framework/Versions/3.7/lib/python3.7/site-packages/sklearn/model_selection/_search.py:266: UserWarning: The total space of parameters 1 is smaller than n_iter=20. Running 1 iterations. For exhaustive searches, use GridSearchCV.\n",
      "  % (grid_size, self.n_iter, grid_size), UserWarning)\n",
      "[Parallel(n_jobs=-1)]: Using backend LokyBackend with 4 concurrent workers.\n",
      "[Parallel(n_jobs=-1)]: Done   3 out of   3 | elapsed: 31.2min finished\n"
     ]
    },
    {
     "name": "stdout",
     "output_type": "stream",
     "text": [
      "Best Score: 0.6215039356891643\n",
      "Best Parameters: {'preprocessor__cat__tfidf__ngram_range': (1, 1), 'preprocessor__cat__tfidf__min_df': 1, 'preprocessor__cat__tfidf__max_features': 3500, 'preprocessor__cat__tfidf__max_df': 0.98, 'logreg__penalty': 'l2', 'logreg__C': 100}\n",
      "Training Accuracy Score: 0.6742449617596159\n",
      "Testing Accuracy Score: 0.5770285714285714\n",
      " \n",
      "Confusion Matrix:\n",
      "              pred_down  pred_neutral  pred_up\n",
      "true_down           519           385      445\n",
      "true_neutral       1053          3943      975\n",
      "true_up             442           401      587\n"
     ]
    }
   ],
   "source": [
    "logreg_all = run_model_rs(pipe_tfidf_logreg_all, params_tfidf_logreg, cv=3, model_name='tfidf_logreg_all')"
   ]
  },
  {
   "cell_type": "markdown",
   "metadata": {},
   "source": [
    "### 5.8 - Plot Results - Train / Test Accuracy Scores"
   ]
  },
  {
   "cell_type": "code",
   "execution_count": 41,
   "metadata": {
    "scrolled": true
   },
   "outputs": [
    {
     "data": {
      "text/html": [
       "<div>\n",
       "<style scoped>\n",
       "    .dataframe tbody tr th:only-of-type {\n",
       "        vertical-align: middle;\n",
       "    }\n",
       "\n",
       "    .dataframe tbody tr th {\n",
       "        vertical-align: top;\n",
       "    }\n",
       "\n",
       "    .dataframe thead th {\n",
       "        text-align: right;\n",
       "    }\n",
       "</style>\n",
       "<table border=\"1\" class=\"dataframe\">\n",
       "  <thead>\n",
       "    <tr style=\"text-align: right;\">\n",
       "      <th></th>\n",
       "      <th>Train</th>\n",
       "      <th>Test</th>\n",
       "    </tr>\n",
       "  </thead>\n",
       "  <tbody>\n",
       "    <tr>\n",
       "      <td>documents</td>\n",
       "      <td>0.675248</td>\n",
       "      <td>0.571429</td>\n",
       "    </tr>\n",
       "    <tr>\n",
       "      <td>tfidf_logreg_all</td>\n",
       "      <td>0.680562</td>\n",
       "      <td>0.577029</td>\n",
       "    </tr>\n",
       "  </tbody>\n",
       "</table>\n",
       "</div>"
      ],
      "text/plain": [
       "                     Train      Test\n",
       "documents         0.675248  0.571429\n",
       "tfidf_logreg_all  0.680562  0.577029"
      ]
     },
     "execution_count": 41,
     "metadata": {},
     "output_type": "execute_result"
    }
   ],
   "source": [
    "results_df = pd.DataFrame(results, index=['Train', 'Test']).T\n",
    "results_df"
   ]
  },
  {
   "cell_type": "code",
   "execution_count": 53,
   "metadata": {
    "scrolled": true
   },
   "outputs": [
    {
     "data": {
      "image/png": "[encoded data removed]",
      "text/plain": [
       "<Figure size 1152x360 with 1 Axes>"
      ]
     },
     "metadata": {},
     "output_type": "display_data"
    }
   ],
   "source": [
    "# Create plot fot 'Test Accuracy Scores'\n",
    "results_df.plot(kind='bar', figsize=(16,5), color=['orange', 'navy'], alpha=.6)\n",
    "\n",
    "plt.title('Train and Test Accuracy Scores', size=16, pad=10)\n",
    "plt.axhline(0.5, color='r')\n",
    "# plt.axhline(0.75, color='b')\n",
    "# plt.axhline(0.33, color='y', )\n",
    "plt.ylabel('Test Accuracy', size=16)\n",
    "plt.xticks([0,1], ['documents', 'all_features'],size=14, rotation=0)\n",
    "plt.yticks(size=14)\n",
    "plt.ylim(0, 1)\n",
    "plt.legend(prop={'size': 14});"
   ]
  },
  {
   "cell_type": "markdown",
   "metadata": {},
   "source": [
    "### 5.9 - Feature Importance"
   ]
  },
  {
   "cell_type": "code",
   "execution_count": 43,
   "metadata": {
    "scrolled": true
   },
   "outputs": [],
   "source": [
    "feature_importance = pd.concat([pd.DataFrame(df.drop(columns=['company', 'release_date', 'security',\n",
    "                                         'stock_change', 'index_change',\n",
    "                                         'normalized_change', 'movement', 'target']).columns),\n",
    "                     pd.DataFrame(np.transpose(logreg_all.named_steps['logreg'].coef_),\n",
    "                        columns=['down','neutral','up'])], axis = 1).dropna()\n",
    "\n",
    "feature_importance.rename(columns={0:'features'}, inplace=True)\n",
    "feature_importance.set_index('features', inplace=True)"
   ]
  },
  {
   "cell_type": "code",
   "execution_count": 44,
   "metadata": {
    "scrolled": false
   },
   "outputs": [
    {
     "data": {
      "image/png": "[encoded data removed]",
      "text/plain": [
       "<Figure size 720x432 with 1 Axes>"
      ]
     },
     "metadata": {},
     "output_type": "display_data"
    }
   ],
   "source": [
    "feature_importance.sort_values('up', ascending=False)[['up']].head(15).plot(kind='barh',\n",
    "                                                                            figsize=(10,6),\n",
    "                                                                            color='g',\n",
    "                                                                            alpha=.6)\n",
    "plt.ylabel('')\n",
    "plt.yticks(size=13)\n",
    "plt.legend(prop={'size': 14})\n",
    "plt.title('Top 15 Numeric Features - Up', size=16, pad=10);"
   ]
  },
  {
   "cell_type": "code",
   "execution_count": 45,
   "metadata": {
    "scrolled": false
   },
   "outputs": [
    {
     "data": {
      "image/png": "[encoded data removed]",
      "text/plain": [
       "<Figure size 720x432 with 1 Axes>"
      ]
     },
     "metadata": {},
     "output_type": "display_data"
    }
   ],
   "source": [
    "feature_importance.sort_values('down', ascending=False)[['down']].head(15).plot(kind='barh',\n",
    "                                                                            figsize=(10,6),\n",
    "                                                                            color='orange',\n",
    "                                                                            alpha=.6)\n",
    "plt.ylabel('')\n",
    "plt.yticks(size=13)\n",
    "plt.legend(prop={'size': 14})\n",
    "plt.title('Top 15 Numeric Features - Down', size=16, pad=10);"
   ]
  },
  {
   "cell_type": "code",
   "execution_count": 46,
   "metadata": {
    "scrolled": false
   },
   "outputs": [
    {
     "data": {
      "image/png": "[encoded data removed]",
      "text/plain": [
       "<Figure size 720x432 with 1 Axes>"
      ]
     },
     "metadata": {},
     "output_type": "display_data"
    }
   ],
   "source": [
    "feature_importance.sort_values('neutral', ascending=False)[['neutral']].head(15).plot(kind='barh',\n",
    "                                                                            figsize=(10,6),\n",
    "                                                                            color='navy',\n",
    "                                                                            alpha=.6)\n",
    "plt.ylabel('')\n",
    "plt.yticks(size=13)\n",
    "plt.legend(prop={'size': 14})\n",
    "plt.title('Top 15 Numeric Features - Neutral', size=16, pad=10);"
   ]
  },
  {
   "cell_type": "markdown",
   "metadata": {},
   "source": [
    "### 5.10 - Most Frequent Words"
   ]
  },
  {
   "cell_type": "code",
   "execution_count": 47,
   "metadata": {
    "scrolled": true
   },
   "outputs": [],
   "source": [
    "# Use Porter Stemmer to Tokenize and Get Most Common Words\n",
    "tfidf = TfidfVectorizer(max_features=3500,\n",
    "                        ngram_range=(1,1),\n",
    "                        max_df=0.98,\n",
    "                        min_df=1)\n",
    "\n",
    "sparse_tfidf = tfidf.fit_transform(X_test['processed_text'])\n",
    "\n",
    "sparse_tfidf_df = pd.DataFrame(sparse_tfidf.toarray(), columns=tfidf.get_feature_names())\n",
    "\n",
    "sparse_tfidf_df['preds'] = logreg_all.predict(X_test)"
   ]
  },
  {
   "cell_type": "code",
   "execution_count": 48,
   "metadata": {
    "scrolled": true
   },
   "outputs": [],
   "source": [
    "# Vegetarian Most Common words (Top 10)\n",
    "words_down = pd.DataFrame(sparse_tfidf_df.loc[sparse_tfidf_df['preds']==0, :] \\\n",
    "                                .sum().sort_values(ascending=False), columns=['word_count'])[:10]"
   ]
  },
  {
   "cell_type": "code",
   "execution_count": 49,
   "metadata": {
    "scrolled": true
   },
   "outputs": [],
   "source": [
    "words_neutral = pd.DataFrame(sparse_tfidf_df.loc[sparse_tfidf_df['preds']==1, :] \\\n",
    "                                .sum().sort_values(ascending=False), columns=['word_count'])[1:11]"
   ]
  },
  {
   "cell_type": "code",
   "execution_count": 50,
   "metadata": {
    "scrolled": true
   },
   "outputs": [],
   "source": [
    "words_up = pd.DataFrame(sparse_tfidf_df.loc[sparse_tfidf_df['preds']==2, :] \\\n",
    "                                .sum().sort_values(ascending=False), columns=['word_count'])[1:11]"
   ]
  },
  {
   "cell_type": "code",
   "execution_count": 51,
   "metadata": {
    "scrolled": true
   },
   "outputs": [
    {
     "data": {
      "text/html": [
       "<div>\n",
       "<style scoped>\n",
       "    .dataframe tbody tr th:only-of-type {\n",
       "        vertical-align: middle;\n",
       "    }\n",
       "\n",
       "    .dataframe tbody tr th {\n",
       "        vertical-align: top;\n",
       "    }\n",
       "\n",
       "    .dataframe thead th {\n",
       "        text-align: right;\n",
       "    }\n",
       "</style>\n",
       "<table border=\"1\" class=\"dataframe\">\n",
       "  <thead>\n",
       "    <tr style=\"text-align: right;\">\n",
       "      <th></th>\n",
       "      <th>word_count</th>\n",
       "    </tr>\n",
       "  </thead>\n",
       "  <tbody>\n",
       "    <tr>\n",
       "      <td>net</td>\n",
       "      <td>208.995637</td>\n",
       "    </tr>\n",
       "  </tbody>\n",
       "</table>\n",
       "</div>"
      ],
      "text/plain": [
       "     word_count\n",
       "net  208.995637"
      ]
     },
     "execution_count": 51,
     "metadata": {},
     "output_type": "execute_result"
    }
   ],
   "source": [
    "words_up[:1]"
   ]
  },
  {
   "cell_type": "code",
   "execution_count": 52,
   "metadata": {
    "scrolled": false
   },
   "outputs": [
    {
     "data": {
      "image/png": "[encoded data removed]",
      "text/plain": [
       "<Figure size 1152x720 with 3 Axes>"
      ]
     },
     "metadata": {},
     "output_type": "display_data"
    }
   ],
   "source": [
    "# Plot Most Common Words\n",
    "fig, axes = plt.subplots(3, 1, figsize=(16, 10))\n",
    "\n",
    "axes[0].bar(words_down.index, height=words_down['word_count'], color='orange', alpha=0.6)\n",
    "axes[0].set_title('TF-IDF Score - Down', size=16, pad=10)\n",
    "axes[0].set_ylabel('Score', size=14)\n",
    "axes[0].tick_params(labelsize=13)\n",
    "axes[0].set_ylim(0,210)\n",
    "\n",
    "axes[1].bar(words_neutral.index, height=words_neutral['word_count'], color='navy', alpha=0.6)\n",
    "axes[1].set_title('TF-IDF Score -Neutral', size=16, pad=10)\n",
    "axes[1].set_ylabel('Score', size=14)\n",
    "axes[1].tick_params(labelsize=13)\n",
    "axes[1].set_ylim(0,1000)\n",
    "\n",
    "axes[2].bar(words_up.index, height=words_up['word_count'], color='g', alpha=0.6)\n",
    "axes[2].set_title('TF-IDF Score - Up', size=16, pad=10)\n",
    "axes[2].set_ylabel('Score', size=14)\n",
    "axes[2].tick_params(labelsize=13)\n",
    "axes[2].set_ylim(0,210)\n",
    "plt.tight_layout()"
   ]
  }
 ],
 "metadata": {
  "kernelspec": {
   "display_name": "Python 3",
   "language": "python",
   "name": "python3"
  },
  "language_info": {
   "codemirror_mode": {
    "name": "ipython",
    "version": 3
   },
   "file_extension": ".py",
   "mimetype": "text/x-python",
   "name": "python",
   "nbconvert_exporter": "python",
   "pygments_lexer": "ipython3",
   "version": "3.7.2"
  }
 },
 "nbformat": 4,
 "nbformat_minor": 2
}
